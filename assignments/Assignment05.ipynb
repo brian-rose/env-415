{
 "cells": [
  {
   "cell_type": "markdown",
   "metadata": {},
   "source": [
    "# ENV / ATM 415: Climate Laboratory, Spring 2016\n",
    "\n",
    "## Assignment 5  (complete)\n",
    "\n",
    "Out: Tuesday April 5, 2016\n",
    "\n",
    "Due: Thursday April 14, 2016 at 10:15 am."
   ]
  },
  {
   "cell_type": "markdown",
   "metadata": {},
   "source": [
    "You may submit written and mathematical answers in a notebook, on paper, or scanned images, your choice.\n",
    "\n",
    "Questions 3,4 and 5 require some coding and will need to be submitted in a notebook as you've done for past assignments.\n",
    "_________________________________"
   ]
  },
  {
   "cell_type": "markdown",
   "metadata": {
    "collapsed": true
   },
   "source": [
    "## Question 1\n",
    "\n",
    "(Primer Section 4.8, Review question 1)\n",
    "\n",
    "Look up the meaning of the term 'Earth system' in as many sources as required to produce five different definitions. Note the sources and datess of the definitions as well as the definitions themselves. Can the climates in each of these give Earth systems be simulated using a climate model? If yes, what type of model and, if no, why not?"
   ]
  },
  {
   "cell_type": "markdown",
   "metadata": {},
   "source": [
    "## Question 2\n",
    "\n",
    "(Primer Section 3.8, Review question 3)\n",
    "\n",
    "What is the meaning of the term 'convective adjustment'? How is it applied to low-resolution climate models? How does such 'adjustment' differ from true atmospheric convection? How might different parameterizations of such 'convection' affect the sensitivity of a climate model?"
   ]
  },
  {
   "cell_type": "markdown",
   "metadata": {},
   "source": [
    "## Question 3"
   ]
  },
  {
   "cell_type": "markdown",
   "metadata": {
    "collapsed": true
   },
   "source": [
    "Consider the two-layer \"leaky greenhouse\" (or grey radiation) model that we analyzed in class. To refresh your memory, you can find a sketch of the model and some mathematical notes [here](http://nbviewer.jupyter.org/github/brian-rose/ClimateModeling_courseware/blob/master/Lectures/Lecture06%20--%20Elementary%20greenhouse%20models.ipynb).\n",
    "\n",
    "Here you will use this model to investigate the **radiative effects of clouds**.\n",
    "\n",
    "Clouds simultaneously **reflect shortwave radiation** and **absorb longwave radiation**. These two effects often oppose each other in nature, and which one is stronger depends (among other things) on whether the clouds are **low** or **high** (i.e. in layer 0 or layer 1).\n",
    "\n",
    "For this question we will suppose (as we did in class) that there is **no absorption of shortwave radiation** in the atmosphere.\n",
    "\n",
    "(a) Suppose a cloud reflects a fraction $\\alpha_c$ of the shortwave beam incoming from above. $\\alpha_c$ is a number between zero and one. Provide a coherent argument (in words, sketches, and/or equations) for why the **shortwave** effects cloud should alway be a **cooling** of the surface. Is this cooling effect different if the cloud is low or high? Explain.\n",
    "\n",
    "(b) A cloud will **increase the longwave absorptivity / emissivity** of the layer in which it resides. We can represent this in the two-layer atmosphere by letting the absorptivity of a cloudy layer be $\\epsilon + \\epsilon_c$, where $\\epsilon_c$ is an additional absorptivity due to the cloud. Derive an algebraic expression for the OLR in terms of the temperatures $T_s, T_0, T_1$ and the emissivities $\\epsilon, \\epsilon_c$ for two different cases:\n",
    "- a low cloud (the additional $\\epsilon_c$ is in layer 0)\n",
    "- a high cloud (the additional $\\epsilon_c$ is in layer 1)\n",
    "\n",
    "(c) Now use the tuned numerical values we used in class:\n",
    "- $T_s = 288$ K\n",
    "- $T_0 = 275$ K\n",
    "- $T_1 = 230$ K\n",
    "- $\\epsilon = 0.58$\n",
    "\n",
    "and take $\\epsilon_c = 0.2$\n",
    "\n",
    "(i) Repeat the following for both a high cloud and a low cloud:\n",
    "- Calculate the **difference in OLR** due to the presence of the cloud, compared to the case with no cloud. \n",
    "- Does this represent a warming or cooling effect?\n",
    "\n",
    "(ii) Which one has a larger effect, the low cloud or the high cloud?\n",
    "\n",
    "(d) Based on your results in parts (a) - (c), which do you think is more likely to produce a **net warming effect** on the climate: a low cloud or a high cloud? Give an explanation in words.\n",
    "\n",
    "(e) How would your answer change if the atmosphere were **isothermal**, i.e. $T_s = T_0 = T_1$?"
   ]
  },
  {
   "cell_type": "markdown",
   "metadata": {
    "collapsed": true
   },
   "source": [
    "## Question 4\n",
    "\n",
    "Using the climatological air temperature data from the NCEP Reanalysis (the file `'air.mon.1981-2010.ltm.nc'`), produce a nicely labeled contour plot of the observed cross-section of **annual, zonal average air temperature** in latitude and vertical height.\n",
    "\n",
    "To convert from pressure $p$ to height $Z$, use this (approximate) formula:\n",
    "\n",
    "$$ Z = -(8 km) \\log\\left(\\frac{p}{1000 hPa} \\right) $$\n",
    "\n",
    "Try to make sure your code is clear and well-commented so it's obvious what you are doing."
   ]
  },
  {
   "cell_type": "markdown",
   "metadata": {},
   "source": [
    "## Question 5\n",
    "\n",
    "In our previous notes we constructed a single-column Radiative-Convective model with spectral channels using `climlab.BandRCModel`, and put ozone in the model using the observed, global annual mean ozone profile. Here you will use this same model but follow a tuning procedure to adjust the equilibrium surface temperature in that model.\n",
    "\n",
    "a) Set up the model using the same input parameters as we did before. Recall that this involved using the same set of vertical pressure levels as the ozone data. Set the ozone concentration to the observed annual, global average. Run this model out to radiative-convective equilibrium, and verify that the surface temperature is NOT close to 288 K.\n",
    "\n",
    "b) You will adjust the **surface albedo** so that the equilibrium surface temperature is close to 288 K.\n",
    "\n",
    "This parameter is part of the Shortwave radiation subprocess. You will see that if you have a model called `mymodel`, the albedo parameter is avaiable as follows:\n",
    "\n",
    "```\n",
    "mymodel.subprocess['SW'].albedo_sfc\n",
    "```\n",
    "\n",
    "You can change the value simply by doing something like\n",
    "```\n",
    "mymodel.subprocess['SW'].albedo_sfc = 0.3\n",
    "```\n",
    "\n",
    "It is also possible to specify this parameter as an input when you first create the model, e.g.\n",
    "```\n",
    "mymodel = climlab.BandRCModel(albedo_sfc = 0.3)\n",
    "```\n",
    "\n",
    "Find the surface albedo value that gives an equilibrium temperature near 288 K for this model. Explain the method you used to find this value.\n",
    "\n",
    "c) Make a nicely labeled plot of the air temperature as a function of height $Z$ for your tuned-up model in Radiative-Convective Equilibrium. Based on your plot, what is the approximate top of the convectively-adjusted layer?"
   ]
  },
  {
   "cell_type": "markdown",
   "metadata": {},
   "source": [
    "## Question 6\n",
    "\n",
    "In this question you will use another version of this model to calculate radiative-convective equilibrium *as a function of latitude*. You will create a model that has both *pressure* and *latitude* as coordinates. This model will have no horizontal heat transport. It is essentially just a collection of single column models, one for each latitude band. Each column doesn't really know anything about the state of its neighbors.\n",
    "\n",
    "a) Create a new instance of `climlab.BandRCModel` using the same parameters as your tuned up version from the previous question. But this time, when you first create the model, include another input argument `lat=mylatarray`, where `mylatarray` is some array of latitude points. You will probably find it convenient to use the same latitude points as the ozone data.\n",
    "\n",
    "Verify that this creates a model with both vertical (pressure) and latitude dimensions, so that the air temperature state variable `Tatm` is a 2D array.\n",
    "\n",
    "b) Now replace the constant fixed insolation ($Q = 341$ W/m2) that we used for the single-column model with the actual annual-mean insolation at each latitude. The following code will accomplish this. In this example `bigmodel` is the model you just created in part (a)\n",
    "\n",
    "```\n",
    "insolation = climlab.radiation.insolation.AnnualMeanInsolation(domains=bigmodel.Ts.domain)\n",
    "bigmodel.add_subprocess('insolation', insolation)\n",
    "bigmodel.subprocess.SW.flux_from_space = bigmodel.subprocess.insolation.insolation\n",
    "```\n",
    "\n",
    "c) Use the observed **annual, zonal** average ozone data to set the ozone concentration in your new model.\n",
    "\n",
    "d) Run this model out to Radiative-Convective Equilibrium. Make a nicely labeled line plot of the surface temperature as a function of latitude.\n",
    "\n",
    "e) Make a nicely labeled contour plot of the air temperature as a function of latitude and vertical height $Z$. \n",
    "\n",
    "f) Compare this graph of RCE temperatures to observed temperatures you plotted in Question 4. Discuss the similarities and differences between these two graphs in as much detail as you think is relevant. What do you think are some reasons for any discrepancies you noted between the two?"
   ]
  },
  {
   "cell_type": "code",
   "execution_count": null,
   "metadata": {
    "collapsed": true
   },
   "outputs": [],
   "source": []
  }
 ],
 "metadata": {
  "kernelspec": {
   "display_name": "Python 2",
   "language": "python",
   "name": "python2"
  },
  "language_info": {
   "codemirror_mode": {
    "name": "ipython",
    "version": 2
   },
   "file_extension": ".py",
   "mimetype": "text/x-python",
   "name": "python",
   "nbconvert_exporter": "python",
   "pygments_lexer": "ipython2",
   "version": "2.7.11"
  }
 },
 "nbformat": 4,
 "nbformat_minor": 0
}
