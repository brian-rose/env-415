{
 "cells": [
  {
   "cell_type": "markdown",
   "metadata": {},
   "source": [
    "# ENV / ATM 415: Climate Laboratory\n",
    "\n",
    "## Some examples of working with data in NetCDF files\n",
    "\n",
    "Live notes from class on Thursday April 7 2016"
   ]
  },
  {
   "cell_type": "code",
   "execution_count": 38,
   "metadata": {
    "collapsed": false
   },
   "outputs": [],
   "source": [
    "%matplotlib inline"
   ]
  },
  {
   "cell_type": "code",
   "execution_count": 39,
   "metadata": {
    "collapsed": false
   },
   "outputs": [],
   "source": [
    "import netCDF4 as nc\n",
    "import numpy as np\n",
    "import matplotlib.pyplot as plt"
   ]
  },
  {
   "cell_type": "code",
   "execution_count": 40,
   "metadata": {
    "collapsed": false
   },
   "outputs": [
    {
     "data": {
      "text/plain": [
       "<type 'netCDF4._netCDF4.Dataset'>\n",
       "root group (NETCDF4_CLASSIC data model, file format UNDEFINED):\n",
       "    description:  Data from NCEP initialized reanalysis (4x/day).  These are interpolated to pressure surfaces from model (sigma) surfaces.\n",
       "    platform: Model\n",
       "    Conventions: COARDS\n",
       "    not_missing_threshold_percent: minimum 3% values input to have non-missing output value\n",
       "    history: Created 2011/07/12 by doMonthLTM\n",
       "Converted to chunked, deflated non-packed NetCDF4 2014/09\n",
       "    title: monthly ltm air from the NCEP Reanalysis\n",
       "    References: http://www.esrl.noaa.gov/psd/data/gridded/data.ncep.reanalysis.derived.html\n",
       "    dimensions(sizes): lon(144), lat(73), level(17), time(12), nbnds(2)\n",
       "    variables(dimensions): float32 \u001b[4mlevel\u001b[0m(level), float32 \u001b[4mlat\u001b[0m(lat), float32 \u001b[4mlon\u001b[0m(lon), float64 \u001b[4mtime\u001b[0m(time), float64 \u001b[4mclimatology_bounds\u001b[0m(time,nbnds), float32 \u001b[4mair\u001b[0m(time,level,lat,lon), float32 \u001b[4mvalid_yr_count\u001b[0m(time,level,lat,lon)\n",
       "    groups: "
      ]
     },
     "execution_count": 40,
     "metadata": {},
     "output_type": "execute_result"
    }
   ],
   "source": [
    "nc.Dataset('air.mon.1981-2010.ltm.nc')"
   ]
  },
  {
   "cell_type": "code",
   "execution_count": 41,
   "metadata": {
    "collapsed": true
   },
   "outputs": [],
   "source": [
    "air = nc.Dataset('air.mon.1981-2010.ltm.nc')"
   ]
  },
  {
   "cell_type": "code",
   "execution_count": 42,
   "metadata": {
    "collapsed": false
   },
   "outputs": [
    {
     "name": "stdout",
     "output_type": "stream",
     "text": [
      "<type 'netCDF4._netCDF4.Dataset'>\n",
      "root group (NETCDF4_CLASSIC data model, file format UNDEFINED):\n",
      "    description:  Data from NCEP initialized reanalysis (4x/day).  These are interpolated to pressure surfaces from model (sigma) surfaces.\n",
      "    platform: Model\n",
      "    Conventions: COARDS\n",
      "    not_missing_threshold_percent: minimum 3% values input to have non-missing output value\n",
      "    history: Created 2011/07/12 by doMonthLTM\n",
      "Converted to chunked, deflated non-packed NetCDF4 2014/09\n",
      "    title: monthly ltm air from the NCEP Reanalysis\n",
      "    References: http://www.esrl.noaa.gov/psd/data/gridded/data.ncep.reanalysis.derived.html\n",
      "    dimensions(sizes): lon(144), lat(73), level(17), time(12), nbnds(2)\n",
      "    variables(dimensions): float32 \u001b[4mlevel\u001b[0m(level), float32 \u001b[4mlat\u001b[0m(lat), float32 \u001b[4mlon\u001b[0m(lon), float64 \u001b[4mtime\u001b[0m(time), float64 \u001b[4mclimatology_bounds\u001b[0m(time,nbnds), float32 \u001b[4mair\u001b[0m(time,level,lat,lon), float32 \u001b[4mvalid_yr_count\u001b[0m(time,level,lat,lon)\n",
      "    groups: \n",
      "\n"
     ]
    }
   ],
   "source": [
    "print air"
   ]
  },
  {
   "cell_type": "code",
   "execution_count": 43,
   "metadata": {
    "collapsed": false
   },
   "outputs": [
    {
     "data": {
      "text/plain": [
       "OrderedDict([(u'level', <type 'netCDF4._netCDF4.Variable'>\n",
       "              float32 level(level)\n",
       "                  units: millibar\n",
       "                  long_name: Level\n",
       "                  positive: down\n",
       "                  GRIB_id: 100\n",
       "                  GRIB_name: hPa\n",
       "                  actual_range: [ 1000.    10.]\n",
       "                  axis: Z\n",
       "              unlimited dimensions: \n",
       "              current shape = (17,)\n",
       "              filling on, default _FillValue of 9.96920996839e+36 used),\n",
       "             (u'lat', <type 'netCDF4._netCDF4.Variable'>\n",
       "              float32 lat(lat)\n",
       "                  units: degrees_north\n",
       "                  actual_range: [ 90. -90.]\n",
       "                  long_name: Latitude\n",
       "                  standard_name: latitude\n",
       "                  axis: Y\n",
       "              unlimited dimensions: \n",
       "              current shape = (73,)\n",
       "              filling on, default _FillValue of 9.96920996839e+36 used),\n",
       "             (u'lon', <type 'netCDF4._netCDF4.Variable'>\n",
       "              float32 lon(lon)\n",
       "                  units: degrees_east\n",
       "                  long_name: Longitude\n",
       "                  actual_range: [   0.   357.5]\n",
       "                  standard_name: longitude\n",
       "                  axis: X\n",
       "              unlimited dimensions: \n",
       "              current shape = (144,)\n",
       "              filling on, default _FillValue of 9.96920996839e+36 used),\n",
       "             (u'time', <type 'netCDF4._netCDF4.Variable'>\n",
       "              float64 time(time)\n",
       "                  long_name: Time\n",
       "                  delta_t: 0000-01-00 00:00:00\n",
       "                  avg_period: 0030-00-00 00:00:00\n",
       "                  prev_avg_period: 0000-01-00 00:00:00\n",
       "                  standard_name: time\n",
       "                  axis: T\n",
       "                  climatology: climatology_bounds\n",
       "                  climo_period: 1981/01/01 - 2010/12/31\n",
       "                  interpreted_actual_range: 0001/01/01 00:00:00 - 0001/12/01 00:00:00\n",
       "                  units: days since 1800-01-01 00:00:0.0\n",
       "                  actual_range: [-657073. -656739.]\n",
       "              unlimited dimensions: \n",
       "              current shape = (12,)\n",
       "              filling on, default _FillValue of 9.96920996839e+36 used),\n",
       "             (u'climatology_bounds', <type 'netCDF4._netCDF4.Variable'>\n",
       "              float64 climatology_bounds(time, nbnds)\n",
       "                  long_name: Climate Time Boundaries\n",
       "                  units: hours since 1-1-1 00:00:0.0\n",
       "              unlimited dimensions: \n",
       "              current shape = (12, 2)\n",
       "              filling on, default _FillValue of 9.96920996839e+36 used),\n",
       "             (u'air', <type 'netCDF4._netCDF4.Variable'>\n",
       "              float32 air(time, level, lat, lon)\n",
       "                  long_name: Monthly Long Term Mean of Air temperature\n",
       "                  units: degC\n",
       "                  add_offset: 0.0\n",
       "                  scale_factor: 1.0\n",
       "                  missing_value: -9.96921e+36\n",
       "                  precision: 2\n",
       "                  least_significant_digit: 1\n",
       "                  var_desc: Air Temperature\n",
       "                  level_desc: Multiple levels\n",
       "                  statistic: Long Term Mean\n",
       "                  parent_stat: Mean\n",
       "                  valid_range: [-200.  300.]\n",
       "                  actual_range: [-89.72233582  41.61600494]\n",
       "                  dataset: NCEP Reanalysis Derived Products\n",
       "              unlimited dimensions: \n",
       "              current shape = (12, 17, 73, 144)\n",
       "              filling on, default _FillValue of 9.96920996839e+36 used),\n",
       "             (u'valid_yr_count', <type 'netCDF4._netCDF4.Variable'>\n",
       "              float32 valid_yr_count(time, level, lat, lon)\n",
       "                  long_name: count of non-missing values used in mean\n",
       "                  missing_value: 32767\n",
       "                  add_offset: 0.0\n",
       "                  scale_factor: 1.0\n",
       "              unlimited dimensions: \n",
       "              current shape = (12, 17, 73, 144)\n",
       "              filling on, default _FillValue of 9.96920996839e+36 used)])"
      ]
     },
     "execution_count": 43,
     "metadata": {},
     "output_type": "execute_result"
    }
   ],
   "source": [
    "air.variables"
   ]
  },
  {
   "cell_type": "code",
   "execution_count": 44,
   "metadata": {
    "collapsed": false
   },
   "outputs": [
    {
     "data": {
      "text/plain": [
       "<type 'netCDF4._netCDF4.Variable'>\n",
       "float32 lat(lat)\n",
       "    units: degrees_north\n",
       "    actual_range: [ 90. -90.]\n",
       "    long_name: Latitude\n",
       "    standard_name: latitude\n",
       "    axis: Y\n",
       "unlimited dimensions: \n",
       "current shape = (73,)\n",
       "filling on, default _FillValue of 9.96920996839e+36 used"
      ]
     },
     "execution_count": 44,
     "metadata": {},
     "output_type": "execute_result"
    }
   ],
   "source": [
    "air.variables['lat']"
   ]
  },
  {
   "cell_type": "code",
   "execution_count": 45,
   "metadata": {
    "collapsed": false
   },
   "outputs": [],
   "source": [
    "lat = air.variables['lat'][:]"
   ]
  },
  {
   "cell_type": "code",
   "execution_count": 46,
   "metadata": {
    "collapsed": false
   },
   "outputs": [
    {
     "name": "stdout",
     "output_type": "stream",
     "text": [
      "[ 90.   87.5  85.   82.5  80.   77.5  75.   72.5  70.   67.5  65.   62.5\n",
      "  60.   57.5  55.   52.5  50.   47.5  45.   42.5  40.   37.5  35.   32.5\n",
      "  30.   27.5  25.   22.5  20.   17.5  15.   12.5  10.    7.5   5.    2.5\n",
      "   0.   -2.5  -5.   -7.5 -10.  -12.5 -15.  -17.5 -20.  -22.5 -25.  -27.5\n",
      " -30.  -32.5 -35.  -37.5 -40.  -42.5 -45.  -47.5 -50.  -52.5 -55.  -57.5\n",
      " -60.  -62.5 -65.  -67.5 -70.  -72.5 -75.  -77.5 -80.  -82.5 -85.  -87.5\n",
      " -90. ]\n"
     ]
    }
   ],
   "source": [
    "print lat"
   ]
  },
  {
   "cell_type": "code",
   "execution_count": 47,
   "metadata": {
    "collapsed": false
   },
   "outputs": [
    {
     "data": {
      "text/plain": [
       "<type 'netCDF4._netCDF4.Dataset'>\n",
       "root group (NETCDF4_CLASSIC data model, file format UNDEFINED):\n",
       "    description:  Data from NCEP initialized reanalysis (4x/day).  These are interpolated to pressure surfaces from model (sigma) surfaces.\n",
       "    platform: Model\n",
       "    Conventions: COARDS\n",
       "    not_missing_threshold_percent: minimum 3% values input to have non-missing output value\n",
       "    history: Created 2011/07/12 by doMonthLTM\n",
       "Converted to chunked, deflated non-packed NetCDF4 2014/09\n",
       "    title: monthly ltm air from the NCEP Reanalysis\n",
       "    References: http://www.esrl.noaa.gov/psd/data/gridded/data.ncep.reanalysis.derived.html\n",
       "    dimensions(sizes): lon(144), lat(73), level(17), time(12), nbnds(2)\n",
       "    variables(dimensions): float32 \u001b[4mlevel\u001b[0m(level), float32 \u001b[4mlat\u001b[0m(lat), float32 \u001b[4mlon\u001b[0m(lon), float64 \u001b[4mtime\u001b[0m(time), float64 \u001b[4mclimatology_bounds\u001b[0m(time,nbnds), float32 \u001b[4mair\u001b[0m(time,level,lat,lon), float32 \u001b[4mvalid_yr_count\u001b[0m(time,level,lat,lon)\n",
       "    groups: "
      ]
     },
     "execution_count": 47,
     "metadata": {},
     "output_type": "execute_result"
    }
   ],
   "source": [
    "air"
   ]
  },
  {
   "cell_type": "code",
   "execution_count": 48,
   "metadata": {
    "collapsed": false
   },
   "outputs": [
    {
     "data": {
      "text/plain": [
       "<type 'netCDF4._netCDF4.Variable'>\n",
       "float32 air(time, level, lat, lon)\n",
       "    long_name: Monthly Long Term Mean of Air temperature\n",
       "    units: degC\n",
       "    add_offset: 0.0\n",
       "    scale_factor: 1.0\n",
       "    missing_value: -9.96921e+36\n",
       "    precision: 2\n",
       "    least_significant_digit: 1\n",
       "    var_desc: Air Temperature\n",
       "    level_desc: Multiple levels\n",
       "    statistic: Long Term Mean\n",
       "    parent_stat: Mean\n",
       "    valid_range: [-200.  300.]\n",
       "    actual_range: [-89.72233582  41.61600494]\n",
       "    dataset: NCEP Reanalysis Derived Products\n",
       "unlimited dimensions: \n",
       "current shape = (12, 17, 73, 144)\n",
       "filling on, default _FillValue of 9.96920996839e+36 used"
      ]
     },
     "execution_count": 48,
     "metadata": {},
     "output_type": "execute_result"
    }
   ],
   "source": [
    "air.variables['air']"
   ]
  },
  {
   "cell_type": "code",
   "execution_count": 49,
   "metadata": {
    "collapsed": true
   },
   "outputs": [],
   "source": [
    "lon = air.variables['lon'][:]"
   ]
  },
  {
   "cell_type": "code",
   "execution_count": 50,
   "metadata": {
    "collapsed": false
   },
   "outputs": [
    {
     "data": {
      "text/plain": [
       "array([   0. ,    2.5,    5. ,    7.5,   10. ,   12.5,   15. ,   17.5,\n",
       "         20. ,   22.5,   25. ,   27.5,   30. ,   32.5,   35. ,   37.5,\n",
       "         40. ,   42.5,   45. ,   47.5,   50. ,   52.5,   55. ,   57.5,\n",
       "         60. ,   62.5,   65. ,   67.5,   70. ,   72.5,   75. ,   77.5,\n",
       "         80. ,   82.5,   85. ,   87.5,   90. ,   92.5,   95. ,   97.5,\n",
       "        100. ,  102.5,  105. ,  107.5,  110. ,  112.5,  115. ,  117.5,\n",
       "        120. ,  122.5,  125. ,  127.5,  130. ,  132.5,  135. ,  137.5,\n",
       "        140. ,  142.5,  145. ,  147.5,  150. ,  152.5,  155. ,  157.5,\n",
       "        160. ,  162.5,  165. ,  167.5,  170. ,  172.5,  175. ,  177.5,\n",
       "        180. ,  182.5,  185. ,  187.5,  190. ,  192.5,  195. ,  197.5,\n",
       "        200. ,  202.5,  205. ,  207.5,  210. ,  212.5,  215. ,  217.5,\n",
       "        220. ,  222.5,  225. ,  227.5,  230. ,  232.5,  235. ,  237.5,\n",
       "        240. ,  242.5,  245. ,  247.5,  250. ,  252.5,  255. ,  257.5,\n",
       "        260. ,  262.5,  265. ,  267.5,  270. ,  272.5,  275. ,  277.5,\n",
       "        280. ,  282.5,  285. ,  287.5,  290. ,  292.5,  295. ,  297.5,\n",
       "        300. ,  302.5,  305. ,  307.5,  310. ,  312.5,  315. ,  317.5,\n",
       "        320. ,  322.5,  325. ,  327.5,  330. ,  332.5,  335. ,  337.5,\n",
       "        340. ,  342.5,  345. ,  347.5,  350. ,  352.5,  355. ,  357.5], dtype=float32)"
      ]
     },
     "execution_count": 50,
     "metadata": {},
     "output_type": "execute_result"
    }
   ],
   "source": [
    "lon"
   ]
  },
  {
   "cell_type": "code",
   "execution_count": 51,
   "metadata": {
    "collapsed": false
   },
   "outputs": [
    {
     "data": {
      "text/plain": [
       "<type 'netCDF4._netCDF4.Variable'>\n",
       "float64 time(time)\n",
       "    long_name: Time\n",
       "    delta_t: 0000-01-00 00:00:00\n",
       "    avg_period: 0030-00-00 00:00:00\n",
       "    prev_avg_period: 0000-01-00 00:00:00\n",
       "    standard_name: time\n",
       "    axis: T\n",
       "    climatology: climatology_bounds\n",
       "    climo_period: 1981/01/01 - 2010/12/31\n",
       "    interpreted_actual_range: 0001/01/01 00:00:00 - 0001/12/01 00:00:00\n",
       "    units: days since 1800-01-01 00:00:0.0\n",
       "    actual_range: [-657073. -656739.]\n",
       "unlimited dimensions: \n",
       "current shape = (12,)\n",
       "filling on, default _FillValue of 9.96920996839e+36 used"
      ]
     },
     "execution_count": 51,
     "metadata": {},
     "output_type": "execute_result"
    }
   ],
   "source": [
    "air.variables['time']"
   ]
  },
  {
   "cell_type": "code",
   "execution_count": 52,
   "metadata": {
    "collapsed": true
   },
   "outputs": [],
   "source": [
    "time = air.variables['time'][:]"
   ]
  },
  {
   "cell_type": "code",
   "execution_count": 53,
   "metadata": {
    "collapsed": false
   },
   "outputs": [
    {
     "data": {
      "text/plain": [
       "array([-657073., -657042., -657014., -656983., -656953., -656922.,\n",
       "       -656892., -656861., -656830., -656800., -656769., -656739.])"
      ]
     },
     "execution_count": 53,
     "metadata": {},
     "output_type": "execute_result"
    }
   ],
   "source": [
    "time"
   ]
  },
  {
   "cell_type": "code",
   "execution_count": 54,
   "metadata": {
    "collapsed": false
   },
   "outputs": [],
   "source": [
    "temperature = air.variables['air'][:]"
   ]
  },
  {
   "cell_type": "code",
   "execution_count": 55,
   "metadata": {
    "collapsed": false
   },
   "outputs": [
    {
     "data": {
      "text/plain": [
       "(12, 17, 73, 144)"
      ]
     },
     "execution_count": 55,
     "metadata": {},
     "output_type": "execute_result"
    }
   ],
   "source": [
    "temperature.shape"
   ]
  },
  {
   "cell_type": "code",
   "execution_count": 56,
   "metadata": {
    "collapsed": false
   },
   "outputs": [
    {
     "data": {
      "text/plain": [
       "array([ 90. ,  87.5,  85. ,  82.5,  80. ,  77.5,  75. ,  72.5,  70. ,\n",
       "        67.5,  65. ,  62.5,  60. ,  57.5,  55. ,  52.5,  50. ,  47.5,\n",
       "        45. ,  42.5,  40. ,  37.5,  35. ,  32.5,  30. ,  27.5,  25. ,\n",
       "        22.5,  20. ,  17.5,  15. ,  12.5,  10. ,   7.5,   5. ,   2.5,\n",
       "         0. ,  -2.5,  -5. ,  -7.5, -10. , -12.5, -15. , -17.5, -20. ,\n",
       "       -22.5, -25. , -27.5, -30. , -32.5, -35. , -37.5, -40. , -42.5,\n",
       "       -45. , -47.5, -50. , -52.5, -55. , -57.5, -60. , -62.5, -65. ,\n",
       "       -67.5, -70. , -72.5, -75. , -77.5, -80. , -82.5, -85. , -87.5, -90. ], dtype=float32)"
      ]
     },
     "execution_count": 56,
     "metadata": {},
     "output_type": "execute_result"
    }
   ],
   "source": [
    "lat"
   ]
  },
  {
   "cell_type": "code",
   "execution_count": 57,
   "metadata": {
    "collapsed": false
   },
   "outputs": [
    {
     "data": {
      "text/plain": [
       "42.5"
      ]
     },
     "execution_count": 57,
     "metadata": {},
     "output_type": "execute_result"
    }
   ],
   "source": [
    "lat[19]"
   ]
  },
  {
   "cell_type": "code",
   "execution_count": 58,
   "metadata": {
    "collapsed": false
   },
   "outputs": [
    {
     "data": {
      "text/plain": [
       "(12, 17, 144)"
      ]
     },
     "execution_count": 58,
     "metadata": {},
     "output_type": "execute_result"
    }
   ],
   "source": [
    "temperature[:,:,19,:].shape"
   ]
  },
  {
   "cell_type": "code",
   "execution_count": 59,
   "metadata": {
    "collapsed": false
   },
   "outputs": [
    {
     "data": {
      "text/plain": [
       "array([   0. ,    2.5,    5. ,    7.5,   10. ,   12.5,   15. ,   17.5,\n",
       "         20. ,   22.5,   25. ,   27.5,   30. ,   32.5,   35. ,   37.5,\n",
       "         40. ,   42.5,   45. ,   47.5,   50. ,   52.5,   55. ,   57.5,\n",
       "         60. ,   62.5,   65. ,   67.5,   70. ,   72.5,   75. ,   77.5,\n",
       "         80. ,   82.5,   85. ,   87.5,   90. ,   92.5,   95. ,   97.5,\n",
       "        100. ,  102.5,  105. ,  107.5,  110. ,  112.5,  115. ,  117.5,\n",
       "        120. ,  122.5,  125. ,  127.5,  130. ,  132.5,  135. ,  137.5,\n",
       "        140. ,  142.5,  145. ,  147.5,  150. ,  152.5,  155. ,  157.5,\n",
       "        160. ,  162.5,  165. ,  167.5,  170. ,  172.5,  175. ,  177.5,\n",
       "        180. ,  182.5,  185. ,  187.5,  190. ,  192.5,  195. ,  197.5,\n",
       "        200. ,  202.5,  205. ,  207.5,  210. ,  212.5,  215. ,  217.5,\n",
       "        220. ,  222.5,  225. ,  227.5,  230. ,  232.5,  235. ,  237.5,\n",
       "        240. ,  242.5,  245. ,  247.5,  250. ,  252.5,  255. ,  257.5,\n",
       "        260. ,  262.5,  265. ,  267.5,  270. ,  272.5,  275. ,  277.5,\n",
       "        280. ,  282.5,  285. ,  287.5,  290. ,  292.5,  295. ,  297.5,\n",
       "        300. ,  302.5,  305. ,  307.5,  310. ,  312.5,  315. ,  317.5,\n",
       "        320. ,  322.5,  325. ,  327.5,  330. ,  332.5,  335. ,  337.5,\n",
       "        340. ,  342.5,  345. ,  347.5,  350. ,  352.5,  355. ,  357.5], dtype=float32)"
      ]
     },
     "execution_count": 59,
     "metadata": {},
     "output_type": "execute_result"
    }
   ],
   "source": [
    "lon"
   ]
  },
  {
   "cell_type": "code",
   "execution_count": 60,
   "metadata": {
    "collapsed": false
   },
   "outputs": [
    {
     "data": {
      "text/plain": [
       "287"
      ]
     },
     "execution_count": 60,
     "metadata": {},
     "output_type": "execute_result"
    }
   ],
   "source": [
    "360 - 73"
   ]
  },
  {
   "cell_type": "code",
   "execution_count": 61,
   "metadata": {
    "collapsed": false
   },
   "outputs": [
    {
     "name": "stdout",
     "output_type": "stream",
     "text": [
      "115\n"
     ]
    }
   ],
   "source": [
    "done = False\n",
    "n = 0\n",
    "while not done:\n",
    "    if (lon[n] == 287.5):\n",
    "        print n\n",
    "        done = True\n",
    "    else:\n",
    "        n += 1"
   ]
  },
  {
   "cell_type": "code",
   "execution_count": 62,
   "metadata": {
    "collapsed": false
   },
   "outputs": [
    {
     "data": {
      "text/plain": [
       "287.5"
      ]
     },
     "execution_count": 62,
     "metadata": {},
     "output_type": "execute_result"
    }
   ],
   "source": [
    "lon[115]"
   ]
  },
  {
   "cell_type": "code",
   "execution_count": 63,
   "metadata": {
    "collapsed": true
   },
   "outputs": [],
   "source": [
    "lon_index_albany = 115\n",
    "lat_index_albany = 19"
   ]
  },
  {
   "cell_type": "code",
   "execution_count": 64,
   "metadata": {
    "collapsed": false
   },
   "outputs": [
    {
     "data": {
      "text/plain": [
       "(12, 17)"
      ]
     },
     "execution_count": 64,
     "metadata": {},
     "output_type": "execute_result"
    }
   ],
   "source": [
    "temperature[:,:, lat_index_albany, lon_index_albany].shape"
   ]
  },
  {
   "cell_type": "code",
   "execution_count": 65,
   "metadata": {
    "collapsed": false
   },
   "outputs": [],
   "source": [
    "lev = air.variables['level']"
   ]
  },
  {
   "cell_type": "code",
   "execution_count": 66,
   "metadata": {
    "collapsed": false
   },
   "outputs": [
    {
     "data": {
      "text/plain": [
       "<type 'netCDF4._netCDF4.Variable'>\n",
       "float32 level(level)\n",
       "    units: millibar\n",
       "    long_name: Level\n",
       "    positive: down\n",
       "    GRIB_id: 100\n",
       "    GRIB_name: hPa\n",
       "    actual_range: [ 1000.    10.]\n",
       "    axis: Z\n",
       "unlimited dimensions: \n",
       "current shape = (17,)\n",
       "filling on, default _FillValue of 9.96920996839e+36 used"
      ]
     },
     "execution_count": 66,
     "metadata": {},
     "output_type": "execute_result"
    }
   ],
   "source": [
    "lev"
   ]
  },
  {
   "cell_type": "code",
   "execution_count": 67,
   "metadata": {
    "collapsed": true
   },
   "outputs": [],
   "source": [
    "lev = air.variables['level'][:]"
   ]
  },
  {
   "cell_type": "code",
   "execution_count": 68,
   "metadata": {
    "collapsed": false
   },
   "outputs": [
    {
     "data": {
      "text/plain": [
       "array([ 1000.,   925.,   850.,   700.,   600.,   500.,   400.,   300.,\n",
       "         250.,   200.,   150.,   100.,    70.,    50.,    30.,    20.,\n",
       "          10.], dtype=float32)"
      ]
     },
     "execution_count": 68,
     "metadata": {},
     "output_type": "execute_result"
    }
   ],
   "source": [
    "lev"
   ]
  },
  {
   "cell_type": "code",
   "execution_count": 69,
   "metadata": {
    "collapsed": false
   },
   "outputs": [
    {
     "data": {
      "text/plain": [
       "1000.0"
      ]
     },
     "execution_count": 69,
     "metadata": {},
     "output_type": "execute_result"
    }
   ],
   "source": [
    "lev[0]"
   ]
  },
  {
   "cell_type": "code",
   "execution_count": 70,
   "metadata": {
    "collapsed": false
   },
   "outputs": [
    {
     "data": {
      "text/plain": [
       "array([ -3.27266216,  -2.25366211,   1.3030045 ,   7.07533789,\n",
       "        12.56800461,  17.8836689 ,  21.09667015,  20.80966949,\n",
       "        17.19533539,  11.08667088,   5.73033762,  -0.55532897], dtype=float32)"
      ]
     },
     "execution_count": 70,
     "metadata": {},
     "output_type": "execute_result"
    }
   ],
   "source": [
    "temperature[:, 0, lat_index_albany, lon_index_albany]"
   ]
  },
  {
   "cell_type": "code",
   "execution_count": 71,
   "metadata": {
    "collapsed": false
   },
   "outputs": [
    {
     "data": {
      "text/plain": [
       "[<matplotlib.lines.Line2D at 0x1141a34d0>]"
      ]
     },
     "execution_count": 71,
     "metadata": {},
     "output_type": "execute_result"
    },
    {
     "data": {
      "image/png": "[encoded data removed]",
      "text/plain": [
       "<matplotlib.figure.Figure at 0x113de7710>"
      ]
     },
     "metadata": {},
     "output_type": "display_data"
    }
   ],
   "source": [
    "plt.plot(temperature[:, 0, lat_index_albany, lon_index_albany])"
   ]
  },
  {
   "cell_type": "code",
   "execution_count": 72,
   "metadata": {
    "collapsed": false
   },
   "outputs": [
    {
     "data": {
      "text/plain": [
       "<type 'netCDF4._netCDF4.Variable'>\n",
       "float32 air(time, level, lat, lon)\n",
       "    long_name: Monthly Long Term Mean of Air temperature\n",
       "    units: degC\n",
       "    add_offset: 0.0\n",
       "    scale_factor: 1.0\n",
       "    missing_value: -9.96921e+36\n",
       "    precision: 2\n",
       "    least_significant_digit: 1\n",
       "    var_desc: Air Temperature\n",
       "    level_desc: Multiple levels\n",
       "    statistic: Long Term Mean\n",
       "    parent_stat: Mean\n",
       "    valid_range: [-200.  300.]\n",
       "    actual_range: [-89.72233582  41.61600494]\n",
       "    dataset: NCEP Reanalysis Derived Products\n",
       "unlimited dimensions: \n",
       "current shape = (12, 17, 73, 144)\n",
       "filling on, default _FillValue of 9.96920996839e+36 used"
      ]
     },
     "execution_count": 72,
     "metadata": {},
     "output_type": "execute_result"
    }
   ],
   "source": [
    "air.variables['air']"
   ]
  },
  {
   "cell_type": "code",
   "execution_count": 73,
   "metadata": {
    "collapsed": true
   },
   "outputs": [],
   "source": [
    "months = ['JAN', 'FEB', 'MAR', 'APR', 'MAY', 'JUN', 'JUL', 'AUG', 'SEP', 'OCT', 'NOV', 'DEC']"
   ]
  },
  {
   "cell_type": "code",
   "execution_count": 37,
   "metadata": {
    "collapsed": false
   },
   "outputs": [
    {
     "ename": "ValueError",
     "evalue": "could not convert string to float: SEP",
     "output_type": "error",
     "traceback": [
      "\u001b[0;31m---------------------------------------------------------------------------\u001b[0m",
      "\u001b[0;31mValueError\u001b[0m                                Traceback (most recent call last)",
      "\u001b[0;32m<ipython-input-37-7529994bbf1f>\u001b[0m in \u001b[0;36m<module>\u001b[0;34m()\u001b[0m\n\u001b[1;32m      1\u001b[0m \u001b[0mplt\u001b[0m\u001b[0;34m.\u001b[0m\u001b[0mplot\u001b[0m\u001b[0;34m(\u001b[0m\u001b[0mtemperature\u001b[0m\u001b[0;34m[\u001b[0m\u001b[0;34m:\u001b[0m\u001b[0;34m,\u001b[0m \u001b[0;36m0\u001b[0m\u001b[0;34m,\u001b[0m \u001b[0mlat_index_albany\u001b[0m\u001b[0;34m,\u001b[0m \u001b[0mlon_index_albany\u001b[0m\u001b[0;34m]\u001b[0m\u001b[0;34m)\u001b[0m\u001b[0;34m\u001b[0m\u001b[0m\n\u001b[0;32m----> 2\u001b[0;31m \u001b[0mplt\u001b[0m\u001b[0;34m.\u001b[0m\u001b[0mxticks\u001b[0m\u001b[0;34m(\u001b[0m\u001b[0mmonths\u001b[0m\u001b[0;34m)\u001b[0m\u001b[0;34m\u001b[0m\u001b[0m\n\u001b[0m",
      "\u001b[0;32m/Users/br546577/anaconda/lib/python2.7/site-packages/matplotlib/pyplot.pyc\u001b[0m in \u001b[0;36mxticks\u001b[0;34m(*args, **kwargs)\u001b[0m\n\u001b[1;32m   1669\u001b[0m         \u001b[0mlabels\u001b[0m \u001b[0;34m=\u001b[0m \u001b[0max\u001b[0m\u001b[0;34m.\u001b[0m\u001b[0mget_xticklabels\u001b[0m\u001b[0;34m(\u001b[0m\u001b[0;34m)\u001b[0m\u001b[0;34m\u001b[0m\u001b[0m\n\u001b[1;32m   1670\u001b[0m     \u001b[0;32melif\u001b[0m \u001b[0mlen\u001b[0m\u001b[0;34m(\u001b[0m\u001b[0margs\u001b[0m\u001b[0;34m)\u001b[0m\u001b[0;34m==\u001b[0m\u001b[0;36m1\u001b[0m\u001b[0;34m:\u001b[0m\u001b[0;34m\u001b[0m\u001b[0m\n\u001b[0;32m-> 1671\u001b[0;31m         \u001b[0mlocs\u001b[0m \u001b[0;34m=\u001b[0m \u001b[0max\u001b[0m\u001b[0;34m.\u001b[0m\u001b[0mset_xticks\u001b[0m\u001b[0;34m(\u001b[0m\u001b[0margs\u001b[0m\u001b[0;34m[\u001b[0m\u001b[0;36m0\u001b[0m\u001b[0;34m]\u001b[0m\u001b[0;34m)\u001b[0m\u001b[0;34m\u001b[0m\u001b[0m\n\u001b[0m\u001b[1;32m   1672\u001b[0m         \u001b[0mlabels\u001b[0m \u001b[0;34m=\u001b[0m \u001b[0max\u001b[0m\u001b[0;34m.\u001b[0m\u001b[0mget_xticklabels\u001b[0m\u001b[0;34m(\u001b[0m\u001b[0;34m)\u001b[0m\u001b[0;34m\u001b[0m\u001b[0m\n\u001b[1;32m   1673\u001b[0m     \u001b[0;32melif\u001b[0m \u001b[0mlen\u001b[0m\u001b[0;34m(\u001b[0m\u001b[0margs\u001b[0m\u001b[0;34m)\u001b[0m\u001b[0;34m==\u001b[0m\u001b[0;36m2\u001b[0m\u001b[0;34m:\u001b[0m\u001b[0;34m\u001b[0m\u001b[0m\n",
      "\u001b[0;32m/Users/br546577/anaconda/lib/python2.7/site-packages/matplotlib/axes/_base.pyc\u001b[0m in \u001b[0;36mset_xticks\u001b[0;34m(self, ticks, minor)\u001b[0m\n\u001b[1;32m   2848\u001b[0m         \u001b[0mACCEPTS\u001b[0m\u001b[0;34m:\u001b[0m \u001b[0msequence\u001b[0m \u001b[0mof\u001b[0m \u001b[0mfloats\u001b[0m\u001b[0;34m\u001b[0m\u001b[0m\n\u001b[1;32m   2849\u001b[0m         \"\"\"\n\u001b[0;32m-> 2850\u001b[0;31m         \u001b[0mret\u001b[0m \u001b[0;34m=\u001b[0m \u001b[0mself\u001b[0m\u001b[0;34m.\u001b[0m\u001b[0mxaxis\u001b[0m\u001b[0;34m.\u001b[0m\u001b[0mset_ticks\u001b[0m\u001b[0;34m(\u001b[0m\u001b[0mticks\u001b[0m\u001b[0;34m,\u001b[0m \u001b[0mminor\u001b[0m\u001b[0;34m=\u001b[0m\u001b[0mminor\u001b[0m\u001b[0;34m)\u001b[0m\u001b[0;34m\u001b[0m\u001b[0m\n\u001b[0m\u001b[1;32m   2851\u001b[0m         \u001b[0mself\u001b[0m\u001b[0;34m.\u001b[0m\u001b[0mstale\u001b[0m \u001b[0;34m=\u001b[0m \u001b[0mTrue\u001b[0m\u001b[0;34m\u001b[0m\u001b[0m\n\u001b[1;32m   2852\u001b[0m         \u001b[0;32mreturn\u001b[0m \u001b[0mret\u001b[0m\u001b[0;34m\u001b[0m\u001b[0m\n",
      "\u001b[0;32m/Users/br546577/anaconda/lib/python2.7/site-packages/matplotlib/axis.pyc\u001b[0m in \u001b[0;36mset_ticks\u001b[0;34m(self, ticks, minor)\u001b[0m\n\u001b[1;32m   1596\u001b[0m             \u001b[0mxleft\u001b[0m\u001b[0;34m,\u001b[0m \u001b[0mxright\u001b[0m \u001b[0;34m=\u001b[0m \u001b[0mself\u001b[0m\u001b[0;34m.\u001b[0m\u001b[0mget_view_interval\u001b[0m\u001b[0;34m(\u001b[0m\u001b[0;34m)\u001b[0m\u001b[0;34m\u001b[0m\u001b[0m\n\u001b[1;32m   1597\u001b[0m             \u001b[0;32mif\u001b[0m \u001b[0mxright\u001b[0m \u001b[0;34m>\u001b[0m \u001b[0mxleft\u001b[0m\u001b[0;34m:\u001b[0m\u001b[0;34m\u001b[0m\u001b[0m\n\u001b[0;32m-> 1598\u001b[0;31m                 \u001b[0mself\u001b[0m\u001b[0;34m.\u001b[0m\u001b[0mset_view_interval\u001b[0m\u001b[0;34m(\u001b[0m\u001b[0mmin\u001b[0m\u001b[0;34m(\u001b[0m\u001b[0mticks\u001b[0m\u001b[0;34m)\u001b[0m\u001b[0;34m,\u001b[0m \u001b[0mmax\u001b[0m\u001b[0;34m(\u001b[0m\u001b[0mticks\u001b[0m\u001b[0;34m)\u001b[0m\u001b[0;34m)\u001b[0m\u001b[0;34m\u001b[0m\u001b[0m\n\u001b[0m\u001b[1;32m   1599\u001b[0m             \u001b[0;32melse\u001b[0m\u001b[0;34m:\u001b[0m\u001b[0;34m\u001b[0m\u001b[0m\n\u001b[1;32m   1600\u001b[0m                 \u001b[0mself\u001b[0m\u001b[0;34m.\u001b[0m\u001b[0mset_view_interval\u001b[0m\u001b[0;34m(\u001b[0m\u001b[0mmax\u001b[0m\u001b[0;34m(\u001b[0m\u001b[0mticks\u001b[0m\u001b[0;34m)\u001b[0m\u001b[0;34m,\u001b[0m \u001b[0mmin\u001b[0m\u001b[0;34m(\u001b[0m\u001b[0mticks\u001b[0m\u001b[0;34m)\u001b[0m\u001b[0;34m)\u001b[0m\u001b[0;34m\u001b[0m\u001b[0m\n",
      "\u001b[0;32m/Users/br546577/anaconda/lib/python2.7/site-packages/matplotlib/axis.pyc\u001b[0m in \u001b[0;36mset_view_interval\u001b[0;34m(self, vmin, vmax, ignore)\u001b[0m\n\u001b[1;32m   1928\u001b[0m             \u001b[0;32mif\u001b[0m \u001b[0mVmin\u001b[0m \u001b[0;34m<\u001b[0m \u001b[0mVmax\u001b[0m\u001b[0;34m:\u001b[0m\u001b[0;34m\u001b[0m\u001b[0m\n\u001b[1;32m   1929\u001b[0m                 self.axes.viewLim.intervalx = (min(vmin, vmax, Vmin),\n\u001b[0;32m-> 1930\u001b[0;31m                                                max(vmin, vmax, Vmax))\n\u001b[0m\u001b[1;32m   1931\u001b[0m             \u001b[0;32melse\u001b[0m\u001b[0;34m:\u001b[0m\u001b[0;34m\u001b[0m\u001b[0m\n\u001b[1;32m   1932\u001b[0m                 self.axes.viewLim.intervalx = (max(vmin, vmax, Vmin),\n",
      "\u001b[0;32m/Users/br546577/anaconda/lib/python2.7/site-packages/matplotlib/transforms.pyc\u001b[0m in \u001b[0;36m_set_intervalx\u001b[0;34m(self, interval)\u001b[0m\n\u001b[1;32m    986\u001b[0m \u001b[0;34m\u001b[0m\u001b[0m\n\u001b[1;32m    987\u001b[0m     \u001b[0;32mdef\u001b[0m \u001b[0m_set_intervalx\u001b[0m\u001b[0;34m(\u001b[0m\u001b[0mself\u001b[0m\u001b[0;34m,\u001b[0m \u001b[0minterval\u001b[0m\u001b[0;34m)\u001b[0m\u001b[0;34m:\u001b[0m\u001b[0;34m\u001b[0m\u001b[0m\n\u001b[0;32m--> 988\u001b[0;31m         \u001b[0mself\u001b[0m\u001b[0;34m.\u001b[0m\u001b[0m_points\u001b[0m\u001b[0;34m[\u001b[0m\u001b[0;34m:\u001b[0m\u001b[0;34m,\u001b[0m \u001b[0;36m0\u001b[0m\u001b[0;34m]\u001b[0m \u001b[0;34m=\u001b[0m \u001b[0minterval\u001b[0m\u001b[0;34m\u001b[0m\u001b[0m\n\u001b[0m\u001b[1;32m    989\u001b[0m         \u001b[0mself\u001b[0m\u001b[0;34m.\u001b[0m\u001b[0minvalidate\u001b[0m\u001b[0;34m(\u001b[0m\u001b[0;34m)\u001b[0m\u001b[0;34m\u001b[0m\u001b[0m\n\u001b[1;32m    990\u001b[0m     \u001b[0mintervalx\u001b[0m \u001b[0;34m=\u001b[0m \u001b[0mproperty\u001b[0m\u001b[0;34m(\u001b[0m\u001b[0mBboxBase\u001b[0m\u001b[0;34m.\u001b[0m\u001b[0m_get_intervalx\u001b[0m\u001b[0;34m,\u001b[0m \u001b[0m_set_intervalx\u001b[0m\u001b[0;34m)\u001b[0m\u001b[0;34m\u001b[0m\u001b[0m\n",
      "\u001b[0;31mValueError\u001b[0m: could not convert string to float: SEP"
     ]
    },
    {
     "data": {
      "image/png": "[encoded data removed]",
      "text/plain": [
       "<matplotlib.figure.Figure at 0x10c29ee10>"
      ]
     },
     "metadata": {},
     "output_type": "display_data"
    }
   ],
   "source": [
    "plt.plot(temperature[:, 0, lat_index_albany, lon_index_albany])\n",
    "plt.xticks(months)"
   ]
  },
  {
   "cell_type": "markdown",
   "metadata": {},
   "source": [
    "# Plot soundings at Albany"
   ]
  },
  {
   "cell_type": "code",
   "execution_count": 74,
   "metadata": {
    "collapsed": false
   },
   "outputs": [],
   "source": [
    "jan = temperature[0, :, lat_index_albany, lon_index_albany]"
   ]
  },
  {
   "cell_type": "code",
   "execution_count": 75,
   "metadata": {
    "collapsed": false
   },
   "outputs": [
    {
     "name": "stdout",
     "output_type": "stream",
     "text": [
      "[ -3.27266216  -6.17032766  -7.01099586 -11.81399632 -17.51132774\n",
      " -25.51899338 -35.95066071 -47.86932373 -52.46098709 -53.74898911\n",
      " -53.80265808 -57.7659874  -59.29999542 -59.80699539 -58.69099045\n",
      " -57.25065994 -51.58332443]\n"
     ]
    }
   ],
   "source": [
    "print jan"
   ]
  },
  {
   "cell_type": "code",
   "execution_count": 76,
   "metadata": {
    "collapsed": false
   },
   "outputs": [
    {
     "data": {
      "text/plain": [
       "(17,)"
      ]
     },
     "execution_count": 76,
     "metadata": {},
     "output_type": "execute_result"
    }
   ],
   "source": [
    "jan.shape"
   ]
  },
  {
   "cell_type": "code",
   "execution_count": 77,
   "metadata": {
    "collapsed": false
   },
   "outputs": [
    {
     "data": {
      "text/plain": [
       "(17,)"
      ]
     },
     "execution_count": 77,
     "metadata": {},
     "output_type": "execute_result"
    }
   ],
   "source": [
    "lev.shape"
   ]
  },
  {
   "cell_type": "code",
   "execution_count": 78,
   "metadata": {
    "collapsed": false
   },
   "outputs": [
    {
     "data": {
      "text/plain": [
       "array([ 1000.,   925.,   850.,   700.,   600.,   500.,   400.,   300.,\n",
       "         250.,   200.,   150.,   100.,    70.,    50.,    30.,    20.,\n",
       "          10.], dtype=float32)"
      ]
     },
     "execution_count": 78,
     "metadata": {},
     "output_type": "execute_result"
    }
   ],
   "source": [
    "lev"
   ]
  },
  {
   "cell_type": "code",
   "execution_count": 79,
   "metadata": {
    "collapsed": false
   },
   "outputs": [
    {
     "name": "stdout",
     "output_type": "stream",
     "text": [
      "[ -0.           0.62369221   1.30015123   2.85339975   4.0866046\n",
      "   5.54517746   7.3303256    9.63178253  11.09035492  12.87550354\n",
      "  15.17695999  18.420681    21.27408028  23.96585846  28.05246353\n",
      "  31.29618454  36.841362  ]\n"
     ]
    }
   ],
   "source": [
    "#  approximate vertical height axis in km\n",
    "Z = -8 * np.log(lev/lev[0])\n",
    "print Z"
   ]
  },
  {
   "cell_type": "code",
   "execution_count": 80,
   "metadata": {
    "collapsed": false
   },
   "outputs": [
    {
     "data": {
      "text/plain": [
       "<matplotlib.text.Text at 0x113ddcb50>"
      ]
     },
     "execution_count": 80,
     "metadata": {},
     "output_type": "execute_result"
    },
    {
     "data": {
      "image/png": "[encoded data removed]",
      "text/plain": [
       "<matplotlib.figure.Figure at 0x115405490>"
      ]
     },
     "metadata": {},
     "output_type": "display_data"
    }
   ],
   "source": [
    "plt.plot(jan, Z, label='Jan')\n",
    "plt.legend()\n",
    "plt.xlabel('Temperature (deg C)')\n",
    "plt.ylabel('height (km)')"
   ]
  },
  {
   "cell_type": "code",
   "execution_count": 81,
   "metadata": {
    "collapsed": false
   },
   "outputs": [
    {
     "data": {
      "text/plain": [
       "(-70, 50)"
      ]
     },
     "execution_count": 81,
     "metadata": {},
     "output_type": "execute_result"
    },
    {
     "data": {
      "image/png": "[encoded data removed]",
      "text/plain": [
       "<matplotlib.figure.Figure at 0x114013b50>"
      ]
     },
     "metadata": {},
     "output_type": "display_data"
    }
   ],
   "source": [
    "for n in range(12):\n",
    "    data = temperature[n, :, lat_index_albany, lon_index_albany]\n",
    "    plt.plot(data, Z, label=months[n])\n",
    "plt.legend()\n",
    "plt.xlabel('Temperature (deg C)')\n",
    "plt.ylabel('height (km)')\n",
    "plt.xlim(-70, 50)"
   ]
  },
  {
   "cell_type": "code",
   "execution_count": 82,
   "metadata": {
    "collapsed": true
   },
   "outputs": [],
   "source": [
    "#  plot cross section of zonal and annual average temperature as function of height and latitude\n",
    "\n",
    "temp_zon = np.mean(temperature, axis=3)"
   ]
  },
  {
   "cell_type": "code",
   "execution_count": 83,
   "metadata": {
    "collapsed": false
   },
   "outputs": [
    {
     "data": {
      "text/plain": [
       "(12, 17, 73)"
      ]
     },
     "execution_count": 83,
     "metadata": {},
     "output_type": "execute_result"
    }
   ],
   "source": [
    "temp_zon.shape"
   ]
  },
  {
   "cell_type": "code",
   "execution_count": 84,
   "metadata": {
    "collapsed": true
   },
   "outputs": [],
   "source": [
    "temp_zon_ann = np.mean(temp_zon, axis=0)"
   ]
  },
  {
   "cell_type": "code",
   "execution_count": 85,
   "metadata": {
    "collapsed": false
   },
   "outputs": [
    {
     "data": {
      "text/plain": [
       "(17, 73)"
      ]
     },
     "execution_count": 85,
     "metadata": {},
     "output_type": "execute_result"
    }
   ],
   "source": [
    "temp_zon_ann.shape"
   ]
  },
  {
   "cell_type": "code",
   "execution_count": 86,
   "metadata": {
    "collapsed": true
   },
   "outputs": [],
   "source": [
    "temp_zon_ann = np.mean(temperature, axis=(0,3))"
   ]
  },
  {
   "cell_type": "code",
   "execution_count": 87,
   "metadata": {
    "collapsed": false
   },
   "outputs": [
    {
     "data": {
      "text/plain": [
       "(17, 73)"
      ]
     },
     "execution_count": 87,
     "metadata": {},
     "output_type": "execute_result"
    }
   ],
   "source": [
    "temp_zon_ann.shape"
   ]
  },
  {
   "cell_type": "code",
   "execution_count": 88,
   "metadata": {
    "collapsed": false
   },
   "outputs": [
    {
     "data": {
      "text/plain": [
       "<matplotlib.text.Text at 0x11569f550>"
      ]
     },
     "execution_count": 88,
     "metadata": {},
     "output_type": "execute_result"
    },
    {
     "data": {
      "image/png": "[encoded data removed]",
      "text/plain": [
       "<matplotlib.figure.Figure at 0x115433450>"
      ]
     },
     "metadata": {},
     "output_type": "display_data"
    }
   ],
   "source": [
    "cax = plt.contourf(lat, Z, temp_zon_ann)\n",
    "plt.colorbar(cax)\n",
    "plt.xlabel('Latitude')\n",
    "plt.ylabel('height (km)')\n",
    "plt.title('Annual, zonal average observed air temperature', fontsize=14)"
   ]
  },
  {
   "cell_type": "code",
   "execution_count": null,
   "metadata": {
    "collapsed": true
   },
   "outputs": [],
   "source": []
  },
  {
   "cell_type": "code",
   "execution_count": null,
   "metadata": {
    "collapsed": true
   },
   "outputs": [],
   "source": []
  }
 ],
 "metadata": {
  "kernelspec": {
   "display_name": "Python 2",
   "language": "python",
   "name": "python2"
  },
  "language_info": {
   "codemirror_mode": {
    "name": "ipython",
    "version": 2
   },
   "file_extension": ".py",
   "mimetype": "text/x-python",
   "name": "python",
   "nbconvert_exporter": "python",
   "pygments_lexer": "ipython2",
   "version": "2.7.11"
  }
 },
 "nbformat": 4,
 "nbformat_minor": 0
}
