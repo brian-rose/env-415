{
 "cells": [
  {
   "cell_type": "code",
   "execution_count": 1,
   "metadata": {},
   "outputs": [],
   "source": [
    "import climlab\n",
    "#  A one-dimensional domain with 90 points in latitude\n",
    "mystate = climlab.surface_state(num_lat=90, water_depth=10.)\n",
    "#  insolation\n",
    "ins = climlab.radiation.AnnualMeanInsolation(domains=mystate.Ts.domain)\n",
    "#  The shortwave radiation process\n",
    "asr = climlab.radiation.SimpleAbsorbedShortwave(name='Shortwave', \n",
    "                                                state=mystate, \n",
    "                                                albedo=0.3, \n",
    "                                                insolation=ins.insolation)\n",
    "#  The longwave radiation process\n",
    "olr = climlab.radiation.AplusBT(name='Longwave', \n",
    "                                state=mystate, \n",
    "                                A=210., \n",
    "                                B=2.)\n",
    "#  Diffusivity in W / m^2 / degC, same as B\n",
    "D=0.555;  C = mystate.Ts.domain.heat_capacity\n",
    "K = D / C # diffusivity in units of 1/s\n",
    "#  The diffusion process\n",
    "diff = climlab.dynamics.MeridionalDiffusion(name='Diffusion', \n",
    "                                            state=mystate, \n",
    "                                            K=K)\n",
    "#  Couple it!\n",
    "ebm = climlab.couple([asr,olr,diff], name='Energy Balance Model')"
   ]
  },
  {
   "cell_type": "code",
   "execution_count": 2,
   "metadata": {},
   "outputs": [
    {
     "name": "stdout",
     "output_type": "stream",
     "text": [
      "climlab Process of type <class 'climlab.process.time_dependent_process.TimeDependentProcess'>. \n",
      "State variables and domain shapes: \n",
      "  Ts: (90, 1) \n",
      "The subprocess tree: \n",
      "Energy Balance Model: <class 'climlab.process.time_dependent_process.TimeDependentProcess'>\n",
      "   Shortwave: <class 'climlab.radiation.absorbed_shorwave.SimpleAbsorbedShortwave'>\n",
      "   Longwave: <class 'climlab.radiation.aplusbt.AplusBT'>\n",
      "   Diffusion: <class 'climlab.dynamics.diffusion.MeridionalDiffusion'>\n",
      "\n"
     ]
    }
   ],
   "source": [
    "#  Look at what we just created\n",
    "print(ebm)"
   ]
  },
  {
   "cell_type": "code",
   "execution_count": 3,
   "metadata": {},
   "outputs": [
    {
     "data": {
      "text/plain": [
       "<xarray.Dataset>\n",
       "Dimensions:       (depth: 1, depth_bounds: 2, lat: 90, lat_bounds: 91)\n",
       "Coordinates:\n",
       "  * depth         (depth) float64 5.0\n",
       "  * lat           (lat) float64 -89.0 -87.0 -85.0 -83.0 -81.0 -79.0 -77.0 ...\n",
       "  * depth_bounds  (depth_bounds) float64 0.0 10.0\n",
       "  * lat_bounds    (lat_bounds) float64 -90.0 -88.0 -86.0 -84.0 -82.0 -80.0 ...\n",
       "Data variables:\n",
       "    Ts            (depth, lat) float64 -27.98 -27.84 -27.54 -27.11 -26.53 ..."
      ]
     },
     "execution_count": 3,
     "metadata": {},
     "output_type": "execute_result"
    }
   ],
   "source": [
    "#  Another way to view the data\n",
    "ebm.to_xarray()"
   ]
  },
  {
   "cell_type": "code",
   "execution_count": 4,
   "metadata": {},
   "outputs": [],
   "source": [
    "#  Take a single timestep\n",
    "ebm.step_forward()"
   ]
  },
  {
   "cell_type": "code",
   "execution_count": 5,
   "metadata": {
    "scrolled": true
   },
   "outputs": [
    {
     "name": "stdout",
     "output_type": "stream",
     "text": [
      "Integrating for 1826 steps, 1826.2110000000002 days, or 5.0 years.\n",
      "Total elapsed time is 5.0021602104 years.\n"
     ]
    }
   ],
   "source": [
    "#  Take many timesteps\n",
    "ebm.integrate_years(5.)"
   ]
  },
  {
   "cell_type": "code",
   "execution_count": null,
   "metadata": {},
   "outputs": [],
   "source": []
  }
 ],
 "metadata": {
  "kernelspec": {
   "display_name": "Python 3",
   "language": "python",
   "name": "python3"
  },
  "language_info": {
   "codemirror_mode": {
    "name": "ipython",
    "version": 3
   },
   "file_extension": ".py",
   "mimetype": "text/x-python",
   "name": "python",
   "nbconvert_exporter": "python",
   "pygments_lexer": "ipython3",
   "version": "3.6.2"
  }
 },
 "nbformat": 4,
 "nbformat_minor": 2
}
