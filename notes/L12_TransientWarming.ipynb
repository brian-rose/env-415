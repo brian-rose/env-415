{
 "cells": [
  {
   "cell_type": "markdown",
   "metadata": {},
   "source": [
    "# ENV/ATM 415: Climate Laboratory\n",
    "\n",
    "[Brian E. J. Rose](http://www.atmos.albany.edu/facstaff/brose/index.html), University at Albany\n",
    "\n",
    "# Lecture 12: Transient warming: exploring the rate of climate change"
   ]
  },
  {
   "cell_type": "markdown",
   "metadata": {},
   "source": [
    "So far in this class we have talked a lot about **Equilibrium Climate Sensitivity**: the surface warming that is necessary to bring the planetary energy budget back into balance (energy in = energy out) after a doubling of atmospheric CO2.\n",
    "\n",
    "Although this concept is very important, it is not the only important measure of climate change, and not the only question for which we need to apply climate models.\n",
    "\n",
    "Consider two basic facts about climate change in the real world:\n",
    "\n",
    "- There is no sudden, abrupt doubling of CO2. Instead, CO2 and other radiative forcing agents change gradually over time.\n",
    "- The timescale for adjustment to equilibrium is **very long** because of the heat capacity of the deep oceans.\n",
    "\n",
    "We will now extend our climate model to deal with both of these issues simultaneously."
   ]
  },
  {
   "cell_type": "markdown",
   "metadata": {},
   "source": [
    "## Two versions of Radiative-Convective Equilibrium with different climate sensitivities\n",
    "\n",
    "We are going set up two different single-column model with different lapse rate feedbacks."
   ]
  },
  {
   "cell_type": "markdown",
   "metadata": {},
   "source": [
    "We begin by repeating the same setup we have done several times before, building a single-column RCM with prescribed water vapor profile."
   ]
  },
  {
   "cell_type": "code",
   "execution_count": 1,
   "metadata": {},
   "outputs": [],
   "source": [
    "%matplotlib inline\n",
    "import numpy as np\n",
    "import matplotlib.pyplot as plt\n",
    "import xarray as xr\n",
    "import climlab"
   ]
  },
  {
   "cell_type": "code",
   "execution_count": 2,
   "metadata": {},
   "outputs": [],
   "source": [
    "#  Get the water vapor data\n",
    "datapath = \"http://ramadda.atmos.albany.edu:8080/repository/opendap/latest/Top/Users/BrianRose/CESM_runs/\"\n",
    "endstr = \"/entry.das\"\n",
    "atm_control = xr.open_dataset( datapath + 'som_1850_f19/som_1850_f19.cam.h0.clim.nc' + endstr, decode_times=False)\n",
    "Qglobal = ((atm_control.Q * atm_control.gw)/atm_control.gw.mean(dim='lat')).mean(dim=('lat','lon','time'))"
   ]
  },
  {
   "cell_type": "code",
   "execution_count": 3,
   "metadata": {},
   "outputs": [
    {
     "name": "stdout",
     "output_type": "stream",
     "text": [
      "Getting ozone data from /Users/br546577/anaconda3/lib/python3.6/site-packages/climlab/radiation/data/ozone/apeozone_cam3_5_54.nc\n"
     ]
    }
   ],
   "source": [
    "#  Make a model on same vertical domain as the GCM\n",
    "state = climlab.column_state(lev=Qglobal.lev, water_depth=2.5)\n",
    "steps_per_year = 90\n",
    "deltat = climlab.constants.seconds_per_year/steps_per_year\n",
    "rad = climlab.radiation.RRTMG(name='Radiation',\n",
    "                              state=state, \n",
    "                              specific_humidity=Qglobal.values,\n",
    "                              timestep = deltat,\n",
    "                              albedo = 0.25,  # tuned to give reasonable ASR for reference cloud-free model\n",
    "                             )\n",
    "conv = climlab.convection.ConvectiveAdjustment(name='Convection',\n",
    "                                               state=state,\n",
    "                                               adj_lapse_rate=6.5,\n",
    "                                               timestep=rad.timestep,)\n",
    "rcm_control = rad + conv\n",
    "rcm_control.name = 'Radiative-Convective Model'"
   ]
  },
  {
   "cell_type": "markdown",
   "metadata": {},
   "source": [
    "Integrate the control model out to equilibrium."
   ]
  },
  {
   "cell_type": "code",
   "execution_count": 4,
   "metadata": {},
   "outputs": [
    {
     "name": "stdout",
     "output_type": "stream",
     "text": [
      "Integrating for 450 steps, 1826.2110000000002 days, or 5 years.\n",
      "Total elapsed time is 5.000000000000044 years.\n"
     ]
    },
    {
     "data": {
      "text/plain": [
       "Field([7.49372842e-06])"
      ]
     },
     "execution_count": 4,
     "metadata": {},
     "output_type": "execute_result"
    }
   ],
   "source": [
    "rcm_control.integrate_years(5)\n",
    "rcm_control.ASR - rcm_control.OLR"
   ]
  },
  {
   "cell_type": "markdown",
   "metadata": {},
   "source": [
    "Now let's make two copies of this model and keep them in a list:"
   ]
  },
  {
   "cell_type": "code",
   "execution_count": 5,
   "metadata": {},
   "outputs": [],
   "source": [
    "slab_control = []\n",
    "slab_control.append(rcm_control)\n",
    "slab_control.append(climlab.process_like(rcm_control))"
   ]
  },
  {
   "cell_type": "code",
   "execution_count": 6,
   "metadata": {},
   "outputs": [
    {
     "data": {
      "text/plain": [
       "[<climlab.process.time_dependent_process.TimeDependentProcess at 0x1a0cceec88>,\n",
       " <climlab.process.time_dependent_process.TimeDependentProcess at 0x1a0ee0cc88>]"
      ]
     },
     "execution_count": 6,
     "metadata": {},
     "output_type": "execute_result"
    }
   ],
   "source": [
    "slab_control"
   ]
  },
  {
   "cell_type": "markdown",
   "metadata": {},
   "source": [
    "We are going to **double CO2 in both models** and label them as high and low sensitivity. We will build in **different feedbacks** into our two columns."
   ]
  },
  {
   "cell_type": "code",
   "execution_count": 7,
   "metadata": {},
   "outputs": [],
   "source": [
    "slab_2x = []\n",
    "for n in range(len(slab_control)):\n",
    "    rcm_2xCO2 = climlab.process_like(rcm_control)\n",
    "    rcm_2xCO2.subprocess['Radiation'].absorber_vmr['CO2'] *= 2.\n",
    "    if n == 0:\n",
    "        rcm_2xCO2.name = 'High-sensitivity RCM'\n",
    "    elif n == 1:\n",
    "        rcm_2xCO2.name = 'Low-sensitivity RCM'\n",
    "    slab_2x.append(rcm_2xCO2)"
   ]
  },
  {
   "cell_type": "markdown",
   "metadata": {},
   "source": [
    "We will implement a water vapor feedback as we have done before: by recomputing the specific humidity at every timestep using the current temperatures so that the **relative humidity stays fixed**.\n",
    "\n",
    "We begin by computing the relative humidity profile from the control climate."
   ]
  },
  {
   "cell_type": "code",
   "execution_count": 8,
   "metadata": {},
   "outputs": [],
   "source": [
    "#  actual specific humidity\n",
    "q = rcm_control.subprocess['Radiation'].specific_humidity\n",
    "#  saturation specific humidity (a function of temperature and pressure)\n",
    "qsat = climlab.utils.thermo.qsat(rcm_control.Tatm, rcm_control.lev)\n",
    "#  Relative humidity\n",
    "rh = q/qsat"
   ]
  },
  {
   "cell_type": "markdown",
   "metadata": {},
   "source": [
    "Now here is where our two models will differ:\n",
    "\n",
    "We are going to assign them **different lapse rate feedbacks**.\n",
    "\n",
    "Similar to the exercise in Assignment 3, we are going to assume \n",
    "\n",
    "$$ \\Gamma = \\Gamma_{ref} + \\gamma * \\Delta T_s $$\n",
    "\n",
    "where $\\Gamma_{ref} = 6.5 K/km$ is the critical lapse rate in our control climate, and $\\gamma$ is a number in units of km$^{-1}$ that determines how much the critical lapse rate should change per degree warming.\n",
    "\n",
    "We are going to investigate two different assumptions:\n",
    "\n",
    "- temperatures decrease **more** with height under global warming, $\\gamma = +0.3$ km$^{-1}$\n",
    "- temperature decrease **less** with height under global warming, $\\gamma = -0.3$ km$^{-1}$"
   ]
  },
  {
   "cell_type": "code",
   "execution_count": 9,
   "metadata": {},
   "outputs": [],
   "source": [
    "lapse_change_factor = [+0.3, -0.3]"
   ]
  },
  {
   "cell_type": "code",
   "execution_count": 10,
   "metadata": {},
   "outputs": [
    {
     "name": "stdout",
     "output_type": "stream",
     "text": [
      "Integrating High-sensitivity RCM\n",
      "The TOA imbalance is -0.00006 W/m2\n",
      "The ECS is 3.559 K\n",
      "\n",
      "Integrating Low-sensitivity RCM\n",
      "The TOA imbalance is 0.00010 W/m2\n",
      "The ECS is 2.217 K\n",
      "\n"
     ]
    }
   ],
   "source": [
    "for n in range(len(slab_2x)):\n",
    "    rcm_2xCO2 = slab_2x[n]\n",
    "    print('Integrating ' + rcm_2xCO2.name)\n",
    "    for m in range(5 * steps_per_year):\n",
    "        # At every timestep\n",
    "        # we calculate the new saturation specific humidity for the new temperature\n",
    "        #  and change the water vapor in the radiation model\n",
    "        #  so that relative humidity is always the same\n",
    "        qsat = climlab.utils.thermo.qsat(rcm_2xCO2.Tatm, rcm_2xCO2.lev)\n",
    "        rcm_2xCO2.subprocess['Radiation'].specific_humidity[:] = rh * qsat\n",
    "        #  We also adjust the critical lapse rate in our convection model\n",
    "        DeltaTs = rcm_2xCO2.Ts - rcm_control.Ts\n",
    "        rcm_2xCO2.subprocess['Convection'].adj_lapse_rate = 6.5 + lapse_change_factor[n]*DeltaTs\n",
    "        rcm_2xCO2.step_forward()\n",
    "    print('The TOA imbalance is %0.5f W/m2' %(rcm_2xCO2.ASR-rcm_2xCO2.OLR))\n",
    "    print('The ECS is %0.3f K' %(rcm_2xCO2.Ts - rcm_control.Ts))\n",
    "    print('')"
   ]
  },
  {
   "cell_type": "markdown",
   "metadata": {},
   "source": [
    "So Model 0 (in which the lapse rates have gotten larger) is **more sensitive** than Model 1 (smaller lapse rates). It has a larger system gain, or a more positive overall climate feedback. \n",
    "\n",
    "Although this is not the main topic of today's lesson, it's still interesting to think about why the lapse rates affect the climate sensivitity in this way..."
   ]
  },
  {
   "cell_type": "markdown",
   "metadata": {},
   "source": [
    "## Time to reach equilibrium\n",
    "\n",
    "These models reached their new equilibria in just a few years. Why is that? Because they have very little heat capacity:"
   ]
  },
  {
   "cell_type": "code",
   "execution_count": 11,
   "metadata": {},
   "outputs": [
    {
     "data": {
      "text/plain": [
       "array([0. , 2.5])"
      ]
     },
     "execution_count": 11,
     "metadata": {},
     "output_type": "execute_result"
    }
   ],
   "source": [
    "slab_control[0].depth_bounds"
   ]
  },
  {
   "cell_type": "markdown",
   "metadata": {},
   "source": [
    "The \"ocean\" in these models is just a \"slab\" of water 2.5 meter deep.\n",
    "\n",
    "That's all we need to calculate the equilibrium temperatures, but it tells us nothing about the timescales for climate change in the real world.\n",
    "\n",
    "For this, we need a deep ocean that can **exchange heat with the surface**."
   ]
  },
  {
   "cell_type": "markdown",
   "metadata": {},
   "source": [
    "## Transient warming scenarios in column models with ocean heat uptake"
   ]
  },
  {
   "cell_type": "markdown",
   "metadata": {},
   "source": [
    "We are now going to build two new models. The atmosphere (radiative-convective model) will be identical to the two \"slab\" models we just used. But these will be coupled to a **column of ocean water** 2000 m deep!\n",
    "\n",
    "We will **parameterize the ocean heat uptake** as a diffusive mixing process. Much like when we discussed the diffusive parameterization for atmospheric heat transport -- we are assuming that ocean dynamics result in a vertical mixing of heat from warm to cold temperatures.\n",
    "\n",
    "The following code will set this up for us.\n",
    "\n",
    "We will make one more assumption, just for the sake of illustration:\n",
    "\n",
    "*The more sensitive model (Model 0) is also more efficent at taking up heat into the deep ocean*"
   ]
  },
  {
   "cell_type": "code",
   "execution_count": 12,
   "metadata": {},
   "outputs": [
    {
     "name": "stdout",
     "output_type": "stream",
     "text": [
      "Getting ozone data from /Users/br546577/anaconda3/lib/python3.6/site-packages/climlab/radiation/data/ozone/apeozone_cam3_5_54.nc\n",
      "\n",
      "climlab Process of type <class 'climlab.process.time_dependent_process.TimeDependentProcess'>. \n",
      "State variables and domain shapes: \n",
      "  Tatm: (26,) \n",
      "  Ts: (1,) \n",
      "  Tocean: (20,) \n",
      "The subprocess tree: \n",
      "RCM with high sensitivity and efficient heat uptake: <class 'climlab.process.time_dependent_process.TimeDependentProcess'>\n",
      "   Radiation: <class 'climlab.radiation.rrtm.rrtmg.RRTMG'>\n",
      "      SW: <class 'climlab.radiation.rrtm.rrtmg_sw.RRTMG_SW'>\n",
      "      LW: <class 'climlab.radiation.rrtm.rrtmg_lw.RRTMG_LW'>\n",
      "   Convection: <class 'climlab.convection.convadj.ConvectiveAdjustment'>\n",
      "   Ocean Heat Uptake: <class 'climlab.dynamics.diffusion.Diffusion'>\n",
      "\n",
      "\n",
      "Getting ozone data from /Users/br546577/anaconda3/lib/python3.6/site-packages/climlab/radiation/data/ozone/apeozone_cam3_5_54.nc\n",
      "\n",
      "climlab Process of type <class 'climlab.process.time_dependent_process.TimeDependentProcess'>. \n",
      "State variables and domain shapes: \n",
      "  Tatm: (26,) \n",
      "  Ts: (1,) \n",
      "  Tocean: (20,) \n",
      "The subprocess tree: \n",
      "RCM with low sensitivity and inefficient heat uptake: <class 'climlab.process.time_dependent_process.TimeDependentProcess'>\n",
      "   Radiation: <class 'climlab.radiation.rrtm.rrtmg.RRTMG'>\n",
      "      SW: <class 'climlab.radiation.rrtm.rrtmg_sw.RRTMG_SW'>\n",
      "      LW: <class 'climlab.radiation.rrtm.rrtmg_lw.RRTMG_LW'>\n",
      "   Convection: <class 'climlab.convection.convadj.ConvectiveAdjustment'>\n",
      "   Ocean Heat Uptake: <class 'climlab.dynamics.diffusion.Diffusion'>\n",
      "\n",
      "\n"
     ]
    }
   ],
   "source": [
    "#  Create the domains\n",
    "ocean_bounds = np.arange(0., 2010., 100.)\n",
    "depthax = climlab.Axis(axis_type='depth', bounds=ocean_bounds)\n",
    "ocean = climlab.domain.domain.Ocean(axes=depthax)\n",
    "atm = slab_control[0].Tatm.domain\n",
    "\n",
    "#  Model 0 has a higher ocean heat diffusion coefficient -- \n",
    "#  a more efficent deep ocean heat sink\n",
    "ocean_diff = [5.E-4, 3.5E-4]\n",
    "\n",
    "#  List of deep ocean models\n",
    "deep = []\n",
    "for n in range(len(slab_control)):\n",
    "    rcm_control = slab_control[n]\n",
    "    #  Create the state variables\n",
    "    Tinitial_ocean = rcm_control.Ts * np.ones(ocean.shape)\n",
    "    Tocean = climlab.Field(Tinitial_ocean.copy(), domain=ocean)\n",
    "    Tatm = climlab.Field(rcm_control.Tatm.copy(), domain=atm)\n",
    "\n",
    "    #  Surface temperature Ts is the upper-most grid box of the ocean\n",
    "    Ts = Tocean[0:1]\n",
    "    atm_state = {'Tatm': Tatm, 'Ts': Ts}\n",
    "    \n",
    "    rad = climlab.radiation.RRTMG(name='Radiation',\n",
    "                                  state=atm_state, \n",
    "                                  specific_humidity=Qglobal.values,\n",
    "                                  timestep = deltat,\n",
    "                                  albedo = 0.25,  \n",
    "                                 )\n",
    "    conv = climlab.convection.ConvectiveAdjustment(name='Convection',\n",
    "                                                   state=atm_state,\n",
    "                                                   adj_lapse_rate=6.5,\n",
    "                                                   timestep=rad.timestep,)\n",
    "\n",
    "    model = rad + conv\n",
    "    if n == 0:\n",
    "        model.name = 'RCM with high sensitivity and efficient heat uptake'\n",
    "    elif n == 1:\n",
    "        model.name = 'RCM with low sensitivity and inefficient heat uptake'\n",
    "    model.set_state('Tocean', Tocean)\n",
    "    diff = climlab.dynamics.Diffusion(state={'Tocean': model.Tocean}, \n",
    "                                K=ocean_diff[n], \n",
    "                                diffusion_axis='depth', \n",
    "                                timestep=deltat * 10,)\n",
    "    model.add_subprocess('Ocean Heat Uptake', diff)\n",
    "    print('')\n",
    "    print(model)\n",
    "    print('')\n",
    "    deep.append(model)"
   ]
  },
  {
   "cell_type": "markdown",
   "metadata": {},
   "source": [
    "## An idealized transient global warming scenario: CO2 increases by 1%/year to doubling."
   ]
  },
  {
   "cell_type": "markdown",
   "metadata": {},
   "source": [
    "Now consider the CO2 increase. In the real world, CO2 has been increasing every year since the beginning of industrialization. Future CO2 concentrations depend on collective choices made by human societies about how much fossil fuel to extract and burn.\n",
    "\n",
    "We will set up a simple scenario. Suppose that CO2 increases by 1% of its existing concentration every year **until it reaches 2x its initial concentration**. This takes about 70 years.\n",
    "\n",
    "After 70 years, we assume that all anthropogenic emissions, and CO2 concentration is **stabilized** at the 2x level.\n",
    "\n",
    "What happens to the surface temperature?\n",
    "\n",
    "How do the histories of surface and deep ocean temperature compare in our two models?\n",
    "\n",
    "We are going to simulation **400 years of transient global warming** in the two models."
   ]
  },
  {
   "cell_type": "markdown",
   "metadata": {},
   "source": [
    "<div class=\"alert alert-success\">\n",
    "This code will take a long time to run! While it's running, we'll think about what the result might look like\n",
    "</div>"
   ]
  },
  {
   "cell_type": "code",
   "execution_count": 13,
   "metadata": {},
   "outputs": [
    {
     "name": "stdout",
     "output_type": "stream",
     "text": [
      "Year  1 , CO2 mixing ratio is  351.47999999999996  ppm.\n"
     ]
    },
    {
     "ename": "KeyError",
     "evalue": "'Tocean'",
     "output_type": "error",
     "traceback": [
      "\u001b[0;31m---------------------------------------------------------------------------\u001b[0m",
      "\u001b[0;31mKeyError\u001b[0m                                  Traceback (most recent call last)",
      "\u001b[0;32m<ipython-input-13-3b383587189e>\u001b[0m in \u001b[0;36m<module>\u001b[0;34m()\u001b[0m\n\u001b[1;32m     34\u001b[0m             \u001b[0mDeltaTs\u001b[0m \u001b[0;34m=\u001b[0m \u001b[0mmodel\u001b[0m\u001b[0;34m.\u001b[0m\u001b[0mTs\u001b[0m \u001b[0;34m-\u001b[0m \u001b[0mslab_control\u001b[0m\u001b[0;34m[\u001b[0m\u001b[0mn\u001b[0m\u001b[0;34m]\u001b[0m\u001b[0;34m.\u001b[0m\u001b[0mTs\u001b[0m\u001b[0;34m\u001b[0m\u001b[0m\n\u001b[1;32m     35\u001b[0m             \u001b[0mmodel\u001b[0m\u001b[0;34m.\u001b[0m\u001b[0msubprocess\u001b[0m\u001b[0;34m[\u001b[0m\u001b[0;34m'Convection'\u001b[0m\u001b[0;34m]\u001b[0m\u001b[0;34m.\u001b[0m\u001b[0madj_lapse_rate\u001b[0m \u001b[0;34m=\u001b[0m \u001b[0;36m6.5\u001b[0m \u001b[0;34m+\u001b[0m \u001b[0mlapse_change_factor\u001b[0m\u001b[0;34m[\u001b[0m\u001b[0mn\u001b[0m\u001b[0;34m]\u001b[0m\u001b[0;34m*\u001b[0m\u001b[0mDeltaTs\u001b[0m\u001b[0;34m\u001b[0m\u001b[0m\n\u001b[0;32m---> 36\u001b[0;31m             \u001b[0mmodel\u001b[0m\u001b[0;34m.\u001b[0m\u001b[0mstep_forward\u001b[0m\u001b[0;34m(\u001b[0m\u001b[0;34m)\u001b[0m\u001b[0;34m\u001b[0m\u001b[0m\n\u001b[0m\u001b[1;32m     37\u001b[0m \u001b[0;34m\u001b[0m\u001b[0m\n\u001b[1;32m     38\u001b[0m             \u001b[0mTsarray\u001b[0m\u001b[0;34m[\u001b[0m\u001b[0mn\u001b[0m\u001b[0;34m]\u001b[0m\u001b[0;34m[\u001b[0m\u001b[0my\u001b[0m\u001b[0;34m+\u001b[0m\u001b[0;36m1\u001b[0m\u001b[0;34m]\u001b[0m \u001b[0;34m=\u001b[0m \u001b[0mmodel\u001b[0m\u001b[0;34m.\u001b[0m\u001b[0mTs\u001b[0m\u001b[0;34m\u001b[0m\u001b[0m\n",
      "\u001b[0;32m~/anaconda3/lib/python3.6/site-packages/climlab/process/time_dependent_process.py\u001b[0m in \u001b[0;36mstep_forward\u001b[0;34m(self)\u001b[0m\n\u001b[1;32m    325\u001b[0m \u001b[0;34m\u001b[0m\u001b[0m\n\u001b[1;32m    326\u001b[0m         \"\"\"\n\u001b[0;32m--> 327\u001b[0;31m         \u001b[0mtenddict\u001b[0m \u001b[0;34m=\u001b[0m \u001b[0mself\u001b[0m\u001b[0;34m.\u001b[0m\u001b[0mcompute\u001b[0m\u001b[0;34m(\u001b[0m\u001b[0;34m)\u001b[0m\u001b[0;34m\u001b[0m\u001b[0m\n\u001b[0m\u001b[1;32m    328\u001b[0m         \u001b[0;31m#  Total tendency is applied as an explicit forward timestep\u001b[0m\u001b[0;34m\u001b[0m\u001b[0;34m\u001b[0m\u001b[0m\n\u001b[1;32m    329\u001b[0m         \u001b[0;31m# (already accounting properly for order of operations in compute() )\u001b[0m\u001b[0;34m\u001b[0m\u001b[0;34m\u001b[0m\u001b[0m\n",
      "\u001b[0;32m~/anaconda3/lib/python3.6/site-packages/climlab/process/time_dependent_process.py\u001b[0m in \u001b[0;36mcompute\u001b[0;34m(self)\u001b[0m\n\u001b[1;32m    225\u001b[0m         \u001b[0;32mfor\u001b[0m \u001b[0mproctype\u001b[0m \u001b[0;32min\u001b[0m \u001b[0;34m[\u001b[0m\u001b[0;34m'explicit'\u001b[0m\u001b[0;34m,\u001b[0m \u001b[0;34m'implicit'\u001b[0m\u001b[0;34m,\u001b[0m \u001b[0;34m'adjustment'\u001b[0m\u001b[0;34m]\u001b[0m\u001b[0;34m:\u001b[0m\u001b[0;34m\u001b[0m\u001b[0m\n\u001b[1;32m    226\u001b[0m             \u001b[0;32mfor\u001b[0m \u001b[0mvarname\u001b[0m\u001b[0;34m,\u001b[0m \u001b[0mtend\u001b[0m \u001b[0;32min\u001b[0m \u001b[0mtendencies\u001b[0m\u001b[0;34m[\u001b[0m\u001b[0mproctype\u001b[0m\u001b[0;34m]\u001b[0m\u001b[0;34m.\u001b[0m\u001b[0mitems\u001b[0m\u001b[0;34m(\u001b[0m\u001b[0;34m)\u001b[0m\u001b[0;34m:\u001b[0m\u001b[0;34m\u001b[0m\u001b[0m\n\u001b[0;32m--> 227\u001b[0;31m                 \u001b[0mself\u001b[0m\u001b[0;34m.\u001b[0m\u001b[0mtendencies\u001b[0m\u001b[0;34m[\u001b[0m\u001b[0mvarname\u001b[0m\u001b[0;34m]\u001b[0m \u001b[0;34m+=\u001b[0m \u001b[0mtend\u001b[0m\u001b[0;34m\u001b[0m\u001b[0m\n\u001b[0m\u001b[1;32m    228\u001b[0m         \u001b[0;31m# Finally compute my own tendencies, if any\u001b[0m\u001b[0;34m\u001b[0m\u001b[0;34m\u001b[0m\u001b[0m\n\u001b[1;32m    229\u001b[0m         \u001b[0mself_tend\u001b[0m \u001b[0;34m=\u001b[0m \u001b[0mself\u001b[0m\u001b[0;34m.\u001b[0m\u001b[0m_compute\u001b[0m\u001b[0;34m(\u001b[0m\u001b[0;34m)\u001b[0m\u001b[0;34m\u001b[0m\u001b[0m\n",
      "\u001b[0;31mKeyError\u001b[0m: 'Tocean'"
     ]
    }
   ],
   "source": [
    "num_years = 400\n",
    "years = np.arange(num_years+1)\n",
    "\n",
    "Tsarray = []\n",
    "Tocean = []\n",
    "netrad = []\n",
    "for n in range(len(deep)):\n",
    "    thisTs = np.nan * np.zeros(num_years+1)\n",
    "    thisnetrad = np.nan * np.zeros(num_years+1)\n",
    "    thisTocean = np.nan * np.zeros((deep[n].Tocean.size, num_years+1))\n",
    "    thisTs[0] = deep[n].Ts\n",
    "    thisnetrad[0] = deep[n].ASR - deep[n].OLR\n",
    "    thisTocean[:, 0] = deep[n].Tocean\n",
    "    Tsarray.append(thisTs)\n",
    "    Tocean.append(thisTocean)\n",
    "    netrad.append(thisnetrad)\n",
    "    \n",
    "CO2initial = deep[0].subprocess['Radiation'].absorber_vmr['CO2']\n",
    "CO2array = np.nan * np.zeros(num_years+1)\n",
    "CO2array[0] = CO2initial * 1E6\n",
    "\n",
    "#  Increase CO2 by 1% / year for 70 years (until doubled), and then hold constant\n",
    "for y in range(num_years):\n",
    "    if deep[0].subprocess['Radiation'].absorber_vmr['CO2'] < 2 * CO2initial:\n",
    "        for model in deep:\n",
    "            model.subprocess['Radiation'].absorber_vmr['CO2'] *= 1.01\n",
    "    CO2array[y+1] = deep[0].subprocess['Radiation'].absorber_vmr['CO2'] * 1E6\n",
    "    print('Year ', y+1, ', CO2 mixing ratio is ', CO2array[y+1],' ppm.')\n",
    "\n",
    "    for n, model in enumerate(deep):\n",
    "        for m in range(steps_per_year):            \n",
    "            qsat = climlab.utils.thermo.qsat(model.Tatm, model.lev)\n",
    "            model.subprocess['Radiation'].specific_humidity[:] = rh * qsat\n",
    "            DeltaTs = model.Ts - slab_control[n].Ts\n",
    "            model.subprocess['Convection'].adj_lapse_rate = 6.5 + lapse_change_factor[n]*DeltaTs\n",
    "            model.step_forward()\n",
    "            \n",
    "            Tsarray[n][y+1] = model.Ts\n",
    "            Tocean[n][:, y+1] = model.Tocean\n",
    "            netrad[n][y+1] = model.ASR - model.OLR"
   ]
  },
  {
   "cell_type": "code",
   "execution_count": 15,
   "metadata": {},
   "outputs": [
    {
     "name": "stdout",
     "output_type": "stream",
     "text": [
      "climlab Process of type <class 'climlab.process.time_dependent_process.TimeDependentProcess'>. \n",
      "State variables and domain shapes: \n",
      "  Tatm: (26,) \n",
      "  Ts: (1,) \n",
      "  Tocean: (20,) \n",
      "The subprocess tree: \n",
      "RCM with high sensitivity and efficient heat uptake: <class 'climlab.process.time_dependent_process.TimeDependentProcess'>\n",
      "   Radiation: <class 'climlab.radiation.rrtm.rrtmg.RRTMG'>\n",
      "      SW: <class 'climlab.radiation.rrtm.rrtmg_sw.RRTMG_SW'>\n",
      "      LW: <class 'climlab.radiation.rrtm.rrtmg_lw.RRTMG_LW'>\n",
      "   Convection: <class 'climlab.convection.convadj.ConvectiveAdjustment'>\n",
      "   Ocean Heat Uptake: <class 'climlab.dynamics.diffusion.Diffusion'>\n",
      "\n"
     ]
    }
   ],
   "source": [
    "print(model)"
   ]
  },
  {
   "cell_type": "code",
   "execution_count": 24,
   "metadata": {},
   "outputs": [
    {
     "data": {
      "text/plain": [
       "{'Tocean': Field([0., 0., 0., 0., 0., 0., 0., 0., 0., 0., 0., 0., 0., 0., 0., 0., 0.,\n",
       "        0., 0., 0.])}"
      ]
     },
     "execution_count": 24,
     "metadata": {},
     "output_type": "execute_result"
    }
   ],
   "source": [
    "model.subprocess['Ocean Heat Uptake'].tendencies"
   ]
  },
  {
   "cell_type": "code",
   "execution_count": 18,
   "metadata": {},
   "outputs": [
    {
     "data": {
      "image/png": "[encoded data removed]",
      "text/plain": [
       "<Figure size 864x1008 with 6 Axes>"
      ]
     },
     "metadata": {},
     "output_type": "display_data"
    }
   ],
   "source": [
    "colorlist = ['b', 'r']\n",
    "co2color = 'k'\n",
    "\n",
    "num_axes = len(deep) + 1\n",
    "fig, ax = plt.subplots(num_axes, figsize=(12,14))\n",
    "\n",
    "# Twin the x-axis twice to make independent y-axes.\n",
    "topaxes = [ax[0], ax[0].twinx(), ax[0].twinx()]\n",
    "\n",
    "# Make some space on the right side for the extra y-axis.\n",
    "fig.subplots_adjust(right=0.85)\n",
    "\n",
    "# Move the last y-axis spine over to the right by 10% of the width of the axes\n",
    "topaxes[-1].spines['right'].set_position(('axes', 1.1))\n",
    "\n",
    "# To make the border of the right-most axis visible, we need to turn the frame\n",
    "# on. This hides the other plots, however, so we need to turn its fill off.\n",
    "topaxes[-1].set_frame_on(True)\n",
    "topaxes[-1].patch.set_visible(False)\n",
    "\n",
    "for n, model in enumerate(slab_2x):\n",
    "    topaxes[0].plot(model.Ts*np.ones_like(Tsarray[n]), '--', color=colorlist[n])\n",
    "topaxes[0].set_ylabel('Surface temperature (K)')\n",
    "topaxes[0].set_xlabel('Years')\n",
    "topaxes[0].set_title('Transient warming scenario: 1%/year CO2 increase to doubling, followed by CO2 stabilization', fontsize=14)\n",
    "topaxes[0].legend(['Model 0', 'Model 1'], loc='lower right')\n",
    "\n",
    "topaxes[1].plot(CO2array, color=co2color)\n",
    "topaxes[1].set_ylabel('CO2 (ppm)', color=co2color)\n",
    "for tl in topaxes[1].get_yticklabels():\n",
    "    tl.set_color(co2color)\n",
    "topaxes[1].set_ylim(300., 1000.)\n",
    "\n",
    "topaxes[2].set_ylabel('TOA imbalance (W/m2)', color='b')\n",
    "for tl in topaxes[2].get_yticklabels():\n",
    "    tl.set_color('b')\n",
    "topaxes[2].set_ylim(0, 3)\n",
    "\n",
    "\n",
    "contour_levels = np.arange(-0.25, 3.25, 0.25)\n",
    "for n in range(len(deep)):\n",
    "    cax = ax[n+1].contourf(years, deep[n].depth, Tocean[n] - Tsarray[n][0], levels=contour_levels)\n",
    "    ax[n+1].invert_yaxis()\n",
    "    ax[n+1].set_ylabel('Depth (m)')\n",
    "    ax[n+1].set_xlabel('Years')\n",
    "\n",
    "\n",
    "for n, model in enumerate(deep):\n",
    "    topaxes[0].plot(Tsarray[n], color=colorlist[n])\n",
    "    topaxes[2].plot(netrad[n], ':', color=colorlist[n])\n",
    "    for n in range(len(deep)):\n",
    "        cax = ax[n+1].contourf(years, deep[n].depth, Tocean[n] - Tsarray[n][0], levels=contour_levels)    \n",
    "topaxes[1].plot(CO2array, color=co2color)\n",
    "\n",
    "fig.subplots_adjust(bottom=0.12)\n",
    "cbar_ax = fig.add_axes([0.25, 0.02, 0.5, 0.03])\n",
    "fig.colorbar(cax, cax=cbar_ax, orientation='horizontal');"
   ]
  },
  {
   "cell_type": "markdown",
   "metadata": {},
   "source": [
    "## Transient vs. equilibrium warming: key points\n",
    "\n",
    "- During the first 70 years, the radiative forcing goes up every year\n",
    "- The warming in the two models is almost identical during this phase\n",
    "- After year 70, the CO2 levels are stable and so the radiative forcing is no longer increasing\n",
    "- Both models continue to warm for hundreds of years\n",
    "- The difference between the two models become larger over time\n",
    "- In either case, at the time of CO2 doubling the model has achieved only a fraction of its equilibrium surface warming.\n",
    "- The difference between the warming at year 70 and the equilibrium warming is called the **committed warming**. It is the global warming associated with CO2 emissions that are **already in the atmosphere**.\n",
    "- How do we know at year 70 what the committed warming is?  Are we on the blue or the red path? At year 70, have we achieved half or only a third of the eventual equilibrium warming?\n",
    "- In our example, the more sensitive model also has more efficient ocean heat uptake, so the initial warming looks identical. \n",
    "- **Uncertainties in both climate feedback processes and ocean heat uptake processes contribute to uncertainty in the rate of global warming**"
   ]
  },
  {
   "cell_type": "markdown",
   "metadata": {},
   "source": [
    "## Results from comprehensive coupled GCMs"
   ]
  },
  {
   "cell_type": "markdown",
   "metadata": {},
   "source": [
    "### Fast and slow components of the warming"
   ]
  },
  {
   "cell_type": "markdown",
   "metadata": {},
   "source": [
    "This figure shows how a comprehensive coupled GCM responds to the same kind of idealized CO2 increase we have looked at above: CO2 increases at 1%/year for 70 years and is then held constant at twice the pre-industrial level (blue curve), or at 4x the pre-industrial level (red curve).\n",
    "\n",
    "The dashed curve show the **ocean heat content** continuing to rise slowly over thousands of years."
   ]
  },
  {
   "cell_type": "markdown",
   "metadata": {},
   "source": [
    "<img src=\"http://www.atmos.albany.edu/facstaff/brose/classes/ENV415_Spring2018/images/Yoshimori_transientwarming.png\" width=\"400\">"
   ]
  },
  {
   "cell_type": "markdown",
   "metadata": {},
   "source": [
    "> M. Yoshimori, M. Watanabe, H. Shiogama, A. Oka, A. Abe-Ouchi, R. Ohgaito, and Y. Kamae. A review of progress towards understanding the transient global mean surface temperature response to radiative perturbation. Prog. Earth Planet. Sic., 3, 2016."
   ]
  },
  {
   "cell_type": "markdown",
   "metadata": {},
   "source": [
    "### What happens if CO2 levels are abruptly returned to pre-industrial levels? "
   ]
  },
  {
   "cell_type": "markdown",
   "metadata": {},
   "source": [
    "Here, in a different model, we see the surface temperature change through the historical period (black) followed by a typical future global warming scenario (blue).\n",
    "\n",
    "The red curves show the effects of suddenly returning greenhouse gases to their preindustrial levels at various times in the future.\n",
    "\n",
    "The temperatures very quickly drop, but **not back to the preindustrial values**. Over time, the build-up of heat content in the deep ocean means that, even if CO2 levels revert to what they used to be, the climate remain quite a bit warmer for thousands of years.\n",
    "\n",
    "This has been referred to as the **recalcitrant** component of global warming, in analogy with stubborn medical conditions that are difficult to treat."
   ]
  },
  {
   "cell_type": "markdown",
   "metadata": {},
   "source": [
    "<img src=\"http://www.atmos.albany.edu/facstaff/brose/classes/ENV415_Spring2018/images/Held_recalcitrant.png\" width=\"400\">"
   ]
  },
  {
   "cell_type": "markdown",
   "metadata": {},
   "source": [
    "> I. M. Held, M. Winton, K. Takahashi, T. Delworth, F. Zeng, and G. K. Vallis. Probing the fast and slow components of global warming by returning abruptly to preindustrial forcing. J. Climate, 23:2418–2427, 2010."
   ]
  },
  {
   "cell_type": "code",
   "execution_count": null,
   "metadata": {},
   "outputs": [],
   "source": []
  }
 ],
 "metadata": {
  "kernelspec": {
   "display_name": "Python 3",
   "language": "python",
   "name": "python3"
  },
  "language_info": {
   "codemirror_mode": {
    "name": "ipython",
    "version": 3
   },
   "file_extension": ".py",
   "mimetype": "text/x-python",
   "name": "python",
   "nbconvert_exporter": "python",
   "pygments_lexer": "ipython3",
   "version": "3.6.5"
  }
 },
 "nbformat": 4,
 "nbformat_minor": 1
}
