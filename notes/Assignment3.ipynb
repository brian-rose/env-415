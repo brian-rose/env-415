{
 "cells": [
  {
   "cell_type": "markdown",
   "metadata": {},
   "source": [
    "# ENV/ATM 415: Climate Laboratory\n",
    "\n",
    "[Brian E. J. Rose](http://www.atmos.albany.edu/facstaff/brose/index.html), University at Albany\n",
    "\n",
    "# Assignment 3\n",
    "\n",
    "## Due Tuesday April 3, 2018"
   ]
  },
  {
   "cell_type": "markdown",
   "metadata": {},
   "source": [
    "- Make a copy of this notebook file so you can add your answers in additional cells.\n",
    "- Complete all the problems below. \n",
    "- For the questions that require calculation, show your code.\n",
    "- Include comments in your code to explain your method as necessary.\n",
    "- For text answers, use `Markdown` cells rather than `Code` cells.\n",
    "- Submit your solutions in a single Jupyter notebook that contains your text, your code, and your figures.\n",
    "- *Try to make sure that your notebook runs cleanly without errors:*\n",
    "    - Save your notebook\n",
    "    - From the `Kernel` menu, select `Restart & Run All`\n",
    "    - Did the notebook run from start to finish without error and produce the expected output?\n",
    "    - If yes, save again and submit your notebook file\n",
    "    - If no, fix the errors and try again.\n",
    "- Save your notebook as `[your last name].ipynb`, e.g. my notebook should be called `Rose.ipynb`.  *This makes it easier for me when I collect all your answers*\n",
    "- Submit your answers by email before class on **Tuesday April 3 2018**."
   ]
  },
  {
   "cell_type": "markdown",
   "metadata": {},
   "source": [
    "## Question 1\n",
    "\n",
    "(Primer Section 3.8, Review question 1)\n",
    "\n",
    "List 10 questions that a strictly zero-dimensional climate model cannot answer. For at least five of the 10 questions, add your explanation of why."
   ]
  },
  {
   "cell_type": "markdown",
   "metadata": {},
   "source": [
    "*Your answers here*"
   ]
  },
  {
   "cell_type": "markdown",
   "metadata": {},
   "source": [
    "## Question 2\n",
    "\n",
    "(Primer Section 3.8, Review question 4)\n",
    "\n",
    "What is a box model? What components of the climate have been placed in such 'boxes'? Give three examples of different box model components. Is there a limit to the number of boxes a climate model can have? If yes, what is it, and, if no, why not?"
   ]
  },
  {
   "cell_type": "markdown",
   "metadata": {},
   "source": [
    "*Your answers here*"
   ]
  },
  {
   "cell_type": "markdown",
   "metadata": {},
   "source": [
    "## Question 3\n",
    "\n",
    "(Primer Section 4.8, Review question 3)\n",
    "\n",
    "What is the meaning of the term 'convective adjustment'? How is it applied to low-resolution climate models? How does such 'adjustment' differ from true atmospheric convection? How might different parameterizations of such 'convection' affect the sensitivity of a climate model?"
   ]
  },
  {
   "cell_type": "markdown",
   "metadata": {},
   "source": [
    "*Your answers here*"
   ]
  },
  {
   "cell_type": "markdown",
   "metadata": {},
   "source": [
    "## Question 4"
   ]
  },
  {
   "cell_type": "markdown",
   "metadata": {},
   "source": [
    "Here you will compare the effects of doubling CO$_2$ in the single-column Radiative-Convective model and in the CESM model\n",
    "\n",
    "Following the notes in Lecture 10, do the following:\n",
    "\n",
    "- set up a single-column radiative-convective model with specific humidity taken from the CESM control simulation\n",
    "- Run this control model out to equilibrium\n",
    "- Create a clone of the column model\n",
    "- Double CO$_2$ in the clone\n",
    "- Timestep this model out to equilibrium **with fixed relative humidity**\n",
    "\n",
    "Now load the output from the two CESM simulations: control and 2xCO2. Refer back to earlier notes and your work in Assignment 2 for how to access the data.\n",
    "\n",
    "Make a nice skew-T plot that shows four temperature profiles:\n",
    "\n",
    "- Radiative-Convective model, control\n",
    "- Radiative-Convective model, equilibrium after doubling CO$_2$\n",
    "- CESM model, control, **global annual average**\n",
    "- CESM model, equilibrium after doubling CO$_2$, **global annual average**\n",
    "\n",
    "Note the similarities and differences in the response to doubling CO$_2$ in the two models."
   ]
  },
  {
   "cell_type": "code",
   "execution_count": null,
   "metadata": {},
   "outputs": [],
   "source": []
  },
  {
   "cell_type": "markdown",
   "metadata": {},
   "source": [
    "## Question 5"
   ]
  },
  {
   "cell_type": "markdown",
   "metadata": {},
   "source": [
    "In the previous question you may have noticed that the CESM warms more in the upper troposphere than at the surface in the global average. This is a typical, expected feature of global warming that is **not represented in our radiative-convective model**, which is forced to a single prescribed lapse rate due to our convective adjustment.\n",
    "\n",
    "Here you will suppose that other physical processes modify this lapse rate as the climate warms. Repeat the single-column global warming calculation you did in Question 4, but in addition to implementing the water vapor feedback as a fixed relative humidity, you will implement a **lapse rate feedback** using this formula:\n",
    "\n",
    "$$ \\Gamma = \\Gamma_{ref} - (0.3 \\text{ km}) \\Delta T_s $$\n",
    "\n",
    "where $\\Gamma_{ref}$ is the critical lapse rate you used in your control model, probably 6.5 K / km, and $\\Delta T_s$ is the **current value of the surface warming relative to the control** in units of K. So, for example if the model has warmed by 1 K at the surface, then our parameterization says that the critical lapse rate should be 6.5 - 0.3 = 6.2 K / km.\n",
    "\n",
    "You can implement this by changing the attribute\n",
    "```\n",
    "adj_lapse_rate\n",
    "```\n",
    "of the convection process at each timestep, similar to how we implemented the water vapor feedback.\n",
    "\n",
    "For example, if you have a model called `mymodel` that contains `ConvectiveAdjustment` process called `Convection`:\n",
    "```\n",
    "mymodel.subprocess['Convection'].adj_lapse_rate = newvalue\n",
    "```\n",
    "where `newvalue` is a number in K / km.\n",
    "\n",
    "- Calculate the Equilibrium Climate Sensitivity of this new version of the model. \n",
    "- Is the sensitivity larger or smaller than the version with a fixed lapse rate?\n",
    "- Would you describe the **lapse rate feedback** as positive or negative?\n",
    "- Offer some thoughts about this result. See if you can relate your result to the IPCC figure with feedback results from comprehensive models in our lecture notes."
   ]
  },
  {
   "cell_type": "code",
   "execution_count": null,
   "metadata": {},
   "outputs": [],
   "source": []
  }
 ],
 "metadata": {
  "kernelspec": {
   "display_name": "Python 3",
   "language": "python",
   "name": "python3"
  },
  "language_info": {
   "codemirror_mode": {
    "name": "ipython",
    "version": 3
   },
   "file_extension": ".py",
   "mimetype": "text/x-python",
   "name": "python",
   "nbconvert_exporter": "python",
   "pygments_lexer": "ipython3",
   "version": "3.6.2"
  }
 },
 "nbformat": 4,
 "nbformat_minor": 2
}
