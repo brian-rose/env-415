{
 "cells": [
  {
   "cell_type": "markdown",
   "metadata": {},
   "source": [
    "# ENV/ATM 415: Climate Laboratory\n",
    "\n",
    "[Brian E. J. Rose](http://www.atmos.albany.edu/facstaff/brose/index.html), University at Albany\n",
    "\n",
    "# Lecture 16: The one-dimensional Energy Balance Model"
   ]
  },
  {
   "cell_type": "markdown",
   "metadata": {},
   "source": [
    "## Contents\n",
    "\n",
    "1. [Heat transport and the energy budget for each latitude band](#section1)\n",
    "2. [Parameterizing the radiation terms](#section2)\n",
    "3. [Tuning the longwave parameters with reanalysis data](#section3)\n",
    "4. [The one-dimensional diffusive energy balance model](#section4)\n",
    "5. [The annual-mean EBM](#section5)\n",
    "6. [Tuning the diffusivity](#section6)\n",
    "7. [Summary: parameter values in the diffusive EBM](#section7)"
   ]
  },
  {
   "cell_type": "markdown",
   "metadata": {},
   "source": [
    "____________\n",
    "<a id='section1'></a>\n",
    "\n",
    "## 1. Heat transport and the energy budget for each latitude band\n",
    "____________"
   ]
  },
  {
   "cell_type": "markdown",
   "metadata": {},
   "source": [
    "Way back at the beginning of the semester we wrote down a **global average energy budget** that looked like\n",
    "\n",
    "$$ C \\frac{dT}{dt} = \\text{ASR} - \\text{OLR} $$"
   ]
  },
  {
   "cell_type": "markdown",
   "metadata": {},
   "source": [
    "Last time we talked about the additional **local heating** of each latitude band associated with atmospheric and oceanic motions:\n",
    "\n",
    "$$ h = - \\frac{1}{2 \\pi a^2  \\cos⁡\\phi } \\frac{\\partial \\mathcal{H}}{\\partial \\phi} $$"
   ]
  },
  {
   "cell_type": "markdown",
   "metadata": {},
   "source": [
    "Using this, we can write down a **local energy budget** expressing how the temperature of each latitude band should change:\n",
    "\n",
    "$$ C \\frac{\\partial T}{\\partial t} = \\text{ASR} - \\text{OLR} - \\frac{1}{2 \\pi a^2  \\cos⁡\\phi } \\frac{\\partial \\mathcal{H}}{\\partial \\phi}$$"
   ]
  },
  {
   "cell_type": "markdown",
   "metadata": {},
   "source": [
    "Now the temperature $T$ is a function of latitude $\\phi$ as well as time $t$ (so we write it as a partial derivative) "
   ]
  },
  {
   "cell_type": "markdown",
   "metadata": {},
   "source": [
    "We also introduced the **diffusive heat transport parameterization**\n",
    "\n",
    "$$ \\mathcal{H}(\\phi) = -2 \\pi ~a^2 \\cos\\phi D \\frac{\\partial T}{\\partial \\phi} $$"
   ]
  },
  {
   "cell_type": "markdown",
   "metadata": {},
   "source": [
    "Putting this parameterization into the budget above gives\n",
    "\n",
    "$$ C \\frac{\\partial T}{\\partial t} = \\text{ASR} - \\text{OLR} + \\frac{D}{\\cos⁡\\phi } \\frac{\\partial}{\\partial \\phi} \\left( \\cos\\phi \\frac{\\partial T}{\\partial \\phi} \\right)$$\n",
    "\n",
    "(where we pulled the parameter $D$ out of the derivative because we are assuming it is a constant)"
   ]
  },
  {
   "cell_type": "markdown",
   "metadata": {},
   "source": [
    "____________\n",
    "<a id='section2'></a>\n",
    "\n",
    "## 2. Parameterizing the radiation terms\n",
    "____________"
   ]
  },
  {
   "cell_type": "markdown",
   "metadata": {},
   "source": [
    "To turn our **budget** into a **model**, we need specific parameterizations that link the radiation ASR and OLR to surface temperature $T$ (the state variable for our model)."
   ]
  },
  {
   "cell_type": "markdown",
   "metadata": {},
   "source": [
    "### Fixed albedo assumption"
   ]
  },
  {
   "cell_type": "markdown",
   "metadata": {},
   "source": [
    "First, as usual, we can write the solar term as\n",
    "\n",
    "$$ \\text{ASR} = (1-\\alpha) ~ Q $$"
   ]
  },
  {
   "cell_type": "markdown",
   "metadata": {},
   "source": [
    "For now, we will **assume that the planetary albedo is fixed (does not depend on temperature)**. Therefore the entire shortwave term $(1-\\alpha) Q$ is a fixed source term in our budget. It varies in space and time but does not depend on $T$."
   ]
  },
  {
   "cell_type": "markdown",
   "metadata": {},
   "source": [
    "Note that the solar term is (at least in annual average) larger at equator than poles… and transport term acts to flatten out the temperatures."
   ]
  },
  {
   "cell_type": "markdown",
   "metadata": {},
   "source": [
    "### Parameterizing the longwave radiation"
   ]
  },
  {
   "cell_type": "markdown",
   "metadata": {},
   "source": [
    "Now, we almost have a model we can solve for $T$!  Just need a function OLR$(T)$ expressing the temperature dependence of the emission to space.\n",
    "\n",
    "So…  what’s the link between OLR and temperature????\n",
    "\n",
    "[ discuss ]"
   ]
  },
  {
   "cell_type": "markdown",
   "metadata": {},
   "source": [
    "We spent a good chunk of the course looking at this question, and developed a model of a vertical column of air.\n",
    "\n",
    "We are trying now to build a model of the equator-to-pole (or pole-to-pole) temperature structure."
   ]
  },
  {
   "cell_type": "markdown",
   "metadata": {},
   "source": [
    "We COULD use an array of column models, representing temperature as a function of height and latitude (and time).\n",
    "\n",
    "But instead, we will keep things simple, one spatial dimension at a time."
   ]
  },
  {
   "cell_type": "markdown",
   "metadata": {},
   "source": [
    "Introduce the following **simple parameterization**:\n",
    "\n",
    "$$ \\text{OLR} = A + B T $$\n",
    "\n",
    "With:\n",
    "\n",
    "- $T$ the zonal average surface temperature in ºC\n",
    "- $A$ is a constant in W m$^{-2}$\n",
    "- $B$ is a constant in W m$^{-2}$ ºC$^{-1}$.\n",
    "\n",
    "Think of $A$ as an inverse measure of the greenhouse gas amount (Why?).\n",
    "\n",
    "The parameter $B$ is closely related to the **climate feedback parameter** $\\lambda$ that we defined a while back. The only difference is that in the EBM we are going to explicitly separate the **albedo feedback** from all other radiative feedbacks."
   ]
  },
  {
   "cell_type": "markdown",
   "metadata": {},
   "source": [
    "____________\n",
    "<a id='section3'></a>\n",
    "\n",
    "## 3. Tuning the longwave parameters with reanalysis data\n",
    "____________"
   ]
  },
  {
   "cell_type": "markdown",
   "metadata": {},
   "source": [
    "### OLR versus surface temperature in NCEP Reanalysis data\n",
    "\n",
    "Let's look at the data to find reasonable values for $A$ and $B$."
   ]
  },
  {
   "cell_type": "code",
   "execution_count": null,
   "metadata": {},
   "outputs": [],
   "source": [
    "%matplotlib inline\n",
    "import numpy as np\n",
    "import matplotlib.pyplot as plt\n",
    "import xarray as xr\n",
    "import climlab"
   ]
  },
  {
   "cell_type": "code",
   "execution_count": null,
   "metadata": {},
   "outputs": [],
   "source": [
    "ncep_url = \"http://www.esrl.noaa.gov/psd/thredds/dodsC/Datasets/ncep.reanalysis.derived/\"\n",
    "ncep_air = xr.open_dataset( ncep_url + \"pressure/air.mon.1981-2010.ltm.nc\", decode_times=False)\n",
    "ncep_Ts = xr.open_dataset( ncep_url + \"surface_gauss/skt.sfc.mon.1981-2010.ltm.nc\", decode_times=False)\n",
    "lat_ncep = ncep_Ts.lat; lon_ncep = ncep_Ts.lon\n",
    "print( ncep_Ts)"
   ]
  },
  {
   "cell_type": "code",
   "execution_count": null,
   "metadata": {},
   "outputs": [],
   "source": [
    "Ts_ncep_annual = ncep_Ts.skt.mean(dim=('lon','time'))"
   ]
  },
  {
   "cell_type": "code",
   "execution_count": null,
   "metadata": {},
   "outputs": [],
   "source": [
    "ncep_ulwrf = xr.open_dataset( ncep_url + \"other_gauss/ulwrf.ntat.mon.1981-2010.ltm.nc\", decode_times=False)\n",
    "ncep_dswrf = xr.open_dataset( ncep_url + \"other_gauss/dswrf.ntat.mon.1981-2010.ltm.nc\", decode_times=False)\n",
    "ncep_uswrf = xr.open_dataset( ncep_url + \"other_gauss/uswrf.ntat.mon.1981-2010.ltm.nc\", decode_times=False)\n",
    "OLR_ncep_annual = ncep_ulwrf.ulwrf.mean(dim=('lon','time'))\n",
    "ASR_ncep_annual = (ncep_dswrf.dswrf - ncep_uswrf.uswrf).mean(dim=('lon','time'))"
   ]
  },
  {
   "cell_type": "code",
   "execution_count": null,
   "metadata": {},
   "outputs": [],
   "source": [
    "from scipy.stats import linregress\n",
    "slope, intercept, r_value, p_value, std_err = linregress(Ts_ncep_annual, OLR_ncep_annual)\n",
    "\n",
    "print( 'Best fit is A = %0.0f W/m2 and B = %0.1f W/m2/degC' %(intercept, slope))"
   ]
  },
  {
   "cell_type": "markdown",
   "metadata": {},
   "source": [
    "We're going to plot the data and the best fit line, but also another line using these values:"
   ]
  },
  {
   "cell_type": "code",
   "execution_count": null,
   "metadata": {},
   "outputs": [],
   "source": [
    "#  More standard values\n",
    "A = 210.\n",
    "B = 2."
   ]
  },
  {
   "cell_type": "code",
   "execution_count": null,
   "metadata": {},
   "outputs": [],
   "source": [
    "fig, ax1 = plt.subplots(figsize=(8,6))\n",
    "ax1.plot( Ts_ncep_annual, OLR_ncep_annual, 'o' , label='data')\n",
    "ax1.plot( Ts_ncep_annual, intercept + slope * Ts_ncep_annual, 'k--', label='best fit')\n",
    "ax1.plot( Ts_ncep_annual, A + B * Ts_ncep_annual, 'r--', label='B=2')\n",
    "ax1.set_xlabel('Surface temperature (C)', fontsize=16)\n",
    "ax1.set_ylabel('OLR (W m$^{-2}$)', fontsize=16)\n",
    "ax1.set_title('OLR versus surface temperature from NCEP reanalysis', fontsize=18)\n",
    "ax1.legend(loc='upper left')\n",
    "ax1.grid()"
   ]
  },
  {
   "cell_type": "markdown",
   "metadata": {},
   "source": [
    "Discuss these curves...\n",
    "\n",
    "Suggestion of at least 3 different regimes with different slopes (cold, medium, warm).\n",
    "\n",
    "Unbiased \"best fit\" is actually a poor fit over all the intermediate temperatures.\n",
    "\n",
    "The astute reader will note that...   by taking the zonal average of the data before the regression, we are biasing this estimate toward cold temperatures.  [WHY?]\n",
    "\n"
   ]
  },
  {
   "cell_type": "markdown",
   "metadata": {},
   "source": [
    "Let's take these reference values:\n",
    "\n",
    "$$ A = 210 ~ \\text{W m}^{-2}, ~~~ B = 2 ~ \\text{W m}^{-2}~^\\circ\\text{C}^{-1} $$"
   ]
  },
  {
   "cell_type": "markdown",
   "metadata": {},
   "source": [
    "Note that in the **global average**, recall $\\overline{T_s} = 288 \\text{ K} = 15^\\circ\\text{C}$\n",
    "\n",
    "And so this parameterization gives \n",
    "\n",
    "$$ \\overline{\\text{OLR}} = 210 + 15 \\times 2 = 240 ~\\text{W m}^{-2} $$\n",
    "\n",
    "And the observed global mean is $\\overline{\\text{OLR}} = 239 ~\\text{W m}^{-2} $\n",
    "So this is consistent.\n",
    "\n",
    "\n"
   ]
  },
  {
   "cell_type": "markdown",
   "metadata": {},
   "source": [
    "### Relationship between $B$ and feedback parameters"
   ]
  },
  {
   "cell_type": "markdown",
   "metadata": {},
   "source": [
    "Recall that when we looked at climate forcing and feedback, we said that overall response to a forcing $\\Delta R$ in W m$^{-2}$ is\n",
    "\n",
    "$$ \\Delta T = \\frac{\\Delta R}{\\lambda} $$\n",
    "\n",
    "and where $\\lambda$ is the overall **climate feedback parameter**:\n",
    "\n",
    "$$\\lambda = \\lambda_0 - \\sum_{i=1}^{N} \\lambda_i $$\n",
    "\n",
    "and\n",
    "\n",
    "- $\\lambda_0 = 3.3$ W m$^{-2}$ K$^{-1}$ is the no-feedback climate response\n",
    "- $\\sum_{i=1}^{N} \\lambda_i$ is the sum of all radiative feedbacks, defined to be **positive** for **amplifying processes**."
   ]
  },
  {
   "cell_type": "markdown",
   "metadata": {},
   "source": [
    "More positive feedbacks thus mean that $\\lambda$ is a smaller number, which means the response to a given forcing is larger!"
   ]
  },
  {
   "cell_type": "markdown",
   "metadata": {},
   "source": [
    "Here in the EBM the parameter $B$ plays the same role as $\\lambda$ -- a smaller number means a more sensitive model."
   ]
  },
  {
   "cell_type": "markdown",
   "metadata": {},
   "source": [
    "Our estimate $B = 2 ~ \\text{W m}^{-2}~^\\circ\\text{C}^{-1}$ thus implies that the sum of all LW feedback processes (including water vapor, lapse rates and clouds) is\n",
    "\n",
    "$$ \\sum_{i=1}^{N} \\lambda_i = 3.3 ~\\text{W m}^{-2}~^\\circ\\text{C}^{-1} - 2 ~\\text{W m}^{-2}~^\\circ\\text{C}^{-1} = 1.3 ~\\text{W m}^{-2}~^\\circ\\text{C}^{-1} $$ "
   ]
  },
  {
   "cell_type": "markdown",
   "metadata": {},
   "source": [
    "Looking back at the chart of feedback parameter values from GCMs, does this seem plausible?"
   ]
  },
  {
   "cell_type": "markdown",
   "metadata": {},
   "source": [
    "____________\n",
    "<a id='section4'></a>\n",
    "\n",
    "## 4. The one-dimensional diffusive energy balance model\n",
    "____________\n",
    "\n"
   ]
  },
  {
   "cell_type": "markdown",
   "metadata": {},
   "source": [
    "Putting the above OLR parameterization into our budget equation gives\n",
    "\n",
    "$$ C \\frac{\\partial T}{\\partial t} = (1-\\alpha) ~ Q - \\left( A + B~T \\right) + \\frac{D}{\\cos⁡\\phi } \\frac{\\partial }{\\partial \\phi} \\left(   \\cos⁡\\phi  ~ \\frac{\\partial T}{\\partial \\phi} \\right) $$"
   ]
  },
  {
   "cell_type": "markdown",
   "metadata": {},
   "source": [
    "This is the equation for a very important and useful simple model of the climate system. It is typically referred to as the (one-dimensional) Energy Balance Model.\n",
    "\n",
    "(although as we have seen over and over, EVERY climate model is actually an “energy balance model” of some kind)\n",
    "\n",
    "Also for historical reasons this is often called the **Budyko-Sellers model**, after Budyko and Sellers who both (independently of each other) published influential papers on this subject in 1969."
   ]
  },
  {
   "cell_type": "markdown",
   "metadata": {},
   "source": [
    "Recap: parameters in this model are\n",
    "\n",
    "- C: heat capacity in J m$^{-2}$ ºC$^{-1}$\n",
    "- A: longwave emission at 0ºC in W m$^{-2}$\n",
    "- B: increase in emission per degree, in W m$^{-2}$ ºC$^{-1}$\n",
    "- D: horizontal (north-south) diffusivity of the climate system in W m$^{-2}$ ºC$^{-1}$\n",
    "\n",
    "We also need to specify the albedo."
   ]
  },
  {
   "cell_type": "markdown",
   "metadata": {},
   "source": [
    "### Tune albedo formula to match observations\n",
    "\n",
    "Let's go back to the NCEP Reanalysis data to see how planetary albedo actually varies as a function of latitude."
   ]
  },
  {
   "cell_type": "code",
   "execution_count": null,
   "metadata": {},
   "outputs": [],
   "source": [
    "days = np.linspace(1.,50.)/50 * climlab.constants.days_per_year\n",
    "Qann_ncep = np.mean( climlab.solar.insolation.daily_insolation(lat_ncep, days ),axis=1)\n",
    "albedo_ncep = 1 - ASR_ncep_annual / Qann_ncep\n",
    "\n",
    "albedo_ncep_global = np.average(albedo_ncep, weights=np.cos(np.deg2rad(lat_ncep)))"
   ]
  },
  {
   "cell_type": "code",
   "execution_count": null,
   "metadata": {},
   "outputs": [],
   "source": [
    "print( 'The annual, global mean planetary albedo is %0.3f' %albedo_ncep_global)\n",
    "fig,ax = plt.subplots()\n",
    "ax.plot(lat_ncep, albedo_ncep)\n",
    "ax.grid();\n",
    "ax.set_xlabel('Latitude')\n",
    "ax.set_ylabel('Albedo')"
   ]
  },
  {
   "cell_type": "markdown",
   "metadata": {},
   "source": [
    "**The albedo increases markedly toward the poles.**\n",
    "\n",
    "There are several reasons for this:\n",
    "\n",
    "- surface snow and ice increase toward the poles\n",
    "- Cloudiness is an important (but complicated) factor.\n",
    "- Albedo increases with solar zenith angle (the angle at which the direct solar beam strikes a surface)"
   ]
  },
  {
   "cell_type": "markdown",
   "metadata": {},
   "source": [
    "#### Approximating the observed albedo\n",
    "\n",
    "The albedo curve can be approximated by a smooth function that increases with latitude:\n",
    "\n",
    "$$ \\alpha(\\phi) \\approx \\alpha_0 + \\alpha_2 P_2(\\sin\\phi) $$\n",
    "\n",
    "where $P_2$ is a function called the 2nd Legendre polynomial. Don't worry about exactly what this means. This is what it looks like:"
   ]
  },
  {
   "cell_type": "code",
   "execution_count": null,
   "metadata": {},
   "outputs": [],
   "source": [
    "# Add a new curve to the previous figure\n",
    "a0 = albedo_ncep_global\n",
    "a2 = 0.25\n",
    "ax.plot(lat_ncep, a0 + a2 * climlab.utils.legendre.P2(np.sin(np.deg2rad(lat_ncep))))\n",
    "fig"
   ]
  },
  {
   "cell_type": "markdown",
   "metadata": {},
   "source": [
    "Of course we are not fitting all the details of the observed albedo curve. But we do get the correct global mean a reasonable representation of the equator-to-pole gradient in albedo."
   ]
  },
  {
   "cell_type": "markdown",
   "metadata": {},
   "source": [
    "____________\n",
    "<a id='section5'></a>\n",
    "\n",
    "## 5. The annual-mean EBM\n",
    "____________"
   ]
  },
  {
   "cell_type": "markdown",
   "metadata": {},
   "source": [
    "For now, we will be focusing on the **annual mean** model. \n",
    "\n",
    "For the insolation, we set $Q(\\phi,t) = \\bar{Q}(\\phi)$, the annual mean value (large at equator, small at pole)."
   ]
  },
  {
   "cell_type": "markdown",
   "metadata": {},
   "source": [
    "### Animating the adjustment of annual mean EBM to equilibrium"
   ]
  },
  {
   "cell_type": "markdown",
   "metadata": {},
   "source": [
    "Before looking at the details of how to set up an EBM in `climlab`, let's look at an animation of the adjustment of the model (its temperature and energy budget) from an isothermal initial condition.\n",
    "\n",
    "For reference, all the code necessary to generate the animation is here in the notebook."
   ]
  },
  {
   "cell_type": "code",
   "execution_count": null,
   "metadata": {},
   "outputs": [],
   "source": [
    "#  Some imports needed to make and display animations\n",
    "from IPython.display import HTML\n",
    "from matplotlib import animation\n",
    "\n",
    "def setup_figure():\n",
    "    templimits = -20,32\n",
    "    radlimits = -340, 340\n",
    "    htlimits = -6,6\n",
    "    latlimits = -90,90\n",
    "    lat_ticks = np.arange(-90,90,30)\n",
    "\n",
    "    fig, axes = plt.subplots(3,1,figsize=(8,10))\n",
    "    axes[0].set_ylabel('Temperature (deg C)')\n",
    "    axes[0].set_ylim(templimits)\n",
    "    axes[1].set_ylabel('Energy budget (W m$^{-2}$)')\n",
    "    axes[1].set_ylim(radlimits)\n",
    "    axes[2].set_ylabel('Heat transport (PW)')\n",
    "    axes[2].set_ylim(htlimits)\n",
    "    axes[2].set_xlabel('Latitude')\n",
    "    for ax in axes: ax.set_xlim(latlimits); ax.set_xticks(lat_ticks); ax.grid()\n",
    "    fig.suptitle('Diffusive energy balance model with annual-mean insolation', fontsize=14)\n",
    "    return fig, axes\n",
    "\n",
    "def initial_figure(model):\n",
    "    #  Make figure and axes\n",
    "    fig, axes = setup_figure()\n",
    "    # plot initial data\n",
    "    lines = []\n",
    "    lines.append(axes[0].plot(model.lat, model.Ts)[0])\n",
    "    lines.append(axes[1].plot(model.lat, model.ASR, 'k--', label='SW')[0])\n",
    "    lines.append(axes[1].plot(model.lat, -model.OLR, 'r--', label='LW')[0])\n",
    "    lines.append(axes[1].plot(model.lat, model.net_radiation, 'c-', label='net rad')[0])\n",
    "    lines.append(axes[1].plot(model.lat, model.heat_transport_convergence(), 'g--', label='dyn')[0])\n",
    "    lines.append(axes[1].plot(model.lat, \n",
    "        np.squeeze(model.net_radiation)+model.heat_transport_convergence(), 'b-', label='total')[0])\n",
    "    axes[1].legend(loc='upper right')\n",
    "    lines.append(axes[2].plot(model.lat_bounds, model.diffusive_heat_transport())[0])\n",
    "    lines.append(axes[0].text(60, 25, 'Day 0'))\n",
    "    return fig, axes, lines\n",
    "\n",
    "def animate(day, model, lines):\n",
    "    model.step_forward()\n",
    "    #  The rest of this is just updating the plot\n",
    "    lines[0].set_ydata(model.Ts)\n",
    "    lines[1].set_ydata(model.ASR)\n",
    "    lines[2].set_ydata(-model.OLR)\n",
    "    lines[3].set_ydata(model.net_radiation)\n",
    "    lines[4].set_ydata(model.heat_transport_convergence())\n",
    "    lines[5].set_ydata(np.squeeze(model.net_radiation)+model.heat_transport_convergence())\n",
    "    lines[6].set_ydata(model.diffusive_heat_transport())\n",
    "    lines[-1].set_text('Day {}'.format(int(model.time['days_elapsed'])))\n",
    "    return lines   "
   ]
  },
  {
   "cell_type": "code",
   "execution_count": null,
   "metadata": {},
   "outputs": [],
   "source": [
    "#  A model starting from isothermal initial conditions\n",
    "e = climlab.EBM_annual()\n",
    "e.Ts[:] = 15.  # in degrees Celsius\n",
    "e.compute_diagnostics()"
   ]
  },
  {
   "cell_type": "code",
   "execution_count": null,
   "metadata": {},
   "outputs": [],
   "source": [
    "#  Plot initial data\n",
    "fig, axes, lines = initial_figure(e)"
   ]
  },
  {
   "cell_type": "code",
   "execution_count": null,
   "metadata": {},
   "outputs": [],
   "source": [
    "ani = animation.FuncAnimation(fig, animate, frames=np.arange(1, 100), fargs=(e, lines))"
   ]
  },
  {
   "cell_type": "code",
   "execution_count": null,
   "metadata": {},
   "outputs": [],
   "source": [
    "HTML(ani.to_html5_video())"
   ]
  },
  {
   "cell_type": "markdown",
   "metadata": {},
   "source": [
    "____________\n",
    "<a id='section6'></a>\n",
    "\n",
    "## 6. Tuning the diffusivity\n",
    "____________"
   ]
  },
  {
   "cell_type": "markdown",
   "metadata": {},
   "source": [
    "We want to choose a value of $D$ that gives a reasonable approximation to observations:\n",
    "\n",
    "- $\\Delta T \\approx 45$ ºC between equator and pole\n",
    "- $\\mathcal{H}_{max} \\approx 5.5$ PW (peak heat transport)"
   ]
  },
  {
   "cell_type": "code",
   "execution_count": null,
   "metadata": {},
   "outputs": [],
   "source": [
    "ebm = climlab.EBM_annual(num_lat=40, A=210, B=2, a0=0.354, a2=0.25, D=1.)\n",
    "print(ebm)"
   ]
  },
  {
   "cell_type": "code",
   "execution_count": null,
   "metadata": {},
   "outputs": [],
   "source": [
    "ebm.integrate_years(20.)"
   ]
  },
  {
   "cell_type": "code",
   "execution_count": null,
   "metadata": {},
   "outputs": [],
   "source": [
    "ebm.Ts"
   ]
  },
  {
   "cell_type": "code",
   "execution_count": null,
   "metadata": {},
   "outputs": [],
   "source": [
    "deltaT = np.max(ebm.Ts) - np.min(ebm.Ts)\n",
    "print(deltaT)"
   ]
  },
  {
   "cell_type": "code",
   "execution_count": null,
   "metadata": {},
   "outputs": [],
   "source": [
    "#. The heat transport in PW\n",
    "ebm.heat_transport()"
   ]
  },
  {
   "cell_type": "code",
   "execution_count": null,
   "metadata": {},
   "outputs": [],
   "source": [
    "# what's the peak value?\n",
    "np.max(ebm.heat_transport())"
   ]
  },
  {
   "cell_type": "markdown",
   "metadata": {},
   "source": [
    "### Class exercise\n",
    "\n",
    "Repeat these calculations with some different values of $D$. We'll crowd-source the optimal value that best matches our observational targets."
   ]
  },
  {
   "cell_type": "code",
   "execution_count": null,
   "metadata": {},
   "outputs": [],
   "source": []
  },
  {
   "cell_type": "markdown",
   "metadata": {},
   "source": [
    "## A more systematic search"
   ]
  },
  {
   "cell_type": "code",
   "execution_count": null,
   "metadata": {},
   "outputs": [],
   "source": [
    "Darray = np.arange(0., 2.05, 0.05)\n",
    "\n",
    "model_list = []\n",
    "Tmean_list = []\n",
    "deltaT_list = []\n",
    "Hmax_list = []\n",
    "\n",
    "for D in Darray:\n",
    "    ebm = climlab.EBM_annual(A=210, B=2, a0=0.354, a2=0.25, D=D)\n",
    "    ebm.integrate_years(20., verbose=False)\n",
    "    Tmean = ebm.global_mean_temperature()\n",
    "    deltaT = np.max(ebm.Ts) - np.min(ebm.Ts)\n",
    "    energy_in = np.squeeze(ebm.ASR - ebm.OLR)\n",
    "    Htrans = ebm.heat_transport()\n",
    "    Hmax = np.max(Htrans)\n",
    "    model_list.append(ebm)\n",
    "    Tmean_list.append(Tmean)\n",
    "    deltaT_list.append(deltaT)\n",
    "    Hmax_list.append(Hmax)"
   ]
  },
  {
   "cell_type": "code",
   "execution_count": null,
   "metadata": {},
   "outputs": [],
   "source": [
    "color1 = 'b'\n",
    "color2 = 'r'\n",
    "\n",
    "fig = plt.figure(figsize=(8,6))\n",
    "ax1 = fig.add_subplot(111)\n",
    "ax1.plot(Darray, deltaT_list, color=color1)\n",
    "ax1.plot(Darray, Tmean_list, 'b--')\n",
    "ax1.set_xlabel('D (W m$^{-2}$ K$^{-1}$)', fontsize=14)\n",
    "ax1.set_xticks(np.arange(Darray[0], Darray[-1], 0.2))\n",
    "ax1.set_ylabel('$\\Delta T$ (equator to pole)', fontsize=14,  color=color1)\n",
    "for tl in ax1.get_yticklabels():\n",
    "    tl.set_color(color1)\n",
    "ax2 = ax1.twinx()\n",
    "ax2.plot(Darray, Hmax_list, color=color2)\n",
    "ax2.set_ylabel('Maximum poleward heat transport (PW)', fontsize=14, color=color2)\n",
    "for tl in ax2.get_yticklabels():\n",
    "    tl.set_color(color2)\n",
    "ax1.set_title('Effect of diffusivity on temperature gradient and heat transport in the EBM', fontsize=16)\n",
    "ax1.grid()\n",
    "\n",
    "ax1.plot([0.6, 0.6], [0, 140], 'k-')"
   ]
  },
  {
   "cell_type": "markdown",
   "metadata": {},
   "source": [
    "When $D=0$, every latitude is in radiative equilibrium and the heat transport is zero. As we have already seen, this gives an equator-to-pole temperature gradient much too high.\n",
    "\n",
    "When $D$ is **large**, the model is very efficient at moving heat poleward. The heat transport is large and the temperture gradient is weak.\n",
    "\n",
    "The real climate seems to lie in a sweet spot in between these limits.\n",
    "\n",
    "It looks like our fitting criteria are met reasonably well with $D=0.6$ W m$^{-2}$ K$^{-1}$"
   ]
  },
  {
   "cell_type": "markdown",
   "metadata": {},
   "source": [
    "Also, note that the **global mean temperature** (plotted in dashed blue) is completely insensitive to $D$. Why do you think this is so?"
   ]
  },
  {
   "cell_type": "markdown",
   "metadata": {},
   "source": [
    "____________\n",
    "<a id='section7'></a>\n",
    "\n",
    "## 7. Summary: parameter values in the diffusive EBM\n",
    "____________"
   ]
  },
  {
   "cell_type": "markdown",
   "metadata": {},
   "source": [
    "Our model is defined by the following equation\n",
    "\n",
    "$$ C \\frac{\\partial T}{\\partial t} = (1-\\alpha) ~ Q - \\left( A + B~T \\right) + \\frac{D}{\\cos⁡\\phi } \\frac{\\partial }{\\partial \\phi} \\left(   \\cos⁡\\phi  ~ \\frac{\\partial T}{\\partial \\phi} \\right) $$\n",
    "\n",
    "with the albedo given by\n",
    "\n",
    "$$ \\alpha(\\phi) = \\alpha_0 + \\alpha_2 P_2(\\sin\\phi) $$"
   ]
  },
  {
   "cell_type": "markdown",
   "metadata": {},
   "source": [
    "We have chosen the following parameter values, which seems to give a reasonable fit to the observed **annual mean temperature and energy budget**:\n",
    "\n",
    "- $ A = 210 ~ \\text{W m}^{-2}$\n",
    "- $ B = 2 ~ \\text{W m}^{-2}~^\\circ\\text{C}^{-1} $\n",
    "- $ a_0 = 0.354$\n",
    "- $ a_2 = 0.25$\n",
    "- $ D = 0.6 ~ \\text{W m}^{-2}~^\\circ\\text{C}^{-1} $"
   ]
  },
  {
   "cell_type": "code",
   "execution_count": null,
   "metadata": {},
   "outputs": [],
   "source": []
  }
 ],
 "metadata": {
  "kernelspec": {
   "display_name": "Python 3",
   "language": "python",
   "name": "python3"
  },
  "language_info": {
   "codemirror_mode": {
    "name": "ipython",
    "version": 3
   },
   "file_extension": ".py",
   "mimetype": "text/x-python",
   "name": "python",
   "nbconvert_exporter": "python",
   "pygments_lexer": "ipython3",
   "version": "3.6.2"
  }
 },
 "nbformat": 4,
 "nbformat_minor": 2
}
