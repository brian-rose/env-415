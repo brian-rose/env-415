{
 "cells": [
  {
   "cell_type": "markdown",
   "metadata": {},
   "source": [
    "# ENV / ATM 415: Climate Laboratory\n",
    "\n",
    "# Radiative- and Radiative-Convective Equilibrium with `climlab`"
   ]
  },
  {
   "cell_type": "markdown",
   "metadata": {},
   "source": [
    "Thursday March 31, 2016"
   ]
  },
  {
   "cell_type": "code",
   "execution_count": 39,
   "metadata": {
    "collapsed": false
   },
   "outputs": [],
   "source": [
    "%matplotlib inline\n",
    "import numpy as np\n",
    "import matplotlib.pyplot as plt\n",
    "import netCDF4 as nc\n",
    "import climlab"
   ]
  },
  {
   "cell_type": "markdown",
   "metadata": {},
   "source": [
    "____________\n",
    "\n",
    "## Using `climlab` to implement the two-layer leaky greenhouse model\n",
    "____________\n",
    "\n",
    "One of the things that ``climlab`` is set up to do is the grey-radiation modeling we have already been discussing.\n",
    "\n",
    "Since we already derived a complete analytical solution to the two-layer leaky greenhouse model, we will use this to validate the `climlab` code.\n"
   ]
  },
  {
   "cell_type": "markdown",
   "metadata": {},
   "source": [
    "### Validation\n",
    "\n",
    "We want to verify that the model reproduces the observed OLR given observed temperatures, and the absorptivity that we tuned in the analytical model. The target numbers are:\n",
    "\n",
    "\\begin{align}\n",
    "T_s &= 288 \\text{ K} \\\\\n",
    "T_0 &= 275 \\text{ K} \\\\\n",
    "T_1 &= 230 \\text{ K} \\\\\n",
    "\\end{align}\n",
    "\n",
    "$$ \\epsilon = 0.58377  $$\n",
    "\n",
    "$$ OLR = 239 \\text{ W m}^{-2} $$\n"
   ]
  },
  {
   "cell_type": "markdown",
   "metadata": {},
   "source": [
    "### Initialize a model in `climlab`\n",
    "The first thing we do is create a new model.\n",
    "\n",
    "The following example code is sparsely commented but will hopefully orient you on the basics of defining and working with a `climlab Process` object."
   ]
  },
  {
   "cell_type": "code",
   "execution_count": 50,
   "metadata": {
    "collapsed": false
   },
   "outputs": [
    {
     "name": "stdout",
     "output_type": "stream",
     "text": [
      "climlab Process of type <class 'climlab.model.column.GreyRadiationModel'>. \n",
      "State variables and domain shapes: \n",
      "  Tatm: (2,) \n",
      "  Ts: (1,) \n",
      "The subprocess tree: \n",
      "top: <class 'climlab.model.column.GreyRadiationModel'>\n",
      "   LW: <class 'climlab.radiation.greygas.GreyGas'>\n",
      "   SW: <class 'climlab.radiation.greygas.GreyGasSW'>\n",
      "   insolation: <class 'climlab.radiation.insolation.FixedInsolation'>\n",
      "\n"
     ]
    }
   ],
   "source": [
    "#  Test in a 2-layer atmosphere\n",
    "col = climlab.GreyRadiationModel(num_lev=2)\n",
    "print col"
   ]
  },
  {
   "cell_type": "code",
   "execution_count": 51,
   "metadata": {
    "collapsed": false
   },
   "outputs": [
    {
     "data": {
      "text/plain": [
       "{'Tatm': Field([ 200.,  278.]), 'Ts': Field([ 288.])}"
      ]
     },
     "execution_count": 51,
     "metadata": {},
     "output_type": "execute_result"
    }
   ],
   "source": [
    "col.state"
   ]
  },
  {
   "cell_type": "code",
   "execution_count": 52,
   "metadata": {
    "collapsed": false
   },
   "outputs": [
    {
     "data": {
      "text/plain": [
       "Field([ 288.])"
      ]
     },
     "execution_count": 52,
     "metadata": {},
     "output_type": "execute_result"
    }
   ],
   "source": [
    "col.Ts"
   ]
  },
  {
   "cell_type": "code",
   "execution_count": 53,
   "metadata": {
    "collapsed": false
   },
   "outputs": [
    {
     "data": {
      "text/plain": [
       "{'Tatm': Field([ 230.,  275.]), 'Ts': Field([ 288.])}"
      ]
     },
     "execution_count": 53,
     "metadata": {},
     "output_type": "execute_result"
    }
   ],
   "source": [
    "#  Set the temperatures to our observed values\n",
    "col.Ts[:] = 288.\n",
    "col.Tatm[:] = np.array([230., 275.])\n",
    "col.state"
   ]
  },
  {
   "cell_type": "code",
   "execution_count": 54,
   "metadata": {
    "collapsed": false
   },
   "outputs": [
    {
     "name": "stdout",
     "output_type": "stream",
     "text": [
      "climlab Process of type <class 'climlab.radiation.greygas.GreyGas'>. \n",
      "State variables and domain shapes: \n",
      "  Tatm: (2,) \n",
      "  Ts: (1,) \n",
      "The subprocess tree: \n",
      "top: <class 'climlab.radiation.greygas.GreyGas'>\n",
      "\n"
     ]
    }
   ],
   "source": [
    "LW = col.subprocess['LW']\n",
    "print LW"
   ]
  },
  {
   "cell_type": "code",
   "execution_count": 55,
   "metadata": {
    "collapsed": false
   },
   "outputs": [
    {
     "data": {
      "text/plain": [
       "Field([ 0.47737425,  0.47737425])"
      ]
     },
     "execution_count": 55,
     "metadata": {},
     "output_type": "execute_result"
    }
   ],
   "source": [
    "LW.absorptivity"
   ]
  },
  {
   "cell_type": "code",
   "execution_count": 56,
   "metadata": {
    "collapsed": false
   },
   "outputs": [
    {
     "data": {
      "text/plain": [
       "Field([ 0.58377,  0.58377])"
      ]
     },
     "execution_count": 56,
     "metadata": {},
     "output_type": "execute_result"
    }
   ],
   "source": [
    "#  Set the absorptivity to our tuned value\n",
    "LW.absorptivity = 0.58377\n",
    "LW.absorptivity"
   ]
  },
  {
   "cell_type": "code",
   "execution_count": 57,
   "metadata": {
    "collapsed": false
   },
   "outputs": [
    {
     "data": {
      "text/plain": [
       "{'ASR': array([ 239.2513]),\n",
       " 'LW_absorbed_atm': array([ 20.03935568, -96.82138041]),\n",
       " 'LW_absorbed_sfc': 0.0,\n",
       " 'LW_down_sfc': array([ 227.87116061]),\n",
       " 'LW_emission': Field([  92.63278385,  189.31461699]),\n",
       " 'LW_up_sfc': 0.0,\n",
       " 'OLR': array([ 239.01589408]),\n",
       " 'SW_absorbed_atm': array([ 0.,  0.]),\n",
       " 'SW_absorbed_sfc': 0.0,\n",
       " 'SW_down_TOA': array([ 341.3]),\n",
       " 'SW_up_TOA': array([ 102.0487]),\n",
       " 'SW_up_sfc': Field([ 102.0487]),\n",
       " 'absorbed': array([ 0.,  0.]),\n",
       " 'absorbed_total': 0.0,\n",
       " 'emission': Field([ 0.,  0.]),\n",
       " 'emission_sfc': Field([ 0.]),\n",
       " 'flux_from_sfc': Field([ 102.0487]),\n",
       " 'flux_reflected_up': array([   0.    ,    0.    ,  102.0487]),\n",
       " 'flux_to_sfc': array([ 341.3]),\n",
       " 'flux_to_space': array([ 102.0487]),\n",
       " 'insolation': array([ 341.3]),\n",
       " 'planetary_albedo': array([ 0.299])}"
      ]
     },
     "execution_count": 57,
     "metadata": {},
     "output_type": "execute_result"
    }
   ],
   "source": [
    "#  This does all the calculations that would be performed at each time step, \n",
    "#  but doesn't actually update the temperatures\n",
    "col.compute_diagnostics()\n",
    "#  Let's see what's in the diagnostics dictionary\n",
    "col.diagnostics"
   ]
  },
  {
   "cell_type": "code",
   "execution_count": 58,
   "metadata": {
    "collapsed": false
   },
   "outputs": [
    {
     "data": {
      "text/plain": [
       "array([ 239.01589408])"
      ]
     },
     "execution_count": 58,
     "metadata": {},
     "output_type": "execute_result"
    }
   ],
   "source": [
    "#  Check OLR against our analytical solution\n",
    "col.OLR"
   ]
  },
  {
   "cell_type": "code",
   "execution_count": 59,
   "metadata": {
    "collapsed": false
   },
   "outputs": [
    {
     "data": {
      "text/plain": [
       "{'Tatm': Field([ 230.,  275.]), 'Ts': Field([ 288.])}"
      ]
     },
     "execution_count": 59,
     "metadata": {},
     "output_type": "execute_result"
    }
   ],
   "source": [
    "col.state"
   ]
  },
  {
   "cell_type": "code",
   "execution_count": 60,
   "metadata": {
    "collapsed": false
   },
   "outputs": [],
   "source": [
    "# perform a single time step\n",
    "col.step_forward()"
   ]
  },
  {
   "cell_type": "code",
   "execution_count": 61,
   "metadata": {
    "collapsed": false
   },
   "outputs": [
    {
     "data": {
      "text/plain": [
       "{'Tatm': Field([ 230.33800245,  273.36692033]), 'Ts': Field([ 289.59144429])}"
      ]
     },
     "execution_count": 61,
     "metadata": {},
     "output_type": "execute_result"
    }
   ],
   "source": [
    "col.state"
   ]
  },
  {
   "cell_type": "code",
   "execution_count": 62,
   "metadata": {
    "collapsed": false
   },
   "outputs": [
    {
     "name": "stdout",
     "output_type": "stream",
     "text": [
      "Integrating for 730 steps, 730.4844 days, or 2.0 years.\n",
      "Total elapsed time is 2.00141166601 years.\n"
     ]
    }
   ],
   "source": [
    "# integrate out to radiative equilibrium\n",
    "col.integrate_years(2.)"
   ]
  },
  {
   "cell_type": "code",
   "execution_count": 63,
   "metadata": {
    "collapsed": false
   },
   "outputs": [
    {
     "data": {
      "text/plain": [
       "array([ -2.78206130e-07])"
      ]
     },
     "execution_count": 63,
     "metadata": {},
     "output_type": "execute_result"
    }
   ],
   "source": [
    "# Check for equilibrium\n",
    "col.ASR - col.OLR"
   ]
  },
  {
   "cell_type": "code",
   "execution_count": 64,
   "metadata": {
    "collapsed": false
   },
   "outputs": [
    {
     "data": {
      "text/plain": [
       "{'Tatm': Field([ 233.62925791,  262.08988335]), 'Ts': Field([ 296.20384534])}"
      ]
     },
     "execution_count": 64,
     "metadata": {},
     "output_type": "execute_result"
    }
   ],
   "source": [
    "#  The temperatures at radiative equilibrium\n",
    "col.state"
   ]
  },
  {
   "cell_type": "markdown",
   "metadata": {},
   "source": [
    "Compare these to the analytical solutions for radiative equilibrium with $\\epsilon = 0.58$:\n",
    "\n",
    "\\begin{align}\n",
    "T_1 &= 234 \\text{ K} \\\\\n",
    "T_0 &= 262 \\text{ K} \\\\\n",
    "T_s &= 296 \\text{ K} \\\\\n",
    "\\end{align}\n"
   ]
  },
  {
   "cell_type": "markdown",
   "metadata": {},
   "source": [
    "So it looks like `climlab` agrees with our analytical results. That's good."
   ]
  },
  {
   "cell_type": "markdown",
   "metadata": {},
   "source": [
    "____________\n",
    "\n",
    "## The observed annual, global mean temperature profile\n",
    "____________\n",
    "\n",
    "We want to model the OLR in a column whose temperatures match observations. We'll calculate the global, annual mean air temperature from the NCEP Reanalysis data."
   ]
  },
  {
   "cell_type": "code",
   "execution_count": 65,
   "metadata": {
    "collapsed": false
   },
   "outputs": [],
   "source": [
    "# This will try to read the data over the internet.\n",
    "ncep_filename = 'air.mon.1981-2010.ltm.nc'\n",
    "#ncep_url = \"http://www.esrl.noaa.gov/psd/thredds/dodsC/Datasets/ncep.reanalysis.derived/\"\n",
    "#ncep_air = nc.Dataset( ncep_url + 'pressure/' + ncep_filename )\n",
    "# Or to read from local disk\n",
    "ncep_air = nc.Dataset( ncep_filename )\n",
    "\n",
    "level = ncep_air.variables['level'][:]\n",
    "lat = ncep_air.variables['lat'][:]\n",
    "# A log-pressure height coordinate\n",
    "zstar = -np.log(level/1000)"
   ]
  },
  {
   "cell_type": "code",
   "execution_count": 66,
   "metadata": {
    "collapsed": false
   },
   "outputs": [],
   "source": [
    "#  Take averages of the temperature data\n",
    "Tzon = np.mean(ncep_air.variables['air'][:],axis=(0,3))\n",
    "Tglobal = np.average( Tzon , weights=np.cos(np.deg2rad(lat)), axis=1) + climlab.constants.tempCtoK\n",
    "#  Note the useful conversion factor. climlab.constants has lots of commonly used constant pre-defined"
   ]
  },
  {
   "cell_type": "code",
   "execution_count": 67,
   "metadata": {
    "collapsed": false
   },
   "outputs": [
    {
     "data": {
      "image/png": "[encoded data removed]",
      "text/plain": [
       "<matplotlib.figure.Figure at 0x10e7f1d50>"
      ]
     },
     "metadata": {},
     "output_type": "display_data"
    }
   ],
   "source": [
    "#  Here we are plotting with respect to log(pressure) but labeling the axis in pressure units\n",
    "fig = plt.figure( figsize=(8,6) )\n",
    "ax = fig.add_subplot(111)\n",
    "ax.plot( Tglobal , zstar )\n",
    "yticks = np.array([1000., 750., 500., 250., 100., 50., 20., 10.])\n",
    "ax.set_yticks(-np.log(yticks/1000.))\n",
    "ax.set_yticklabels(yticks)\n",
    "ax.set_xlabel('Temperature (K)', fontsize=16)\n",
    "ax.set_ylabel('Pressure (hPa)', fontsize=16 )\n",
    "ax.set_title('Global, annual mean sounding from NCEP Reanalysis', fontsize = 24)\n",
    "ax.grid()"
   ]
  },
  {
   "cell_type": "markdown",
   "metadata": {},
   "source": [
    "____________\n",
    "\n",
    "## A 30-layer model using the observed temperatures\n",
    "____________\n",
    "\n"
   ]
  },
  {
   "cell_type": "code",
   "execution_count": 68,
   "metadata": {
    "collapsed": false
   },
   "outputs": [
    {
     "name": "stdout",
     "output_type": "stream",
     "text": [
      "climlab Process of type <class 'climlab.model.column.GreyRadiationModel'>. \n",
      "State variables and domain shapes: \n",
      "  Tatm: (30,) \n",
      "  Ts: (1,) \n",
      "The subprocess tree: \n",
      "top: <class 'climlab.model.column.GreyRadiationModel'>\n",
      "   LW: <class 'climlab.radiation.greygas.GreyGas'>\n",
      "   SW: <class 'climlab.radiation.greygas.GreyGasSW'>\n",
      "   insolation: <class 'climlab.radiation.insolation.FixedInsolation'>\n",
      "\n"
     ]
    }
   ],
   "source": [
    "#  initialize a grey radiation model with 30 levels\n",
    "col = climlab.GreyRadiationModel()\n",
    "print col"
   ]
  },
  {
   "cell_type": "code",
   "execution_count": 69,
   "metadata": {
    "collapsed": false
   },
   "outputs": [
    {
     "name": "stdout",
     "output_type": "stream",
     "text": [
      "[ 224.34736633  211.66334534  206.96233453  208.29142761  212.58644104\n",
      "  217.19397481  221.78252157  226.3520813   231.30422974  236.08017476\n",
      "  240.67991638  245.279658    249.35979716  252.92033386  256.48087056\n",
      "  259.66789246  262.48139954  265.29490662  267.81303914  270.03579712\n",
      "  272.25855509  274.21642049  275.90939331  277.60236613  279.29533895\n",
      "  280.98831177  282.48550415  283.98269653  285.6810201   287.4463874 ]\n"
     ]
    }
   ],
   "source": [
    "# interpolate to 30 evenly spaced pressure levels\n",
    "lev = col.lev\n",
    "Tinterp = np.interp(lev, np.flipud(level), np.flipud(Tglobal))\n",
    "\n",
    "print Tinterp\n",
    "#  Need to 'flipud' because the interpolation routine needs the pressure data to be in increasing order"
   ]
  },
  {
   "cell_type": "code",
   "execution_count": 70,
   "metadata": {
    "collapsed": false
   },
   "outputs": [],
   "source": [
    "# Initialize model with observed temperatures\n",
    "col.Ts[:] = Tglobal[0]\n",
    "col.Tatm[:] = Tinterp"
   ]
  },
  {
   "cell_type": "code",
   "execution_count": 71,
   "metadata": {
    "collapsed": false
   },
   "outputs": [],
   "source": [
    "#  A handy re-usable routine for making a plot of the temperature profiles\n",
    "#  We will plot temperatures with respect to log(pressure) to get a height-like coordinate\n",
    "def plot_sounding(collist):\n",
    "    color_cycle=['r', 'g', 'b', 'y']\n",
    "    # col is either a column model object or a list of column model objects\n",
    "    if isinstance(collist, climlab.Process):\n",
    "        # make a list with a single item\n",
    "        collist = [collist]\n",
    "    fig = plt.figure()\n",
    "    ax = fig.add_subplot(111)\n",
    "    for i, col in enumerate(collist):\n",
    "        zstar = -np.log(col.lev/climlab.constants.ps)\n",
    "        ax.plot(col.Tatm, zstar, color=color_cycle[i])\n",
    "        ax.plot(col.Ts, 0, 'o', markersize=12, color=color_cycle[i])\n",
    "    #ax.invert_yaxis()\n",
    "    yticks = np.array([1000., 750., 500., 250., 100., 50., 20., 10.])\n",
    "    ax.set_yticks(-np.log(yticks/1000.))\n",
    "    ax.set_yticklabels(yticks)\n",
    "    ax.set_xlabel('Temperature (K)')\n",
    "    ax.set_ylabel('Pressure (hPa)')\n",
    "    ax.grid()\n",
    "    return ax"
   ]
  },
  {
   "cell_type": "code",
   "execution_count": 72,
   "metadata": {
    "collapsed": false
   },
   "outputs": [
    {
     "data": {
      "text/plain": [
       "<matplotlib.axes._subplots.AxesSubplot at 0x10eb39f10>"
      ]
     },
     "execution_count": 72,
     "metadata": {},
     "output_type": "execute_result"
    },
    {
     "data": {
      "image/png": "[encoded data removed]",
      "text/plain": [
       "<matplotlib.figure.Figure at 0x10eb54410>"
      ]
     },
     "metadata": {},
     "output_type": "display_data"
    }
   ],
   "source": [
    "# This should look just like the observations\n",
    "plot_sounding(col)"
   ]
  },
  {
   "cell_type": "markdown",
   "metadata": {},
   "source": [
    "### Tune absorptivity to get observed OLR"
   ]
  },
  {
   "cell_type": "code",
   "execution_count": 73,
   "metadata": {
    "collapsed": false
   },
   "outputs": [
    {
     "data": {
      "text/plain": [
       "array([ 263.15000167])"
      ]
     },
     "execution_count": 73,
     "metadata": {},
     "output_type": "execute_result"
    }
   ],
   "source": [
    "col.compute_diagnostics()\n",
    "col.OLR"
   ]
  },
  {
   "cell_type": "code",
   "execution_count": 74,
   "metadata": {
    "collapsed": false
   },
   "outputs": [],
   "source": [
    "# Need to tune absorptivity to get OLR = 239\n",
    "epsarray = np.linspace(0.01, 0.1, 100)\n",
    "OLRarray = np.zeros_like(epsarray)"
   ]
  },
  {
   "cell_type": "code",
   "execution_count": 75,
   "metadata": {
    "collapsed": false
   },
   "outputs": [
    {
     "data": {
      "image/png": "[encoded data removed]",
      "text/plain": [
       "<matplotlib.figure.Figure at 0x10ed41b50>"
      ]
     },
     "metadata": {},
     "output_type": "display_data"
    }
   ],
   "source": [
    "for i in range(epsarray.size):\n",
    "    col.subprocess['LW'].absorptivity = epsarray[i]\n",
    "    col.compute_diagnostics()\n",
    "    OLRarray[i] = col.OLR\n",
    "\n",
    "plt.plot(epsarray, OLRarray)\n",
    "plt.grid()"
   ]
  },
  {
   "cell_type": "markdown",
   "metadata": {},
   "source": [
    "The necessary value seems to lie near 0.055 or so.\n",
    "\n",
    "A precise numerical search gives $\\epsilon = 0.0534$"
   ]
  },
  {
   "cell_type": "code",
   "execution_count": 76,
   "metadata": {
    "collapsed": false
   },
   "outputs": [
    {
     "data": {
      "text/plain": [
       "Field([ 0.0534,  0.0534,  0.0534,  0.0534,  0.0534,  0.0534,  0.0534,\n",
       "        0.0534,  0.0534,  0.0534,  0.0534,  0.0534,  0.0534,  0.0534,\n",
       "        0.0534,  0.0534,  0.0534,  0.0534,  0.0534,  0.0534,  0.0534,\n",
       "        0.0534,  0.0534,  0.0534,  0.0534,  0.0534,  0.0534,  0.0534,\n",
       "        0.0534,  0.0534])"
      ]
     },
     "execution_count": 76,
     "metadata": {},
     "output_type": "execute_result"
    }
   ],
   "source": [
    "eps = 0.0534\n",
    "\n",
    "col.subprocess.LW.absorptivity = eps\n",
    "col.subprocess.LW.absorptivity"
   ]
  },
  {
   "cell_type": "code",
   "execution_count": 77,
   "metadata": {
    "collapsed": false
   },
   "outputs": [
    {
     "data": {
      "text/plain": [
       "array([ 239.00554514])"
      ]
     },
     "execution_count": 77,
     "metadata": {},
     "output_type": "execute_result"
    }
   ],
   "source": [
    "#  Double check to make sure this gives the right OLR\n",
    "\n",
    "col.compute_diagnostics()\n",
    "col.OLR"
   ]
  },
  {
   "cell_type": "code",
   "execution_count": 81,
   "metadata": {
    "collapsed": false
   },
   "outputs": [
    {
     "data": {
      "text/plain": [
       "array([ 0.24575486])"
      ]
     },
     "execution_count": 81,
     "metadata": {},
     "output_type": "execute_result"
    }
   ],
   "source": [
    "col.ASR - col.OLR"
   ]
  },
  {
   "cell_type": "markdown",
   "metadata": {},
   "source": [
    "____________\n",
    "\n",
    "## Radiative equilibrium in the 30-layer model\n",
    "____________\n"
   ]
  },
  {
   "cell_type": "code",
   "execution_count": 82,
   "metadata": {
    "collapsed": false
   },
   "outputs": [],
   "source": [
    "#  Make a clone of our first model\n",
    "re = climlab.process_like(col)"
   ]
  },
  {
   "cell_type": "code",
   "execution_count": 83,
   "metadata": {
    "collapsed": false
   },
   "outputs": [
    {
     "name": "stdout",
     "output_type": "stream",
     "text": [
      "Integrating for 730 steps, 730.4844 days, or 2.0 years.\n",
      "Total elapsed time is 1.99867375676 years.\n"
     ]
    }
   ],
   "source": [
    "#  To get to equilibrium, we just time-step the model forward long enough\n",
    "re.integrate_years(2.)"
   ]
  },
  {
   "cell_type": "code",
   "execution_count": 84,
   "metadata": {
    "collapsed": false
   },
   "outputs": [
    {
     "data": {
      "text/plain": [
       "array([ -4.63536253e-07])"
      ]
     },
     "execution_count": 84,
     "metadata": {},
     "output_type": "execute_result"
    }
   ],
   "source": [
    "#  Check for energy balance\n",
    "re.ASR - re.OLR"
   ]
  },
  {
   "cell_type": "markdown",
   "metadata": {},
   "source": [
    "Make a plot that compares the **observed temperatures** to the **radiative equilibrium** temperature profile."
   ]
  },
  {
   "cell_type": "code",
   "execution_count": 85,
   "metadata": {
    "collapsed": false
   },
   "outputs": [
    {
     "data": {
      "text/plain": [
       "<matplotlib.axes._subplots.AxesSubplot at 0x10e3c3090>"
      ]
     },
     "execution_count": 85,
     "metadata": {},
     "output_type": "execute_result"
    },
    {
     "data": {
      "image/png": "[encoded data removed]",
      "text/plain": [
       "<matplotlib.figure.Figure at 0x10ecc2250>"
      ]
     },
     "metadata": {},
     "output_type": "display_data"
    }
   ],
   "source": [
    "plot_sounding([col, re])"
   ]
  },
  {
   "cell_type": "markdown",
   "metadata": {},
   "source": [
    "Some properties of the **radiative equilibrium** temperature profile:\n",
    "\n",
    "- The surface is warmer than observed.\n",
    "- The lower troposphere is colder than observed.\n",
    "- Very cold air is sitting immediately above the warm surface.\n",
    "- There is no tropopause, no stratosphere."
   ]
  },
  {
   "cell_type": "markdown",
   "metadata": {},
   "source": [
    "____________\n",
    "\n",
    "## Radiative-Convective Equilibrium in the 30-layer model\n",
    "____________\n",
    "\n",
    "We recognize that the large drop in temperature just above the surface is unphysical. Parcels of air in direct contact with the ground will be warmed by mechansisms other than radiative transfer.\n",
    "\n",
    "These warm air parcels will then become buoyant, and will convect upward, mixing their heat content with the environment.\n",
    "\n",
    "We **parameterize** the statistical effects of this mixing through a **convective adjustment**. \n",
    "\n",
    "At each timestep, our model checks for any locations at which the **lapse rate** exceeds some threshold. Unstable layers are removed through an energy-conserving mixing formula.\n",
    "\n",
    "This process is assumed to be fast relative to radiative heating. In the model, it is instantaneous."
   ]
  },
  {
   "cell_type": "code",
   "execution_count": 86,
   "metadata": {
    "collapsed": false
   },
   "outputs": [
    {
     "name": "stdout",
     "output_type": "stream",
     "text": [
      "climlab Process of type <class 'climlab.model.column.RadiativeConvectiveModel'>. \n",
      "State variables and domain shapes: \n",
      "  Tatm: (30,) \n",
      "  Ts: (1,) \n",
      "The subprocess tree: \n",
      "top: <class 'climlab.model.column.RadiativeConvectiveModel'>\n",
      "   convective adjustment: <class 'climlab.convection.convadj.ConvectiveAdjustment'>\n",
      "   LW: <class 'climlab.radiation.greygas.GreyGas'>\n",
      "   SW: <class 'climlab.radiation.greygas.GreyGasSW'>\n",
      "   insolation: <class 'climlab.radiation.insolation.FixedInsolation'>\n",
      "\n"
     ]
    }
   ],
   "source": [
    "rce = climlab.RadiativeConvectiveModel(adj_lapse_rate=6.)\n",
    "print rce"
   ]
  },
  {
   "cell_type": "markdown",
   "metadata": {},
   "source": [
    "This model is exactly like our previous models, except for one additional subprocess called ``convective adjustment``. \n",
    "\n",
    "We passed a parameter ``adj_lapse_rate`` (in K / km) that sets the neutrally stable lapse rate -- in this case, 6 K / km.\n",
    "\n",
    "This number is chosed to very loosely represent the net effect of **moist convection**. "
   ]
  },
  {
   "cell_type": "code",
   "execution_count": 87,
   "metadata": {
    "collapsed": false
   },
   "outputs": [],
   "source": [
    "# Set our tuned absorptivity value\n",
    "rce.subprocess.LW.absorptivity = eps"
   ]
  },
  {
   "cell_type": "code",
   "execution_count": 88,
   "metadata": {
    "collapsed": false
   },
   "outputs": [
    {
     "name": "stdout",
     "output_type": "stream",
     "text": [
      "Integrating for 730 steps, 730.4844 days, or 2.0 years.\n",
      "Total elapsed time is 1.99867375676 years.\n"
     ]
    }
   ],
   "source": [
    "#  Run out to equilibrium\n",
    "rce.integrate_years(2.)"
   ]
  },
  {
   "cell_type": "code",
   "execution_count": 89,
   "metadata": {
    "collapsed": false
   },
   "outputs": [
    {
     "data": {
      "text/plain": [
       "array([  1.96076689e-06])"
      ]
     },
     "execution_count": 89,
     "metadata": {},
     "output_type": "execute_result"
    }
   ],
   "source": [
    "#  Check for energy balance\n",
    "rce.ASR - rce.OLR"
   ]
  },
  {
   "cell_type": "code",
   "execution_count": 90,
   "metadata": {
    "collapsed": false
   },
   "outputs": [
    {
     "data": {
      "text/plain": [
       "<matplotlib.axes._subplots.AxesSubplot at 0x10ed4a310>"
      ]
     },
     "execution_count": 90,
     "metadata": {},
     "output_type": "execute_result"
    },
    {
     "data": {
      "image/png": "[encoded data removed]",
      "text/plain": [
       "<matplotlib.figure.Figure at 0x10ecc2350>"
      ]
     },
     "metadata": {},
     "output_type": "display_data"
    }
   ],
   "source": [
    "#  Make a plot to compare observations, Radiative Equilibrium, and Radiative-Convective Equilibrium\n",
    "plot_sounding([col, re, rce])"
   ]
  },
  {
   "cell_type": "markdown",
   "metadata": {},
   "source": [
    "Introducing convective adjustment into the model cools the surface quite a bit (compared to Radiative Equilibrium, in green here) -- and warms the lower troposphere. It gives us a MUCH better fit to observations.\n",
    "\n",
    "But of course we still have no stratosphere.\n",
    "\n",
    "The missing ingredient is **absorption of shortwave UV radiation by ozone**."
   ]
  },
  {
   "cell_type": "markdown",
   "metadata": {},
   "source": [
    "## The heating rates due to radiation and convection"
   ]
  },
  {
   "cell_type": "code",
   "execution_count": 91,
   "metadata": {
    "collapsed": true
   },
   "outputs": [],
   "source": [
    "#  Here we plotting the heating rates in K / day\n",
    "degrees_per_day_atm = {'LW': (rce.subprocess['LW'].heating_rate['Tatm'] /\n",
    "                                 rce.Tatm.domain.heat_capacity * \n",
    "                                 climlab.constants.seconds_per_day),\n",
    "                       'SW': (rce.subprocess['SW'].heating_rate['Tatm'] /\n",
    "                                 rce.Tatm.domain.heat_capacity * \n",
    "                                 climlab.constants.seconds_per_day),\n",
    "                   'Convection': (rce.subprocess['convective adjustment'].adjustment['Tatm'] /\n",
    "                                  rce.timestep * \n",
    "                                  climlab.constants.seconds_per_day)}\n",
    "degrees_per_day_sfc = {'LW': (rce.subprocess['LW'].heating_rate['Ts'] / \n",
    "                                      rce.Ts.domain.heat_capacity *\n",
    "                                      climlab.constants.seconds_per_day),\n",
    "                        'SW': (rce.subprocess['SW'].heating_rate['Ts'] / \n",
    "                                      rce.Ts.domain.heat_capacity *\n",
    "                                      climlab.constants.seconds_per_day),\n",
    "                        'Convection': (rce.subprocess['convective adjustment'].adjustment['Ts'] /\n",
    "                                       rce.timestep * \n",
    "                                       climlab.constants.seconds_per_day)}"
   ]
  },
  {
   "cell_type": "code",
   "execution_count": 92,
   "metadata": {
    "collapsed": false
   },
   "outputs": [
    {
     "data": {
      "image/png": "[encoded data removed]",
      "text/plain": [
       "<matplotlib.figure.Figure at 0x10e663590>"
      ]
     },
     "metadata": {},
     "output_type": "display_data"
    }
   ],
   "source": [
    "color_cycle=['r', 'g', 'b', 'y']\n",
    "\n",
    "fig = plt.figure( figsize=(8,6) )\n",
    "ax = fig.add_subplot(111)\n",
    "zstar = -np.log(rce.lev/climlab.constants.ps)\n",
    "for i, item in enumerate(degrees_per_day_atm):\n",
    "    ax.plot(degrees_per_day_atm[item], zstar, color=color_cycle[i], label=item)\n",
    "for i, item in enumerate(degrees_per_day_sfc):\n",
    "    ax.plot(degrees_per_day_sfc[item], 0, 'o', markersize=12, color=color_cycle[i])\n",
    "yticks = np.array([1000., 750., 500., 250., 100., 50., 20., 10.])\n",
    "ax.set_yticks(-np.log(yticks/1000.))\n",
    "ax.set_yticklabels(yticks)\n",
    "ax.set_xlabel('Heating rates (degrees per day)', fontsize=16)\n",
    "ax.set_ylabel('Pressure (hPa)', fontsize=16 )\n",
    "ax.legend()\n",
    "ax.grid()"
   ]
  },
  {
   "cell_type": "markdown",
   "metadata": {},
   "source": [
    "What do we see here?\n",
    "\n",
    "- SW radiation is acting to heat the surface strongly\n",
    "- No SW heating in the atmosphere (assumed to be transparent)\n",
    "- At the surface, there is a **balance** between **heat gain from SW radiation** and **heat loss from both LW radiation and convection**\n",
    "- LW radiation is acting to **cool the troposphere**\n",
    "- Convection is acting to **warm the troposphere**\n",
    "\n",
    "Collectively the LW and SW radiation are trying to push the temperatures towards **radiative equilibrium** while the convection is moving heat from the surface to the troposphere."
   ]
  },
  {
   "cell_type": "code",
   "execution_count": null,
   "metadata": {
    "collapsed": true
   },
   "outputs": [],
   "source": []
  }
 ],
 "metadata": {
  "kernelspec": {
   "display_name": "Python 2",
   "language": "python",
   "name": "python2"
  },
  "language_info": {
   "codemirror_mode": {
    "name": "ipython",
    "version": 2
   },
   "file_extension": ".py",
   "mimetype": "text/x-python",
   "name": "python",
   "nbconvert_exporter": "python",
   "pygments_lexer": "ipython2",
   "version": "2.7.11"
  }
 },
 "nbformat": 4,
 "nbformat_minor": 0
}
