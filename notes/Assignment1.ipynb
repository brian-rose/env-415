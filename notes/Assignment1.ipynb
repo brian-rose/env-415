{
 "cells": [
  {
   "cell_type": "markdown",
   "metadata": {},
   "source": [
    "# ENV/ATM 415: Climate Laboratory\n",
    "\n",
    "[Brian E. J. Rose](http://www.atmos.albany.edu/facstaff/brose/index.html), University at Albany\n",
    "\n",
    "# Assignment 1\n",
    "\n",
    "## Due Thursday February 8, 2018"
   ]
  },
  {
   "cell_type": "markdown",
   "metadata": {},
   "source": [
    "- Make a copy of this notebook file so you can add your answers in additional cells.\n",
    "- Complete all the problems below. \n",
    "- For the questions that require calculation, show your code.\n",
    "- Include comments in your code to explain your method as necessary.\n",
    "- Submit your solutions in a single Jupyter notebook that contains your text, your code, and your figures.\n",
    "- *Try to make sure that your notebook runs cleanly without errors:*\n",
    "    - Save your notebook\n",
    "    - From the `Kernel` menu, select `Restart & Run All`\n",
    "    - Did the notebook run from start to finish without error and produce the expected output?\n",
    "    - If yes, save again and submit your notebook file\n",
    "    - If no, fix the errors and try again.\n",
    "- Save your notebook as `[your last name].ipynb`, e.g. my notebook should be called `Rose.ipynb`.  *This makes it easier for me when I collect all your answers*\n",
    "- Submit your answers by email before class on **Thursday February 8 2018**."
   ]
  },
  {
   "cell_type": "markdown",
   "metadata": {},
   "source": [
    "## Primer section 1.6, Review question 1\n",
    "\n",
    "List the five reasons most persuasive, in your opinion, for building or using models. You do not need to restrict your list to climate modeling but, for each of your chosen reasons, give an example of how a model has contributed already and could help in the future.\n"
   ]
  },
  {
   "cell_type": "code",
   "execution_count": null,
   "metadata": {},
   "outputs": [],
   "source": []
  },
  {
   "cell_type": "markdown",
   "metadata": {},
   "source": [
    "## Question 2: version control with `git`\n",
    "\n",
    "In this course we will make use of the very popular version control system called `git`. Version control means keeping track of changes to files, most often files of source code. Learning to use `git` now will simplify your workflow in the future, and help you emphasize reproducibility of your scientific computing.\n",
    "\n",
    "There are many resources online for learning `git`. If you have never used `git` before, take yourself through this tutorial:\n",
    "\n",
    "https://www.codeschool.com/courses/try-git\n",
    "\n",
    "It is free but will require you to register for an account on Code School.\n",
    "\n",
    "I also suggest reading through the *Getting Started* section here:\n",
    "https://backlog.com/git-tutorial/\n",
    "\n",
    "You will also want to make sure that `git` is installed on your own laptop. If you are using Mac or Linux it is probably already there. (Just try typing `git` in a terminal and see what happens). Windows users may need to install if [from here](https://git-scm.com/downloads). *You will need this installed later, but it is not necessary to complete this homework assignment*.\n",
    "\n",
    "Once you have completed the tutorial and reading, answer these question in your own words:\n",
    "\n",
    "1. What was something your found surprising or especially interesting from the tutorial?\n",
    "2. Why do you think it is important to use version control when writing computer code? \n",
    "3. Can you think of a situation in your past experience where version control with `git` might have been helpful?"
   ]
  },
  {
   "cell_type": "code",
   "execution_count": null,
   "metadata": {},
   "outputs": [],
   "source": []
  },
  {
   "cell_type": "markdown",
   "metadata": {},
   "source": [
    "## Question 3: Time-dependent warming in the zero-dimensional Energy Balance Model"
   ]
  },
  {
   "cell_type": "markdown",
   "metadata": {},
   "source": [
    "In lecture we defined a zero-dimensional energy balance model for the global mean surface temperature $T_s$ as follows\n",
    "\n",
    "$$ C  \\frac{dT_s}{dt} = \\text{ASR} - \\text{OLR}$$\n",
    "\n",
    "$$ \\text{ASR} = (1-\\alpha) Q $$\n",
    "\n",
    "$$ \\text{OLR} = \\tau \\sigma T_s^4$$\n",
    "\n",
    "where we defined these terms:\n",
    "\n",
    "- $C$ is a heat capacity for the atmosphere-ocean column\n",
    "- $\\alpha$ is the global mean planetary albedo\n",
    "- $\\sigma = 5.67 \\times 10^{-8}$ W m$^{-2}$ K$^{-4}$ is the Stefan-Boltzmann constant\n",
    "- $\\tau$ is our transmissivity parameter for the atmosphere.\n",
    "- $Q$ is the global-mean incoming solar radiation, or *insolation*."
   ]
  },
  {
   "cell_type": "markdown",
   "metadata": {},
   "source": [
    "Refer back to our class notes for parameter values.\n",
    "\n",
    "1. If the heat penetrated to twice as deep into the ocean, the value of $C$ would be twice as large. Would this affect the **equilibrium temperature**? Why or why not?\n",
    "2. In class we used numerical timestepping to investigate a *hypothetical climate change scenario* in which $\\tau$ decreases to 0.57 and $\\alpha$ increases to 0.32. We produced a graph of $T_s(t)$ over a twenty year period, starting from an initial temperature of 288 K. Here you will repeat this calculate with a larger value of $C$ and compare the warming rates. Specifically:\n",
    "    - Repeat our in-class time-stepping calculation with the same parameters we used before (including a heat capacity of $C = 4\\times10^8$ J m$^{-2}$ K$^{-1}$), but extend it to 50 years. **You should create an array of temperatures with 51 elements, beginning from 288 K**.\n",
    "    - Now do it again, but use $C = 8\\times10^8$ J m$^{-2}$ K$^{-1}$ (representing 200 meters of water). You should **create another 51-element array** of temperatures also beginning from 288 K.\n",
    "    - **Make a well-labeled graph** that compares the two temperatures over the 50-year period.\n",
    "    \n",
    "4. What do your results show about the role of heat capacity on climate change? Give a short written answer."
   ]
  },
  {
   "cell_type": "code",
   "execution_count": null,
   "metadata": {},
   "outputs": [],
   "source": []
  },
  {
   "cell_type": "markdown",
   "metadata": {},
   "source": [
    "## Question 4: Albedo feedback in the Energy Balance Model"
   ]
  },
  {
   "cell_type": "markdown",
   "metadata": {},
   "source": [
    "For this exercise, we will introduce a new physical process into our model by **letting the planetary albedo depend on temperature**. The idea is that a warmer planet has less ice and snow at the surface, and thus a lower planetary albedo.\n",
    "\n",
    "Represent the ice-albedo feedback through the following formula:\n",
    "\n",
    "$$ \\alpha(T) = \\left\\{ \\begin{array}{ccc}\n",
    "\\alpha_i &   & T \\le T_i \\\\\n",
    "\\alpha_o + (\\alpha_i-\\alpha_o) \\frac{(T-T_o)^2}{(T_i-T_o)^2} &   & T_i < T < T_o \\\\\n",
    "\\alpha_o &   & T \\ge T_o \\end{array} \\right\\}$$\n",
    "\n",
    "with the following parameter values:\n",
    "\n",
    "- $\\alpha_o = 0.289$ is the albedo of a warm, ice-free planet\n",
    "- $\\alpha_i = 0.7$ is the albedo of a very cold, completely ice-covered planet\n",
    "- $T_o = 293$ K is the threshold temperature above which our model assumes the planet is ice-free\n",
    "- $T_i = 260$ K is the threshold temperature below which our model assumes the planet is completely ice covered. \n",
    "\n",
    "For intermediate temperature, this formula gives a smooth variation in albedo with global mean temperature. It is tuned to reproduce the observed albedo $\\alpha = 0.299$ for $T = 288$ K. "
   ]
  },
  {
   "cell_type": "markdown",
   "metadata": {},
   "source": [
    "1. \n",
    "    - Define a Python function that implements the above albedo formula. *There is definitely more than one way to do it. It doesn't matter how you do it as long as it works!*\n",
    "    -  Use your function to calculate albedos for a wide range on planetary temperature (e.g. from $T=250$ K to $T=300$ K.)\n",
    "    - Present your results (albedo as a function of global mean temperature, or $\\alpha(T)$) in a nicely labeled graph.\n",
    "    \n",
    "2. Now investigate a climate change scenario with this new model:\n",
    "    - Suppose that the transmissivity decreases from 0.611 to 0.57 (same as before)\n",
    "    - Your task is to **calculate the new equilibrium temperature**. First, explain very briefly why you can't just solve for it analytically as we did when albedo was a fixed number.\n",
    "    - Instead, you will use numerical time-stepping to find the equilibrium temperature\n",
    "    - Repeat the procedure from Question 3 *(time-step forward for 50 years from an initial temperature of 288 K and make a graph of the results)*, but this time **use the function you defined above to compute the albedo for the current temperature**.\n",
    "    - Is the **new equilibrium temperature larger or smaller** than it was in the model with fixed albedo? Explain why very briefly."
   ]
  },
  {
   "cell_type": "code",
   "execution_count": null,
   "metadata": {},
   "outputs": [],
   "source": []
  },
  {
   "cell_type": "markdown",
   "metadata": {},
   "source": [
    "## Bonus problem\n",
    "\n",
    "*Open-ended investigation for extra credit, not required*\n",
    "\n",
    "Something very different occurs in this model if you introduce a strong negative radiative forcing, either by substantially reducing greenhouse gases (which we would represent as an increase in the transmissivity $\\tau$), or by decreasing the incoming solar radiation $Q$.\n",
    "\n",
    "Investigate, using your numerical model code, and report your results along with your thoughts."
   ]
  },
  {
   "cell_type": "code",
   "execution_count": null,
   "metadata": {},
   "outputs": [],
   "source": []
  }
 ],
 "metadata": {
  "kernelspec": {
   "display_name": "Python 3",
   "language": "python",
   "name": "python3"
  },
  "language_info": {
   "codemirror_mode": {
    "name": "ipython",
    "version": 3
   },
   "file_extension": ".py",
   "mimetype": "text/x-python",
   "name": "python",
   "nbconvert_exporter": "python",
   "pygments_lexer": "ipython3",
   "version": "3.6.2"
  }
 },
 "nbformat": 4,
 "nbformat_minor": 2
}
