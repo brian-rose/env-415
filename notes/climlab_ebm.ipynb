{
 "cells": [
  {
   "cell_type": "code",
   "execution_count": 1,
   "metadata": {},
   "outputs": [
    {
     "name": "stdout",
     "output_type": "stream",
     "text": [
      "climlab Process of type <class 'zerod_ebm.ZeroD_EBM'>. \n",
      "State variables and domain shapes: \n",
      "  Ts: (1, 1) \n",
      "The subprocess tree: \n",
      "top: <class 'zerod_ebm.ZeroD_EBM'>\n",
      "   OLR: <class 'climlab.radiation.boltzmann.Boltzmann'>\n",
      "   ASR: <class 'zerod_ebm.ShortwaveEBM'>\n",
      "      insolation: <class 'climlab.radiation.insolation.FixedInsolation'>\n",
      "      albedo: <class 'climlab.surface.albedo.ConstantAlbedo'>\n",
      "\n",
      "Integrating for 7304 steps, 7304.844000000001 days, or 20 years.\n",
      "Total elapsed time is 19.997689204588077 years.\n",
      "[[-0.35004816]]\n"
     ]
    }
   ],
   "source": [
    "from zerod_ebm import ZeroD_EBM\n",
    "# create a model instance with default parameters\n",
    "ebm = ZeroD_EBM()\n",
    "#  examing the model object:\n",
    "print(ebm)\n",
    "#  Take a single timestep forward\n",
    "ebm.step_forward\n",
    "#  Look at all the diagnostics computed by the model\n",
    "ebm.diagnostics\n",
    "#  integrate out to quasi-equilibrium\n",
    "ebm.integrate_years(20)\n",
    "#  Check for energy balance\n",
    "print(ebm.ASR - ebm.OLR)"
   ]
  },
  {
   "cell_type": "code",
   "execution_count": 2,
   "metadata": {},
   "outputs": [
    {
     "name": "stdout",
     "output_type": "stream",
     "text": [
      "Integrating for 7304 steps, 7304.844000000001 days, or 20 years.\n",
      "Total elapsed time is 39.995378409176155 years.\n"
     ]
    }
   ],
   "source": [
    "ebm.integrate_years(20)"
   ]
  },
  {
   "cell_type": "code",
   "execution_count": 3,
   "metadata": {},
   "outputs": [
    {
     "name": "stdout",
     "output_type": "stream",
     "text": [
      "[[-0.00234299]]\n"
     ]
    }
   ],
   "source": [
    "print(ebm.ASR-ebm.OLR)"
   ]
  },
  {
   "cell_type": "code",
   "execution_count": 4,
   "metadata": {},
   "outputs": [
    {
     "data": {
      "text/plain": [
       "Field([[ 14.83735191]])"
      ]
     },
     "execution_count": 4,
     "metadata": {},
     "output_type": "execute_result"
    }
   ],
   "source": [
    "ebm.Ts"
   ]
  },
  {
   "cell_type": "code",
   "execution_count": null,
   "metadata": {},
   "outputs": [],
   "source": []
  }
 ],
 "metadata": {
  "kernelspec": {
   "display_name": "Python 3",
   "language": "python",
   "name": "python3"
  },
  "language_info": {
   "codemirror_mode": {
    "name": "ipython",
    "version": 3
   },
   "file_extension": ".py",
   "mimetype": "text/x-python",
   "name": "python",
   "nbconvert_exporter": "python",
   "pygments_lexer": "ipython3",
   "version": "3.6.2"
  }
 },
 "nbformat": 4,
 "nbformat_minor": 2
}
