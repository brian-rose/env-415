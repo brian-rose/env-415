{
 "cells": [
  {
   "cell_type": "markdown",
   "metadata": {
    "slideshow": {
     "slide_type": "slide"
    }
   },
   "source": [
    "# ENV/ATM 415: Climate Laboratory\n",
    "\n",
    "[Brian E. J. Rose](http://www.atmos.albany.edu/facstaff/brose/index.html), University at Albany\n",
    "\n",
    "# Lecture 7: Elementary greenhouse models"
   ]
  },
  {
   "cell_type": "markdown",
   "metadata": {
    "slideshow": {
     "slide_type": "slide"
    }
   },
   "source": [
    "## Contents\n",
    "\n",
    "1. [A single layer atmosphere](#section1)\n",
    "2. [Introducing the two-layer grey gas model](#section2)\n",
    "3. [Tuning the grey gas model to observations](#section3)\n",
    "4. [Level of emission](#section4)\n",
    "5. [Radiative forcing in the 2-layer grey gas model](#section5)\n",
    "6. [Summary](#section6)"
   ]
  },
  {
   "cell_type": "markdown",
   "metadata": {
    "slideshow": {
     "slide_type": "slide"
    }
   },
   "source": [
    "____________\n",
    "<a id='section1'></a>\n",
    "\n",
    "## 1. A single layer atmosphere\n",
    "____________\n",
    "\n",
    "We will make our first attempt at quantifying the greenhouse effect in the simplest possible greenhouse model: a single layer of atmosphere that is able to absorb and emit longwave radiation."
   ]
  },
  {
   "cell_type": "markdown",
   "metadata": {
    "slideshow": {
     "slide_type": "slide"
    }
   },
   "source": [
    "![Sketch of 1-layer model](http://www.atmos.albany.edu/facstaff/brose/classes/ENV415_Spring2018/images/1layerAtm_sketch.png)"
   ]
  },
  {
   "cell_type": "markdown",
   "metadata": {
    "slideshow": {
     "slide_type": "slide"
    }
   },
   "source": [
    "### Assumptions\n",
    "\n",
    "- Atmosphere is a single layer of air at temperature $T_a$\n",
    "- Atmosphere is **completely transparent to shortwave** solar radiation.\n",
    "- The **surface** absorbs shortwave radiation $(1-\\alpha) Q$\n",
    "- Atmosphere is **completely opaque to infrared** radiation\n",
    "- Both surface and atmosphere emit radiation as **blackbodies** ($\\sigma T_s^4, \\sigma T_a^4$)\n",
    "- Atmosphere radiates **equally up and down** ($\\sigma T_a^4$)\n",
    "- There are no other heat transfer mechanisms\n",
    "\n",
    "We can now use the concept of energy balance to ask what the temperature need to be in order to balance the energy budgets at the surface and the atmosphere, i.e. the **radiative equilibrium temperatures**."
   ]
  },
  {
   "cell_type": "markdown",
   "metadata": {
    "slideshow": {
     "slide_type": "slide"
    }
   },
   "source": [
    "\n",
    "### Energy balance at the surface\n",
    "\n",
    "\\begin{align}\n",
    "\\text{energy in} &= \\text{energy out} \\\\\n",
    "(1-\\alpha) Q + \\sigma T_a^4 &= \\sigma T_s^4 \\\\\n",
    "\\end{align}\n",
    "\n",
    "The presence of the atmosphere above means there is an additional source term: downwelling infrared radiation from the atmosphere.\n",
    "\n",
    "We call this the **back radiation**."
   ]
  },
  {
   "cell_type": "markdown",
   "metadata": {
    "slideshow": {
     "slide_type": "slide"
    }
   },
   "source": [
    "### Energy balance for the atmosphere\n",
    "\n",
    "\\begin{align}\n",
    "\\text{energy in} &= \\text{energy out} \\\\\n",
    "\\sigma T_s^4 &= A\\uparrow + A\\downarrow = 2 \\sigma T_a^4 \\\\\n",
    "\\end{align}\n",
    "\n",
    "which means that \n",
    "$$ T_s = 2^\\frac{1}{4} T_a \\approx 1.2 T_a $$\n",
    "\n",
    "So we have just determined that, in order to have a purely **radiative equilibrium**, we must have $T_s > T_a$. \n",
    "\n",
    "*The surface must be warmer than the atmosphere.*"
   ]
  },
  {
   "cell_type": "markdown",
   "metadata": {
    "slideshow": {
     "slide_type": "slide"
    }
   },
   "source": [
    "### Solve for the radiative equilibrium surface temperature\n",
    "\n",
    "Now plug this into the surface equation to find\n",
    "\n",
    "$$ \\frac{1}{2} \\sigma T_s^4 = (1-\\alpha) Q  $$\n",
    "\n",
    "and use the definition of the emission temperature $T_e$ to write\n",
    "\n",
    "$$ (1-\\alpha) Q = \\sigma T_e^4 $$\n",
    "\n",
    "*In fact, in this model, $T_e$ is identical to the atmospheric temperature $T_a$, since all the OLR originates from this layer.*"
   ]
  },
  {
   "cell_type": "markdown",
   "metadata": {
    "slideshow": {
     "slide_type": "slide"
    }
   },
   "source": [
    "Solve for the surface temperature:\n",
    "$$ T_s = 2^\\frac{1}{4} T_e $$\n",
    "\n",
    "Putting in observed numbers, $T_e = 255$ K gives a surface temperature of \n",
    "$$T_s = 303 ~\\text{K}$$\n",
    "\n",
    "This model is one small step closer to reality: surface is warmer than atmosphere, emissions to space generated in the atmosphere, atmosphere heated from below and helping to keep surface warm."
   ]
  },
  {
   "cell_type": "markdown",
   "metadata": {
    "slideshow": {
     "slide_type": "slide"
    }
   },
   "source": [
    "BUT our model now overpredicts the surface temperature by about 15ºC (or K).\n",
    "\n",
    "Ideas about why?"
   ]
  },
  {
   "cell_type": "markdown",
   "metadata": {
    "slideshow": {
     "slide_type": "slide"
    }
   },
   "source": [
    "Basically we just need to read our **list of assumptions** above and realize that none of them are very good approximations:\n",
    "\n",
    "- Atmosphere absorbs some solar radiation.\n",
    "- Atmosphere is NOT a perfect absorber of longwave radiation\n",
    "- Absorption and emission varies strongly with wavelength *(atmosphere does not behave like a blackbody)*.\n",
    "- Emissions are not determined by a single temperature $T_a$ but by the detailed *vertical profile* of air temperture.\n",
    "- Energy is redistributed in the vertical by a variety of dynamical transport mechanisms (e.g. convection and boundary layer turbulence).\n",
    "\n"
   ]
  },
  {
   "cell_type": "markdown",
   "metadata": {
    "slideshow": {
     "slide_type": "slide"
    }
   },
   "source": [
    "____________\n",
    "<a id='section2'></a>\n",
    "\n",
    "## 2. Introducing the two-layer grey gas model\n",
    "____________"
   ]
  },
  {
   "cell_type": "markdown",
   "metadata": {
    "slideshow": {
     "slide_type": "slide"
    }
   },
   "source": [
    "Let's generalize the above model just a little bit to build a slighly more realistic model of longwave radiative transfer.\n",
    "\n",
    "We will address two shortcomings of our single-layer model:\n",
    "1. No vertical structure\n",
    "2. 100% longwave opacity\n",
    "\n",
    "Relaxing these two assumptions gives us what turns out to be a very useful prototype model for **understanding how the greenhouse effect works**."
   ]
  },
  {
   "cell_type": "markdown",
   "metadata": {
    "slideshow": {
     "slide_type": "slide"
    }
   },
   "source": [
    "### Assumptions\n",
    "\n",
    "- The atmosphere is **transparent to shortwave radiation** (still)\n",
    "- Divide the atmosphere up into **two layers of equal mass** (the dividing line is thus at 500 hPa pressure level)\n",
    "- Each layer **absorbs only a fraction $\\epsilon$ ** of whatever longwave radiation is incident upon it.\n",
    "- We will call the fraction $\\epsilon$ the **absorptivity** of the layer.\n",
    "- Assume $\\epsilon$ is the same in each layer\n",
    "\n",
    "This is called the **grey gas** model, where grey here means the emission and absorption have no spectral dependence.\n",
    "\n",
    "We can think of this model informally as a \"leaky greenhouse\"."
   ]
  },
  {
   "cell_type": "markdown",
   "metadata": {
    "slideshow": {
     "slide_type": "slide"
    }
   },
   "source": [
    "Note that the assumption that $\\epsilon$ is the same in each layer is appropriate if the absorption is actually carried out by a gas that is **well-mixed** in the atmosphere.\n",
    "\n",
    "Out of our two most important absorbers:\n",
    "\n",
    "- CO$_2$ is well mixed\n",
    "- H$_2$O is not (mostly confined to lower troposphere due to strong temperature dependence of the saturation vapor pressure).\n",
    "\n",
    "But we will ignore this aspect of reality for now."
   ]
  },
  {
   "cell_type": "markdown",
   "metadata": {
    "slideshow": {
     "slide_type": "slide"
    }
   },
   "source": [
    "In order to build our model, we need to introduce one additional piece of physics known as **Kirchoff's Law**:\n",
    "\n",
    "$$ \\text{absorptivity} = \\text{emissivity} $$\n",
    "\n",
    "So if a layer of atmosphere at temperature $T$ absorbs a fraction $\\epsilon$ of incident longwave radiation, it must emit\n",
    "\n",
    "$$ \\epsilon ~\\sigma ~T^4 $$\n",
    "\n",
    "both up and down."
   ]
  },
  {
   "cell_type": "markdown",
   "metadata": {
    "slideshow": {
     "slide_type": "slide"
    }
   },
   "source": [
    "### A sketch of the radiative fluxes in the 2-layer atmosphere"
   ]
  },
  {
   "cell_type": "markdown",
   "metadata": {
    "slideshow": {
     "slide_type": "-"
    }
   },
   "source": [
    "![Sketch of layer model](http://www.atmos.albany.edu/facstaff/brose/classes/ENV415_Spring2018/images/2layerAtm_sketch.png)"
   ]
  },
  {
   "cell_type": "markdown",
   "metadata": {
    "slideshow": {
     "slide_type": "slide"
    }
   },
   "source": [
    "- Surface temperature is $T_s$\n",
    "- Atm. temperatures are $T_0, T_1$ where $T_0$ is closest to the surface.\n",
    "- absorptivity of atm layers is $\\epsilon$\n",
    "- Surface emission is $\\sigma T_s^4$\n",
    "- Atm emission is $\\epsilon \\sigma T_0^4, \\epsilon \\sigma T_1^4$ (up and down)\n",
    "- Absorptivity = emissivity for atmospheric layers\n",
    "- a fraction $(1-\\epsilon)$ of the longwave beam is **transmitted** through each layer"
   ]
  },
  {
   "cell_type": "markdown",
   "metadata": {
    "slideshow": {
     "slide_type": "slide"
    }
   },
   "source": [
    "Let's think about the upwelling beam of longwave radiation, which we denote $U$.\n",
    "\n",
    "We start at the surface. The upward flux from the surface to layer 0 is \n",
    "\n",
    "$$U_0 = \\sigma T_s^4$$"
   ]
  },
  {
   "cell_type": "markdown",
   "metadata": {},
   "source": [
    "Following this beam upward, we can write the upward flux from layer 0 to layer 1 as the sum of the transmitted part of what is incident from below, and the new emissions from layer 0:\n",
    "\n",
    "$$ U_1 = (1-\\epsilon) \\sigma T_s^4 + \\epsilon \\sigma T_0^4 $$"
   ]
  },
  {
   "cell_type": "markdown",
   "metadata": {},
   "source": [
    "Continuing to follow the same beam, the upwelling flux above layer 1 is\n",
    "\n",
    "$$ U_2 = (1-\\epsilon) U_1 + \\epsilon \\sigma T_1^4 $$"
   ]
  },
  {
   "cell_type": "markdown",
   "metadata": {
    "slideshow": {
     "slide_type": "slide"
    }
   },
   "source": [
    "Since there is no more atmosphere above layer 1, this upwelling beam is our OLR for this model:\n",
    "\n",
    "$$ OLR = U_2 = (1-\\epsilon) U_1 + \\epsilon \\sigma T_1^4 $$\n",
    "\n",
    "which works out to\n",
    "\n",
    "$$ OLR= (1-\\epsilon)^2 \\sigma T_s^4 + \\epsilon(1-\\epsilon)\\sigma T_0^4 + \\epsilon \\sigma T_1^4 $$\n",
    "\n",
    "Here the three terms represent **contributions to the total OLR that originate from each of the three levels**"
   ]
  },
  {
   "cell_type": "markdown",
   "metadata": {},
   "source": [
    "*What happens to this expression if $\\epsilon=1$? What does this represent physically?*\n",
    "\n",
    "*What about $\\epsilon=0$? *"
   ]
  },
  {
   "cell_type": "markdown",
   "metadata": {},
   "source": [
    "By allowing the atmosphere to partially absorb emissions from other levels, we now see that the OLR includes emissions from every level - and therefore affected by temperature at every level!"
   ]
  },
  {
   "cell_type": "markdown",
   "metadata": {
    "slideshow": {
     "slide_type": "slide"
    }
   },
   "source": [
    "____________\n",
    "<a id='section3'></a>\n",
    "\n",
    "## 3. Tuning the grey gas model to observations\n",
    "____________"
   ]
  },
  {
   "cell_type": "markdown",
   "metadata": {
    "slideshow": {
     "slide_type": "slide"
    }
   },
   "source": [
    "In building our new model we have introduced exactly one parameter, the absorptivity $\\epsilon$. We need to choose a value for $\\epsilon$.\n",
    "\n",
    "We will tune our model so that it **reproduces the observed global mean OLR** given **observed global mean temperatures**.\n",
    "\n",
    "To get appropriate temperatures for $T_s, T_0, T_1$, let's revisit the [global, annual mean lapse rate plot from NCEP Reanalysis data](L06_Radiation.ipynb) from the previous lecture."
   ]
  },
  {
   "cell_type": "markdown",
   "metadata": {
    "slideshow": {
     "slide_type": "slide"
    }
   },
   "source": [
    "### Temperatures\n",
    "\n",
    "First, we set \n",
    "$$T_s = 288 \\text{ K}  $$\n",
    "\n",
    "From the lapse rate plot, an average temperature for the layer between 1000 and 500 hPa is \n",
    "\n",
    "$$ T_0 = 275 \\text{ K}$$\n",
    "\n",
    "Defining an average temperature for the layer between 500 and 0 hPa is more ambiguous because of the lapse rate reversal at the tropopause. We will choose\n",
    "\n",
    "$$ T_1 = 230 \\text{ K}$$\n",
    "\n",
    "From the graph, this is approximately the observed global mean temperature at 275 hPa or about 10 km."
   ]
  },
  {
   "cell_type": "markdown",
   "metadata": {
    "slideshow": {
     "slide_type": "slide"
    }
   },
   "source": [
    "### OLR\n",
    "\n",
    "From the [observed global energy budget](Lecture01 -- Planetary energy budget.ipynb) we set \n",
    "\n",
    "$$ OLR = 238.5 \\text{ W m}^{-2} $$"
   ]
  },
  {
   "cell_type": "markdown",
   "metadata": {
    "slideshow": {
     "slide_type": "slide"
    }
   },
   "source": [
    "### Solving for $\\epsilon$\n",
    "\n",
    "We wrote down the expression for OLR as a function of temperatures and absorptivity in our model above. \n",
    "\n",
    "All we need to do is plug the observed values into the above expression for OLR, and solve for $\\epsilon$.\n",
    "\n",
    "It is a quadratic equation. We could work out the exact solution using the quadratic formula.\n",
    "\n",
    "But let's do it graphically, using Python!"
   ]
  },
  {
   "cell_type": "markdown",
   "metadata": {
    "slideshow": {
     "slide_type": "slide"
    }
   },
   "source": [
    "### Exercise\n",
    "\n",
    "- Write a Python function that implements the OLR formula for the leaky greenhouse model\n",
    "- The function should accept four input parameters:\n",
    "    - The three temperatures $T_s, T_0, T_1$\n",
    "    - The emissivity $\\epsilon$\n",
    "- Using this function, make a graph of OLR vs. $\\epsilon$ *for the observed temperature values*\n",
    "- For the graph, $\\epsilon$ should range between 0 and 1."
   ]
  },
  {
   "cell_type": "code",
   "execution_count": 1,
   "metadata": {
    "collapsed": true
   },
   "outputs": [],
   "source": [
    "%matplotlib inline\n",
    "import matplotlib.pyplot as plt\n",
    "import numpy as np\n",
    "\n",
    "sigma = 5.67E-8\n",
    "\n",
    "def OLR(e, Ts=288, T0=275, T1=230):\n",
    "    return (1-e)*((1-e)*sigma*Ts**4 + e*sigma*T0**4) + e*sigma*T1**4"
   ]
  },
  {
   "cell_type": "code",
   "execution_count": 3,
   "metadata": {},
   "outputs": [
    {
     "data": {
      "image/png": "[encoded data removed]",
      "text/plain": [
       "<matplotlib.figure.Figure at 0x1124f2358>"
      ]
     },
     "metadata": {},
     "output_type": "display_data"
    }
   ],
   "source": [
    "import numpy as np\n",
    "e = np.linspace(0,1)\n",
    "plt.plot(e, OLR(e))\n",
    "plt.plot(e, 238.5 * np.ones_like(e))\n",
    "plt.xlabel('epsilon (grey absorptivity)')\n",
    "plt.ylabel('OLR (W/m2)')\n",
    "plt.grid()"
   ]
  },
  {
   "cell_type": "markdown",
   "metadata": {
    "slideshow": {
     "slide_type": "slide"
    }
   },
   "source": [
    "Note if you solve the quadratic equation algebraically you will get two solutions: \n",
    "\n",
    "- $\\epsilon = 0.58$ \n",
    "- $\\epsilon = 3.93$\n",
    "\n",
    "Why is the second solution not physically meaningful?\n",
    "\n",
    "From the graphical solution, we end up choosing $\\epsilon = 0.58$. \n",
    "\n",
    "This is the absorptivity that guarantees that **our model reproduces the observed OLR given the observed temperatures**."
   ]
  },
  {
   "cell_type": "markdown",
   "metadata": {
    "slideshow": {
     "slide_type": "slide"
    }
   },
   "source": [
    "____________\n",
    "<a id='section4'></a>\n",
    "\n",
    "## 4. Level of emission\n",
    "____________"
   ]
  },
  {
   "cell_type": "markdown",
   "metadata": {
    "slideshow": {
     "slide_type": "slide"
    }
   },
   "source": [
    "Now that we have tuned up our model, we can see exactly how strongly each level contributes to the OLR. \n",
    "\n",
    "The three components of the OLR are\n",
    "\n",
    "\\begin{align*}\n",
    "OLR_s &= (1-\\epsilon)^2 \\sigma T_s^4  \\\\\n",
    "OLR_0 &= \\epsilon(1-\\epsilon)\\sigma T_0^4 \\\\\n",
    "OLR_1 &= \\epsilon \\sigma T_1^4 \n",
    "\\end{align*}\n",
    "\n",
    "which of course add up to the total OLR we wrote down above.\n",
    "\n",
    "**Write some simple Python code to calculate each term in the OLR using the observed temperatures and the tuned value $\\epsilon = 0.58$. Fill out the list below using your calculated numbers.** "
   ]
  },
  {
   "cell_type": "code",
   "execution_count": null,
   "metadata": {
    "collapsed": true
   },
   "outputs": [],
   "source": []
  },
  {
   "cell_type": "markdown",
   "metadata": {
    "slideshow": {
     "slide_type": "slide"
    }
   },
   "source": [
    "**Contributions to the OLR originating from each level, in W/m2:**\n",
    "\n",
    "- Surface:\n",
    "- Level 0: \n",
    "- Level 1:"
   ]
  },
  {
   "cell_type": "markdown",
   "metadata": {},
   "source": [
    "Notice that the largest single contribution is coming from the top layer. \n",
    "\n",
    "*This is in spite of the fact that the emissions from this layer are weak, because it is so cold.*"
   ]
  },
  {
   "cell_type": "markdown",
   "metadata": {
    "slideshow": {
     "slide_type": "slide"
    }
   },
   "source": [
    "###  Changing the level of emission by adding absorbers"
   ]
  },
  {
   "cell_type": "markdown",
   "metadata": {
    "slideshow": {
     "slide_type": "-"
    }
   },
   "source": [
    "Adding some extra greenhouse absorbers will mean that a greater fraction of incident longwave radiation is absorbed in each layer.\n",
    "\n",
    "Thus **$\\epsilon$ must increase** as we add greenhouse gases."
   ]
  },
  {
   "cell_type": "markdown",
   "metadata": {
    "slideshow": {
     "slide_type": "slide"
    }
   },
   "source": [
    "Suppose we have $\\epsilon$ initially, and the absorptivity increases to $\\epsilon_2 = \\epsilon + \\Delta \\epsilon$.\n",
    "\n",
    "Suppose further that this increase happens **abruptly** so that there is no time for the temperatures to respond to this change. **We hold the temperatures fixed** in the column and ask how the radiative fluxes change.\n",
    "\n",
    "**Do you expect the OLR to increase or decrease?**\n",
    "\n",
    "Let's use our two-layer leaky greenhouse model to investigate the answer."
   ]
  },
  {
   "cell_type": "markdown",
   "metadata": {
    "slideshow": {
     "slide_type": "slide"
    }
   },
   "source": [
    "The components of the OLR before the perturbation are\n",
    "\n",
    "\\begin{align*}\n",
    "OLR_s &= (1-\\epsilon)^2 \\sigma T_s^4  \\\\\n",
    "OLR_0 &= \\epsilon(1-\\epsilon)\\sigma T_0^4 \\\\\n",
    "OLR_1 &= \\epsilon \\sigma T_1^4 \n",
    "\\end{align*}\n",
    "\n"
   ]
  },
  {
   "cell_type": "markdown",
   "metadata": {
    "slideshow": {
     "slide_type": "slide"
    }
   },
   "source": [
    "and after the perturbation we have\n",
    "\n",
    "\\begin{align*}\n",
    "OLR_s &= (1-\\epsilon - \\Delta \\epsilon)^2 \\sigma T_s^4  \\\\\n",
    "OLR_0 &= (\\epsilon + \\Delta \\epsilon)(1-\\epsilon - \\Delta \\epsilon)\\sigma T_0^4 \\\\\n",
    "OLR_1 &= (\\epsilon + \\Delta \\epsilon) \\sigma T_1^4 \n",
    "\\end{align*}"
   ]
  },
  {
   "cell_type": "markdown",
   "metadata": {
    "slideshow": {
     "slide_type": "slide"
    }
   },
   "source": [
    "Let's subtract off the original components to get the contributions to the **change in OLR** from each layer:"
   ]
  },
  {
   "cell_type": "markdown",
   "metadata": {},
   "source": [
    "\\begin{align*}\n",
    "\\Delta OLR_s &= \\left[(1-\\epsilon - \\Delta \\epsilon)^2 - (1-\\epsilon)^2\\right]\\sigma T_s^4  \\\\\n",
    "\\Delta OLR_0 &= \\left[(\\epsilon + \\Delta \\epsilon)(1-\\epsilon - \\Delta \\epsilon) - \\epsilon(1-\\epsilon)  \\right] \\sigma T_0^4 \\\\\n",
    "\\Delta OLR_1 &= \\left[(\\epsilon + \\Delta \\epsilon) - \\epsilon \\right] \\sigma T_1^4 \n",
    "\\end{align*}"
   ]
  },
  {
   "cell_type": "markdown",
   "metadata": {
    "slideshow": {
     "slide_type": "slide"
    }
   },
   "source": [
    "Now expand this out, but to make things easier to deal with, neglect term in $\\Delta \\epsilon^2$ (very small - we will be considering changes of less than 10% in $\\epsilon$):\n",
    "\n",
    "\\begin{align*}\n",
    "\\Delta OLR_s &\\approx (\\Delta \\epsilon) \\left[ -2(1-\\epsilon) \\right] \\sigma T_s^4  \\\\\n",
    "\\Delta OLR_0 &\\approx (\\Delta \\epsilon) (1 - 2 \\epsilon) \\sigma T_0^4 \\\\\n",
    "\\Delta OLR_1 &\\approx (\\Delta \\epsilon) \\sigma T_1^4 \n",
    "\\end{align*}"
   ]
  },
  {
   "cell_type": "markdown",
   "metadata": {
    "slideshow": {
     "slide_type": "fragment"
    }
   },
   "source": [
    "Now look at the **sign** of each term. Recall that $0 < \\epsilon < 1$. **Which terms in the OLR go up and which go down?**\n",
    "\n",
    "**THIS IS VERY IMPORTANT, SO STOP AND THINK ABOUT IT.**"
   ]
  },
  {
   "cell_type": "markdown",
   "metadata": {
    "slideshow": {
     "slide_type": "fragment"
    }
   },
   "source": [
    "The contribution from the **surface** must **decrease**, while the contribution from the **top layer** must **increase**.\n",
    "\n",
    "**When we add absorbers, the average level of emission goes up!**"
   ]
  },
  {
   "cell_type": "markdown",
   "metadata": {
    "slideshow": {
     "slide_type": "slide"
    }
   },
   "source": [
    "____________\n",
    "<a id='section5'></a>\n",
    "\n",
    "## 5. Radiative forcing in the 2-layer grey gas model\n",
    "____________"
   ]
  },
  {
   "cell_type": "markdown",
   "metadata": {},
   "source": [
    "We now define a very important quantity:"
   ]
  },
  {
   "cell_type": "markdown",
   "metadata": {
    "slideshow": {
     "slide_type": "-"
    }
   },
   "source": [
    "### \"Radiative forcing\" is the change in radiative flux at TOA after adding absorbers\n",
    "\n",
    "In this model, only the longwave flux can change, so we define the radiative forcing as\n",
    "\n",
    "$$ R = - \\Delta OLR $$\n",
    "\n",
    "(with the minus sign so that $R$ is positive when the climate system is gaining extra energy)."
   ]
  },
  {
   "cell_type": "markdown",
   "metadata": {
    "slideshow": {
     "slide_type": "slide"
    }
   },
   "source": [
    "We just worked out that whenever we add some extra absorbers, the emissions to space (on average) will originate from higher levels in the atmosphere. \n",
    "\n",
    "What does this mean for OLR? Will it increase or decrease?\n",
    "\n",
    "To get the answer, we just have to sum up the three contributions we wrote above:"
   ]
  },
  {
   "cell_type": "markdown",
   "metadata": {
    "slideshow": {
     "slide_type": "slide"
    }
   },
   "source": [
    "\\begin{align*}\n",
    "R &= \\Delta OLR_s + \\Delta OLR_0 + \\Delta OLR_1  \\\\\n",
    "  &= \\Delta \\epsilon \\left[  -2(1-\\epsilon) \\sigma T_s^4 + (1 - 2 \\epsilon) \\sigma T_0^4  + \\sigma T_1^4 \\right]\n",
    "\\end{align*}"
   ]
  },
  {
   "cell_type": "markdown",
   "metadata": {},
   "source": [
    "Is this a positive or negative number? The key point is this:\n",
    "\n",
    "**It depends on the temperatures, i.e. on the lapse rate.**"
   ]
  },
  {
   "cell_type": "markdown",
   "metadata": {
    "slideshow": {
     "slide_type": "slide"
    }
   },
   "source": [
    "### Greenhouse effect for an isothermal atmosphere\n",
    "\n",
    "Stop and think about this question:\n",
    "\n",
    "If the **surface and atmosphere are all at the same temperature**, does the OLR go up or down when $\\epsilon$ increases (i.e. we add more absorbers)?\n",
    "\n",
    "Understanding this question is key to understanding how the greenhouse effect works."
   ]
  },
  {
   "cell_type": "markdown",
   "metadata": {
    "slideshow": {
     "slide_type": "slide"
    }
   },
   "source": [
    "#### Let's solve the isothermal case\n",
    "\n",
    "We will just set $T_s = T_0 = T_1$ in the above expression for the radiative forcing.\n",
    "\n",
    "What do you get?"
   ]
  },
  {
   "cell_type": "code",
   "execution_count": null,
   "metadata": {
    "collapsed": true
   },
   "outputs": [],
   "source": []
  },
  {
   "cell_type": "markdown",
   "metadata": {
    "slideshow": {
     "slide_type": "slide"
    }
   },
   "source": [
    "#### The answer is $R=0$ \n",
    "\n",
    "For an isothermal atmosphere, there is **no change** in OLR when we add extra greenhouse absorbers. Hence, no radiative forcing and no greenhouse effect.\n",
    "\n",
    "Why?\n",
    "\n",
    "The level of emission still must go up. But since the temperature at the upper level is the **same** as everywhere else, the emissions are exactly the same."
   ]
  },
  {
   "cell_type": "markdown",
   "metadata": {
    "slideshow": {
     "slide_type": "-"
    }
   },
   "source": [
    "### The radiative forcing (change in OLR) depends on the lapse rate!"
   ]
  },
  {
   "cell_type": "markdown",
   "metadata": {
    "slideshow": {
     "slide_type": "slide"
    }
   },
   "source": [
    "For a more realistic example of radiative forcing due to an increase in greenhouse absorbers, we our observed temperatures and the tuned value for $\\epsilon$. \n",
    "\n",
    "We'll express the answer in W m$^{-2}$ for a 2% increase in $\\epsilon$:\n",
    "\n",
    "$$ \\Delta \\epsilon = 0.02 \\times 0.58 $$"
   ]
  },
  {
   "cell_type": "code",
   "execution_count": null,
   "metadata": {
    "slideshow": {
     "slide_type": "-"
    }
   },
   "outputs": [],
   "source": [
    "epsilon = 0.58\n",
    "delta_epsilon = 0.02 * epsilon\n",
    "delta_epsilon"
   ]
  },
  {
   "cell_type": "markdown",
   "metadata": {
    "slideshow": {
     "slide_type": "slide"
    }
   },
   "source": [
    "Calculate the three components of the radiative forcing:"
   ]
  },
  {
   "cell_type": "code",
   "execution_count": null,
   "metadata": {
    "collapsed": true,
    "slideshow": {
     "slide_type": "slide"
    }
   },
   "outputs": [],
   "source": [
    "sigma = 5.67E-8\n",
    "Ts = 288.\n",
    "T0 = 275.\n",
    "T1 = 230."
   ]
  },
  {
   "cell_type": "code",
   "execution_count": null,
   "metadata": {
    "slideshow": {
     "slide_type": "slide"
    }
   },
   "outputs": [],
   "source": [
    "#  Component originating from the surface\n",
    "Rs = -delta_epsilon * (-2*(1-epsilon)*sigma * Ts**4)\n",
    "Rs"
   ]
  },
  {
   "cell_type": "code",
   "execution_count": null,
   "metadata": {
    "slideshow": {
     "slide_type": "slide"
    }
   },
   "outputs": [],
   "source": [
    "#  Component originating from level 0\n",
    "R0 = -delta_epsilon * (1-2*epsilon) * sigma * T0**4\n",
    "R0"
   ]
  },
  {
   "cell_type": "code",
   "execution_count": null,
   "metadata": {
    "slideshow": {
     "slide_type": "slide"
    }
   },
   "outputs": [],
   "source": [
    "#  Component originating from level 1\n",
    "R1 = -delta_epsilon * sigma * T1**4\n",
    "R1"
   ]
  },
  {
   "cell_type": "markdown",
   "metadata": {
    "slideshow": {
     "slide_type": "slide"
    }
   },
   "source": [
    "So just add them up to get the total radiative forcing:"
   ]
  },
  {
   "cell_type": "code",
   "execution_count": null,
   "metadata": {},
   "outputs": [],
   "source": [
    "R = Rs + R0 + R1 \n",
    "R"
   ]
  },
  {
   "cell_type": "markdown",
   "metadata": {
    "slideshow": {
     "slide_type": "slide"
    }
   },
   "source": [
    "So in our example, **the OLR decreases by 2.5 W m$^{-2}$**, or equivalently, the **radiative forcing is +2.2 W m$^{-2}$.**\n",
    "\n",
    "What we have just calculated is this:\n",
    "\n",
    "*Given the observed lapse rates, a small increase in absorbers will cause a small decrease in OLR.*\n",
    "\n",
    "The greenhouse effect thus gets stronger, and energy will begin to accumulate in the system -- which will eventually cause temperatures to increase as the system adjusts to a new equilibrium."
   ]
  },
  {
   "cell_type": "markdown",
   "metadata": {
    "slideshow": {
     "slide_type": "slide"
    }
   },
   "source": [
    "____________\n",
    "<a id='section6'></a>\n",
    "\n",
    "## 6. Summary\n",
    "____________"
   ]
  },
  {
   "cell_type": "markdown",
   "metadata": {
    "slideshow": {
     "slide_type": "slide"
    }
   },
   "source": [
    "## Key physical lessons\n",
    "\n",
    "- Putting a **layer of longwave absorbers** above the surface keeps the **surface substantially warmer**, because of the **backradiation** from the atmosphere (greenhouse effect).\n",
    "- The **grey gas** model assumes that each layer absorbs and emits a fraction $\\epsilon$ of its blackbody value, independent of wavelength."
   ]
  },
  {
   "cell_type": "markdown",
   "metadata": {
    "slideshow": {
     "slide_type": "slide"
    }
   },
   "source": [
    "- With **incomplete absorption** ($\\epsilon < 1$), there are contributions to the OLR from every level and the surface (there is no single **level of emission**)\n",
    "- Adding more absorbers means that **contributions to the OLR** from **upper levels** go **up**, while contributions from the surface go **down**.\n",
    "- This upward shift in the weighting of different levels is what we mean when we say the **level of emission goes up**."
   ]
  },
  {
   "cell_type": "markdown",
   "metadata": {
    "slideshow": {
     "slide_type": "slide"
    }
   },
   "source": [
    "- The **radiative forcing** caused by an increase in absorbers **depends on the lapse rate**.\n",
    "- For an **isothermal atmosphere** the radiative forcing is zero and there is **no greenhouse effect**\n",
    "- The radiative forcing is positive for our atmosphere **because tropospheric temperatures tends to decrease with height**."
   ]
  }
 ],
 "metadata": {
  "anaconda-cloud": {},
  "kernelspec": {
   "display_name": "Python 3",
   "language": "python",
   "name": "python3"
  },
  "language_info": {
   "codemirror_mode": {
    "name": "ipython",
    "version": 3
   },
   "file_extension": ".py",
   "mimetype": "text/x-python",
   "name": "python",
   "nbconvert_exporter": "python",
   "pygments_lexer": "ipython3",
   "version": "3.6.2"
  }
 },
 "nbformat": 4,
 "nbformat_minor": 1
}
