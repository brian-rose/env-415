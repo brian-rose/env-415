{
 "cells": [
  {
   "cell_type": "markdown",
   "metadata": {
    "slideshow": {
     "slide_type": "slide"
    }
   },
   "source": [
    "# ENV/ATM 415: Climate Laboratory\n",
    "\n",
    "[Brian E. J. Rose](http://www.atmos.albany.edu/facstaff/brose/index.html), University at Albany\n",
    "\n",
    "# Lecture 13: Insolation"
   ]
  },
  {
   "cell_type": "markdown",
   "metadata": {
    "slideshow": {
     "slide_type": "skip"
    }
   },
   "source": [
    "## Contents\n",
    "\n",
    "1. [Some basics](#section1)\n",
    "2. [Computing daily insolation with `climlab`](#section2)\n",
    "3. [Global, seasonal distribution of insolation](#section3)"
   ]
  },
  {
   "cell_type": "markdown",
   "metadata": {
    "slideshow": {
     "slide_type": "slide"
    }
   },
   "source": [
    "____________\n",
    "<a id='section1'></a>\n",
    "\n",
    "## 1. Some basics\n",
    "____________\n"
   ]
  },
  {
   "cell_type": "markdown",
   "metadata": {},
   "source": [
    "So far we’ve been working with a model of the **global mean temperature**. We will soon be adding some x and y dependence – thinking about the equator-to-pole structure of climate.\n",
    "\n",
    "In order to do this, we have to first start thinking about the spatial structure of the incoming solar radiation."
   ]
  },
  {
   "cell_type": "markdown",
   "metadata": {},
   "source": [
    "Draw sketch: \n",
    "\n",
    "- big sun on one side of board, order $10^{24}$ W  = yotta watt (YW) of energy output.\n",
    "- At other end draw small Earth.\n",
    "- Energy received in a perpendicular cross-section is $S_0 = 1366$ W m$^{-2}$.\n",
    "- Area of sphere is $4 \\pi a^2$ ($a$ is radius of Earth, $a = 6.4 \\times 10^6$ m)\n",
    "- Area of illuminated cross-section is $\\pi a^2$.\n",
    "\n",
    "Global mean insolation = total energy received by planet / surface area of planet:\n",
    "\n",
    "$$ Q = \\frac{S_0 \\pi a^2 }{4 \\pi a^2 } = \\frac{S_0}{4} = 341 \\text{ W m}^{-2} $$\n",
    "\n",
    "That’s what we’ve been using so far, because we’ve only been treating the global average climate.\n"
   ]
  },
  {
   "cell_type": "markdown",
   "metadata": {},
   "source": [
    "### Diurnal cycle\n",
    "\n",
    "- Earth spins around on its axis once per day, so the sub-solar point moves from east to west in longitude. \n",
    "- Every **longitude** at the same latitude receives the **same insolation** once we **average over 1 day**. \n",
    "- We are going to think strictly about the daily average."
   ]
  },
  {
   "cell_type": "markdown",
   "metadata": {},
   "source": [
    "### Seasonal cycle\n",
    "\n",
    "From the geometry of the sphere we see that the sunlight is NOT AT ALL evenly distributed in latitude.\n",
    "\n",
    "Draw sketches of the orientation of the Earth’s axis relative to the sun at:\n",
    "\n",
    "-\tNH winter solstice\n",
    "-\tNH summer solstice\n",
    "-\tEquinox\n",
    "-\tToday"
   ]
  },
  {
   "cell_type": "markdown",
   "metadata": {},
   "source": [
    "Make sure it’s clear that **seasons are primarily associated with the tilt of the axis**!\n",
    "\n",
    "Current obliquity is about 23.5º"
   ]
  },
  {
   "cell_type": "markdown",
   "metadata": {
    "slideshow": {
     "slide_type": "slide"
    }
   },
   "source": [
    "____________\n",
    "<a id='section2'></a>\n",
    "\n",
    "## 2. Computing daily insolation with `climlab`\n",
    "____________"
   ]
  },
  {
   "cell_type": "markdown",
   "metadata": {
    "slideshow": {
     "slide_type": "slide"
    }
   },
   "source": [
    "Here are some examples calculating daily average insolation at different locations and times.\n",
    "\n",
    "These all use a function called \n",
    "```\n",
    "daily_insolation\n",
    "``` \n",
    "in the package \n",
    "```\n",
    "climlab.solar.insolation\n",
    "``` \n",
    "to do the calculation. The code implements the above formulas to calculates daily average insolation anywhere on Earth at any time of year."
   ]
  },
  {
   "cell_type": "markdown",
   "metadata": {
    "slideshow": {
     "slide_type": "slide"
    }
   },
   "source": [
    "The code takes account of *orbital parameters* to calculate current Sun-Earth distance.  \n",
    "\n",
    "We can look up *past orbital variations* to compute their effects on insolation using the package \n",
    "```\n",
    "climlab.solar.orbital\n",
    "```\n",
    "See the [next lecture](Lecture13%20--%20Orbital%20variations.ipynb)!"
   ]
  },
  {
   "cell_type": "markdown",
   "metadata": {
    "slideshow": {
     "slide_type": "slide"
    }
   },
   "source": [
    "### Using the `daily_insolation` function"
   ]
  },
  {
   "cell_type": "code",
   "execution_count": null,
   "metadata": {
    "collapsed": true,
    "slideshow": {
     "slide_type": "-"
    }
   },
   "outputs": [],
   "source": [
    "%matplotlib inline\n",
    "import numpy as np\n",
    "import matplotlib.pyplot as plt\n",
    "from climlab import constants as const\n",
    "from climlab.solar.insolation import daily_insolation"
   ]
  },
  {
   "cell_type": "markdown",
   "metadata": {
    "slideshow": {
     "slide_type": "slide"
    }
   },
   "source": [
    "First, get a little help on using the `daily_insolation` function:"
   ]
  },
  {
   "cell_type": "code",
   "execution_count": null,
   "metadata": {},
   "outputs": [],
   "source": [
    "help(daily_insolation)"
   ]
  },
  {
   "cell_type": "markdown",
   "metadata": {
    "slideshow": {
     "slide_type": "slide"
    }
   },
   "source": [
    "Here are a few simple examples.\n",
    "\n",
    "First, compute the daily average insolation at 45ºN on January 1:"
   ]
  },
  {
   "cell_type": "code",
   "execution_count": null,
   "metadata": {},
   "outputs": [],
   "source": [
    "daily_insolation(45,1)"
   ]
  },
  {
   "cell_type": "markdown",
   "metadata": {
    "slideshow": {
     "slide_type": "fragment"
    }
   },
   "source": [
    "Same location, July 1:"
   ]
  },
  {
   "cell_type": "code",
   "execution_count": null,
   "metadata": {},
   "outputs": [],
   "source": [
    "daily_insolation(45,181)"
   ]
  },
  {
   "cell_type": "markdown",
   "metadata": {
    "slideshow": {
     "slide_type": "slide"
    }
   },
   "source": [
    "We could give an array of values. Let's calculate and plot insolation at all latitudes on the spring equinox = March 21 = Day 80"
   ]
  },
  {
   "cell_type": "code",
   "execution_count": null,
   "metadata": {},
   "outputs": [],
   "source": [
    "lat = np.linspace(-90., 90., 30)\n",
    "Q = daily_insolation(lat, 80)\n",
    "fig, ax = plt.subplots()\n",
    "ax.plot(lat,Q)\n",
    "ax.set_xlim(-90,90); ax.set_xticks([-90,-60,-30,-0,30,60,90])\n",
    "ax.set_xlabel('Latitude')\n",
    "ax.set_ylabel('W/m2')\n",
    "ax.grid()\n",
    "ax.set_title('Daily average insolation on March 21');"
   ]
  },
  {
   "cell_type": "markdown",
   "metadata": {
    "slideshow": {
     "slide_type": "slide"
    }
   },
   "source": [
    "### In-class exercises\n",
    "\n",
    "Try to answer the following questions **before reading the rest of these notes**.\n",
    "\n",
    "1. What is the daily insolation today here at Albany (latitude 42.65ºN)?\n",
    "2. What is the **annual mean** insolation at the latitude of Albany?\n",
    "3. At what latitude and at what time of year does the **maximum daily insolation** occur?\n",
    "4. What latitude is experiencing either **polar sunrise** or **polar sunset** today?"
   ]
  },
  {
   "cell_type": "markdown",
   "metadata": {},
   "source": [
    "____________\n",
    "<a id='section3'></a>\n",
    "\n",
    "## 3. Global, seasonal distribution of insolation\n",
    "____________"
   ]
  },
  {
   "cell_type": "markdown",
   "metadata": {
    "slideshow": {
     "slide_type": "-"
    }
   },
   "source": [
    "Calculate an array of insolation over the year and all latitudes (for present-day orbital parameters). We'll use a dense grid in order to make a nice contour plot"
   ]
  },
  {
   "cell_type": "code",
   "execution_count": null,
   "metadata": {
    "collapsed": true
   },
   "outputs": [],
   "source": [
    "lat = np.linspace( -90., 90., 500 )\n",
    "days = np.linspace(0, const.days_per_year, 365 )\n",
    "Q = daily_insolation( lat, days )"
   ]
  },
  {
   "cell_type": "markdown",
   "metadata": {
    "slideshow": {
     "slide_type": "slide"
    }
   },
   "source": [
    "And make a contour plot of Q as function of latitude and time of year."
   ]
  },
  {
   "cell_type": "code",
   "execution_count": null,
   "metadata": {},
   "outputs": [],
   "source": [
    "fig, ax = plt.subplots(figsize=(10,8))\n",
    "CS = ax.contour( days, lat, Q , levels = np.arange(0., 600., 50.) )\n",
    "ax.clabel(CS, CS.levels, inline=True, fmt='%r', fontsize=10)\n",
    "ax.set_xlabel('Days since January 1', fontsize=16 )\n",
    "ax.set_ylabel('Latitude', fontsize=16 )\n",
    "ax.set_title('Daily average insolation', fontsize=24 )\n",
    "ax.contourf ( days, lat, Q, levels=[-1000., 0.], colors='k' )"
   ]
  },
  {
   "cell_type": "markdown",
   "metadata": {
    "slideshow": {
     "slide_type": "slide"
    }
   },
   "source": [
    "### Time and space averages"
   ]
  },
  {
   "cell_type": "markdown",
   "metadata": {},
   "source": [
    "Take the area-weighted global, annual average of Q..."
   ]
  },
  {
   "cell_type": "code",
   "execution_count": null,
   "metadata": {},
   "outputs": [],
   "source": [
    "Qaverage = np.average(np.mean(Q, axis=1), weights=np.cos(np.deg2rad(lat)))\n",
    "print( 'The annual, global average insolation is %.2f W/m2.' %Qaverage)"
   ]
  },
  {
   "cell_type": "markdown",
   "metadata": {
    "slideshow": {
     "slide_type": "slide"
    }
   },
   "source": [
    "Also plot the zonally averaged insolation at a few different times of the year:"
   ]
  },
  {
   "cell_type": "code",
   "execution_count": null,
   "metadata": {},
   "outputs": [],
   "source": [
    "summer_solstice = 170\n",
    "winter_solstice = 353\n",
    "fig, ax = plt.subplots(figsize=(10,8))\n",
    "ax.plot(lat, Q[:, summer_solstice], label='NH summer solstice')\n",
    "ax.plot(lat, Q[:, winter_solstice], label='NH winter solstice')\n",
    "ax.plot( lat, np.mean(Q, axis=1), linewidth=2, label='Annual average')\n",
    "ax.set_xbound(-90, 90)\n",
    "ax.set_xticks( range(-90,100,30) )\n",
    "ax.set_xlabel('Latitude', fontsize=16 );\n",
    "ax.set_ylabel('Insolation (W m$^{-2}$)', fontsize=16 );\n",
    "ax.grid(); ax.legend();\n",
    "ax.set_title('Daily average insolation', fontsize=24)"
   ]
  },
  {
   "cell_type": "code",
   "execution_count": null,
   "metadata": {
    "collapsed": true,
    "slideshow": {
     "slide_type": "skip"
    }
   },
   "outputs": [],
   "source": []
  }
 ],
 "metadata": {
  "anaconda-cloud": {},
  "kernelspec": {
   "display_name": "Python 3",
   "language": "python",
   "name": "python3"
  },
  "language_info": {
   "codemirror_mode": {
    "name": "ipython",
    "version": 3
   },
   "file_extension": ".py",
   "mimetype": "text/x-python",
   "name": "python",
   "nbconvert_exporter": "python",
   "pygments_lexer": "ipython3",
   "version": "3.6.2"
  }
 },
 "nbformat": 4,
 "nbformat_minor": 1
}
