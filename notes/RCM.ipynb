{
 "cells": [
  {
   "cell_type": "markdown",
   "metadata": {},
   "source": [
    "# Fun with a Radiative-Convective Model"
   ]
  },
  {
   "cell_type": "code",
   "execution_count": 3,
   "metadata": {
    "collapsed": true
   },
   "outputs": [],
   "source": [
    "%matplotlib inline\n",
    "import numpy as np\n",
    "import matplotlib.pyplot as plt\n",
    "import climlab\n",
    "from climlab import constants as const"
   ]
  },
  {
   "cell_type": "code",
   "execution_count": 4,
   "metadata": {},
   "outputs": [
    {
     "name": "stdout",
     "output_type": "stream",
     "text": [
      "Getting ozone data from /Users/Brian/anaconda3/lib/python3.6/site-packages/climlab/radiation/data/ozone/apeozone_cam3_5_54.nc\n",
      "climlab Process of type <class 'climlab.process.time_dependent_process.TimeDependentProcess'>. \n",
      "State variables and domain shapes: \n",
      "  Ts: (1,) \n",
      "  Tatm: (30,) \n",
      "  q: (30,) \n",
      "The subprocess tree: \n",
      "top: <class 'climlab.process.time_dependent_process.TimeDependentProcess'>\n",
      "   Radiation: <class 'climlab.radiation.rrtm.rrtmg.RRTMG'>\n",
      "      SW: <class 'climlab.radiation.rrtm.rrtmg_sw.RRTMG_SW'>\n",
      "      LW: <class 'climlab.radiation.rrtm.rrtmg_lw.RRTMG_LW'>\n",
      "   Convection: <class 'climlab.convection.emanuel_convection.EmanuelConvection'>\n",
      "   SHF: <class 'climlab.surface.turbulent.SensibleHeatFlux'>\n",
      "   LHF: <class 'climlab.surface.turbulent.LatentHeatFlux'>\n",
      "\n"
     ]
    }
   ],
   "source": [
    "# Temperatures in a single column\n",
    "full_state = climlab.column_state(num_lev=30, water_depth=2.5)\n",
    "temperature_state = {'Tatm':full_state.Tatm,'Ts':full_state.Ts}\n",
    "#  Initialize a nearly dry column (small background stratospheric humidity)\n",
    "q = np.ones_like(full_state.Tatm) * 5.E-6\n",
    "#  Add specific_humidity to the state dictionary\n",
    "full_state['q'] = q\n",
    "#  ASYNCHRONOUS COUPLING -- the radiation uses a much longer timestep\n",
    "#  The top-level model\n",
    "model = climlab.TimeDependentProcess(state=full_state,\n",
    "                              timestep=const.seconds_per_hour)\n",
    "#  Radiation coupled to water vapor\n",
    "rad = climlab.radiation.RRTMG(state=temperature_state,\n",
    "                              specific_humidity=full_state.q,\n",
    "                              albedo=0.3,\n",
    "                              timestep=const.seconds_per_day\n",
    "                              )\n",
    "#  Convection scheme -- water vapor is a state variable\n",
    "conv = climlab.convection.EmanuelConvection(state=full_state,\n",
    "                              timestep=const.seconds_per_hour)\n",
    "#  Surface heat flux processes\n",
    "shf = climlab.surface.SensibleHeatFlux(state=temperature_state, Cd=0.5E-3,\n",
    "                              timestep=const.seconds_per_hour)\n",
    "lhf = climlab.surface.LatentHeatFlux(state=full_state, Cd=0.5E-3,\n",
    "                              timestep=const.seconds_per_hour)\n",
    "#  Couple all the submodels together\n",
    "model.add_subprocess('Radiation', rad)\n",
    "model.add_subprocess('Convection', conv)\n",
    "model.add_subprocess('SHF', shf)\n",
    "model.add_subprocess('LHF', lhf)\n",
    "print(model)\n"
   ]
  },
  {
   "cell_type": "code",
   "execution_count": null,
   "metadata": {
    "collapsed": true
   },
   "outputs": [],
   "source": []
  }
 ],
 "metadata": {
  "kernelspec": {
   "display_name": "Python 3",
   "language": "python",
   "name": "python3"
  },
  "language_info": {
   "codemirror_mode": {
    "name": "ipython",
    "version": 3
   },
   "file_extension": ".py",
   "mimetype": "text/x-python",
   "name": "python",
   "nbconvert_exporter": "python",
   "pygments_lexer": "ipython3",
   "version": "3.6.3"
  }
 },
 "nbformat": 4,
 "nbformat_minor": 2
}
